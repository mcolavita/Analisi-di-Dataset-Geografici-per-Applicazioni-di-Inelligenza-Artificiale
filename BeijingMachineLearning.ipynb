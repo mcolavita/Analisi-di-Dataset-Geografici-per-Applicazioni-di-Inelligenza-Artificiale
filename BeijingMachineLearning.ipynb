{
 "cells": [
  {
   "cell_type": "code",
   "execution_count": 1,
   "id": "dietary-hammer",
   "metadata": {},
   "outputs": [],
   "source": [
    "import pandas as pd"
   ]
  },
  {
   "cell_type": "code",
   "execution_count": 16,
   "id": "reported-excess",
   "metadata": {},
   "outputs": [
    {
     "data": {
      "text/html": [
       "<div>\n",
       "<style scoped>\n",
       "    .dataframe tbody tr th:only-of-type {\n",
       "        vertical-align: middle;\n",
       "    }\n",
       "\n",
       "    .dataframe tbody tr th {\n",
       "        vertical-align: top;\n",
       "    }\n",
       "\n",
       "    .dataframe thead th {\n",
       "        text-align: right;\n",
       "    }\n",
       "</style>\n",
       "<table border=\"1\" class=\"dataframe\">\n",
       "  <thead>\n",
       "    <tr style=\"text-align: right;\">\n",
       "      <th></th>\n",
       "      <th>geohash_list</th>\n",
       "      <th>StartingVehicles</th>\n",
       "      <th>EndingVehicles</th>\n",
       "      <th>TotNumberRecordVehicles</th>\n",
       "      <th>maxSpeed_km/h</th>\n",
       "      <th>AverageSpeed</th>\n",
       "      <th>OutEdges</th>\n",
       "      <th>InEdges</th>\n",
       "      <th>VehiclesNight(24-5 am)</th>\n",
       "      <th>VehiclesMorning(6-12 am)</th>\n",
       "      <th>...</th>\n",
       "      <th>AverageAcceleration_m/s^2</th>\n",
       "      <th>NumberCulturalPoint(\"Museum-Attraction-Ruins\")</th>\n",
       "      <th>NumberFinancePoint(\"Bank-Company\")</th>\n",
       "      <th>NumberHealthPoint(\"Hospital-Dentist-Pharmacy\")</th>\n",
       "      <th>NumberTrasportationPoint(\"Fuel-BusStation-TaxiStop\")</th>\n",
       "      <th>NumberEducationPoint(\"University-Library\")</th>\n",
       "      <th>NumberEnterteimentPoint(\"Cinema-Theatre-Zoo-Stadium-SwimmingPool\")</th>\n",
       "      <th>NumberWeekPoint(4-5-6-7-8)</th>\n",
       "      <th>NumberWeekendPoint(2-3)</th>\n",
       "      <th>NumberTotalPointInterest</th>\n",
       "    </tr>\n",
       "  </thead>\n",
       "  <tbody>\n",
       "    <tr>\n",
       "      <th>0</th>\n",
       "      <td>wx4es</td>\n",
       "      <td>2</td>\n",
       "      <td>2</td>\n",
       "      <td>437</td>\n",
       "      <td>87.739920</td>\n",
       "      <td>8.385532</td>\n",
       "      <td>2</td>\n",
       "      <td>2</td>\n",
       "      <td>153</td>\n",
       "      <td>164</td>\n",
       "      <td>...</td>\n",
       "      <td>0.027443</td>\n",
       "      <td>5</td>\n",
       "      <td>2</td>\n",
       "      <td>2</td>\n",
       "      <td>3</td>\n",
       "      <td>1</td>\n",
       "      <td>0</td>\n",
       "      <td>340</td>\n",
       "      <td>97</td>\n",
       "      <td>13</td>\n",
       "    </tr>\n",
       "    <tr>\n",
       "      <th>1</th>\n",
       "      <td>wx4f8</td>\n",
       "      <td>80</td>\n",
       "      <td>79</td>\n",
       "      <td>16142</td>\n",
       "      <td>148.981262</td>\n",
       "      <td>14.313472</td>\n",
       "      <td>55</td>\n",
       "      <td>54</td>\n",
       "      <td>2870</td>\n",
       "      <td>4060</td>\n",
       "      <td>...</td>\n",
       "      <td>0.336242</td>\n",
       "      <td>2</td>\n",
       "      <td>1</td>\n",
       "      <td>5</td>\n",
       "      <td>8</td>\n",
       "      <td>0</td>\n",
       "      <td>3</td>\n",
       "      <td>11349</td>\n",
       "      <td>4793</td>\n",
       "      <td>19</td>\n",
       "    </tr>\n",
       "    <tr>\n",
       "      <th>2</th>\n",
       "      <td>wx5n2</td>\n",
       "      <td>0</td>\n",
       "      <td>0</td>\n",
       "      <td>0</td>\n",
       "      <td>NaN</td>\n",
       "      <td>NaN</td>\n",
       "      <td>0</td>\n",
       "      <td>0</td>\n",
       "      <td>0</td>\n",
       "      <td>0</td>\n",
       "      <td>...</td>\n",
       "      <td>NaN</td>\n",
       "      <td>0</td>\n",
       "      <td>0</td>\n",
       "      <td>0</td>\n",
       "      <td>0</td>\n",
       "      <td>0</td>\n",
       "      <td>0</td>\n",
       "      <td>0</td>\n",
       "      <td>0</td>\n",
       "      <td>0</td>\n",
       "    </tr>\n",
       "    <tr>\n",
       "      <th>3</th>\n",
       "      <td>wx5r5</td>\n",
       "      <td>0</td>\n",
       "      <td>0</td>\n",
       "      <td>13</td>\n",
       "      <td>57.600670</td>\n",
       "      <td>16.654790</td>\n",
       "      <td>0</td>\n",
       "      <td>0</td>\n",
       "      <td>0</td>\n",
       "      <td>3</td>\n",
       "      <td>...</td>\n",
       "      <td>0.012960</td>\n",
       "      <td>0</td>\n",
       "      <td>0</td>\n",
       "      <td>0</td>\n",
       "      <td>0</td>\n",
       "      <td>0</td>\n",
       "      <td>0</td>\n",
       "      <td>13</td>\n",
       "      <td>0</td>\n",
       "      <td>0</td>\n",
       "    </tr>\n",
       "    <tr>\n",
       "      <th>4</th>\n",
       "      <td>wx5rx</td>\n",
       "      <td>0</td>\n",
       "      <td>0</td>\n",
       "      <td>0</td>\n",
       "      <td>NaN</td>\n",
       "      <td>NaN</td>\n",
       "      <td>0</td>\n",
       "      <td>0</td>\n",
       "      <td>0</td>\n",
       "      <td>0</td>\n",
       "      <td>...</td>\n",
       "      <td>NaN</td>\n",
       "      <td>0</td>\n",
       "      <td>0</td>\n",
       "      <td>0</td>\n",
       "      <td>0</td>\n",
       "      <td>0</td>\n",
       "      <td>0</td>\n",
       "      <td>0</td>\n",
       "      <td>0</td>\n",
       "      <td>0</td>\n",
       "    </tr>\n",
       "  </tbody>\n",
       "</table>\n",
       "<p>5 rows × 24 columns</p>\n",
       "</div>"
      ],
      "text/plain": [
       "  geohash_list  StartingVehicles  EndingVehicles  TotNumberRecordVehicles  \\\n",
       "0        wx4es                 2               2                      437   \n",
       "1        wx4f8                80              79                    16142   \n",
       "2        wx5n2                 0               0                        0   \n",
       "3        wx5r5                 0               0                       13   \n",
       "4        wx5rx                 0               0                        0   \n",
       "\n",
       "   maxSpeed_km/h  AverageSpeed  OutEdges  InEdges  VehiclesNight(24-5 am)  \\\n",
       "0      87.739920      8.385532         2        2                     153   \n",
       "1     148.981262     14.313472        55       54                    2870   \n",
       "2            NaN           NaN         0        0                       0   \n",
       "3      57.600670     16.654790         0        0                       0   \n",
       "4            NaN           NaN         0        0                       0   \n",
       "\n",
       "   VehiclesMorning(6-12 am)  ...  AverageAcceleration_m/s^2  \\\n",
       "0                       164  ...                   0.027443   \n",
       "1                      4060  ...                   0.336242   \n",
       "2                         0  ...                        NaN   \n",
       "3                         3  ...                   0.012960   \n",
       "4                         0  ...                        NaN   \n",
       "\n",
       "   NumberCulturalPoint(\"Museum-Attraction-Ruins\")  \\\n",
       "0                                               5   \n",
       "1                                               2   \n",
       "2                                               0   \n",
       "3                                               0   \n",
       "4                                               0   \n",
       "\n",
       "   NumberFinancePoint(\"Bank-Company\")  \\\n",
       "0                                   2   \n",
       "1                                   1   \n",
       "2                                   0   \n",
       "3                                   0   \n",
       "4                                   0   \n",
       "\n",
       "   NumberHealthPoint(\"Hospital-Dentist-Pharmacy\")  \\\n",
       "0                                               2   \n",
       "1                                               5   \n",
       "2                                               0   \n",
       "3                                               0   \n",
       "4                                               0   \n",
       "\n",
       "   NumberTrasportationPoint(\"Fuel-BusStation-TaxiStop\")  \\\n",
       "0                                                  3      \n",
       "1                                                  8      \n",
       "2                                                  0      \n",
       "3                                                  0      \n",
       "4                                                  0      \n",
       "\n",
       "   NumberEducationPoint(\"University-Library\")  \\\n",
       "0                                           1   \n",
       "1                                           0   \n",
       "2                                           0   \n",
       "3                                           0   \n",
       "4                                           0   \n",
       "\n",
       "   NumberEnterteimentPoint(\"Cinema-Theatre-Zoo-Stadium-SwimmingPool\")  \\\n",
       "0                                                  0                    \n",
       "1                                                  3                    \n",
       "2                                                  0                    \n",
       "3                                                  0                    \n",
       "4                                                  0                    \n",
       "\n",
       "   NumberWeekPoint(4-5-6-7-8)  NumberWeekendPoint(2-3)  \\\n",
       "0                         340                       97   \n",
       "1                       11349                     4793   \n",
       "2                           0                        0   \n",
       "3                          13                        0   \n",
       "4                           0                        0   \n",
       "\n",
       "   NumberTotalPointInterest  \n",
       "0                        13  \n",
       "1                        19  \n",
       "2                         0  \n",
       "3                         0  \n",
       "4                         0  \n",
       "\n",
       "[5 rows x 24 columns]"
      ]
     },
     "execution_count": 16,
     "metadata": {},
     "output_type": "execute_result"
    }
   ],
   "source": [
    "#Recupero la tabella allArea salvata in beijing.csv\n",
    "allArea = pd.read_csv('Geohash1.csv')\n",
    "del allArea['Unnamed: 0']\n",
    "allArea.head()"
   ]
  },
  {
   "cell_type": "code",
   "execution_count": 17,
   "id": "charitable-hospital",
   "metadata": {},
   "outputs": [],
   "source": [
    "#riempio gli attributi dove è contenuto NaN\n",
    "attributes = [col for col in allArea.columns]\n",
    "\n",
    "allArea[attributes] = allArea[attributes].fillna(0)"
   ]
  },
  {
   "cell_type": "code",
   "execution_count": 4,
   "id": "micro-lexington",
   "metadata": {},
   "outputs": [
    {
     "name": "stdout",
     "output_type": "stream",
     "text": [
      "geohash_list\n",
      "StartingVehicles\n",
      "EndingVehicles\n",
      "TotNumberRecordVehicles\n",
      "maxSpeed_km/h\n",
      "AverageSpeed\n",
      "OutEdges\n",
      "InEdges\n",
      "VehiclesNight(24-5 am)\n",
      "VehiclesMorning(6-12 am)\n",
      "VehiclesAfternoon(13-18 pm)\n",
      "VehiclesEvening(19-23 pm)\n",
      "Density_n/km^2\n",
      "AccelarationMax\n",
      "AverageAcceleration_m/s^2\n",
      "NumberCulturalPoint(\"Museum-Attraction-Ruins\")\n",
      "NumberFinancePoint(\"Bank-Company\")\n",
      "NumberHealthPoint(\"Hospital-Dentist-Pharmacy\")\n",
      "NumberTrasportationPoint(\"Fuel-BusStation-TaxiStop\")\n",
      "NumberEducationPoint(\"University-Library\")\n",
      "NumberEnterteimentPoint(\"Cinema-Theatre-Zoo-Stadium-SwimmingPool\")\n",
      "NumberWeekPoint(4-5-6-7-8)\n",
      "NumberWeekendPoint(2-3)\n",
      "NumberTotalPointInterest\n"
     ]
    }
   ],
   "source": [
    "#Verifico quelli che sono gli attributi all'interno di allArea\n",
    "\n",
    "for c in allArea.columns:\n",
    "    print(c)"
   ]
  },
  {
   "cell_type": "code",
   "execution_count": 18,
   "id": "popular-claim",
   "metadata": {},
   "outputs": [
    {
     "data": {
      "text/html": [
       "<div>\n",
       "<style scoped>\n",
       "    .dataframe tbody tr th:only-of-type {\n",
       "        vertical-align: middle;\n",
       "    }\n",
       "\n",
       "    .dataframe tbody tr th {\n",
       "        vertical-align: top;\n",
       "    }\n",
       "\n",
       "    .dataframe thead th {\n",
       "        text-align: right;\n",
       "    }\n",
       "</style>\n",
       "<table border=\"1\" class=\"dataframe\">\n",
       "  <thead>\n",
       "    <tr style=\"text-align: right;\">\n",
       "      <th></th>\n",
       "      <th>Id</th>\n",
       "      <th>longitude</th>\n",
       "      <th>latitude</th>\n",
       "      <th>District</th>\n",
       "      <th>cluster</th>\n",
       "      <th>address</th>\n",
       "      <th>interess</th>\n",
       "    </tr>\n",
       "  </thead>\n",
       "  <tbody>\n",
       "    <tr>\n",
       "      <th>0</th>\n",
       "      <td>1120</td>\n",
       "      <td>116.41442</td>\n",
       "      <td>39.85614</td>\n",
       "      <td>fengtai</td>\n",
       "      <td>7</td>\n",
       "      <td>南三环中路, 东罗园村, Fengtai District, Beijing, 100075...</td>\n",
       "      <td>NaN</td>\n",
       "    </tr>\n",
       "    <tr>\n",
       "      <th>1</th>\n",
       "      <td>21</td>\n",
       "      <td>116.56620</td>\n",
       "      <td>40.07108</td>\n",
       "      <td>shunyi</td>\n",
       "      <td>3</td>\n",
       "      <td>小王辛庄村, Shunyi District, Beijing, 101312, China</td>\n",
       "      <td>NaN</td>\n",
       "    </tr>\n",
       "    <tr>\n",
       "      <th>2</th>\n",
       "      <td>5324</td>\n",
       "      <td>116.36391</td>\n",
       "      <td>39.96617</td>\n",
       "      <td>xicheng</td>\n",
       "      <td>7</td>\n",
       "      <td>新街口外大街, Haidian District, Beijing, 100875, China</td>\n",
       "      <td>-bank-</td>\n",
       "    </tr>\n",
       "    <tr>\n",
       "      <th>3</th>\n",
       "      <td>5762</td>\n",
       "      <td>116.46485</td>\n",
       "      <td>39.92444</td>\n",
       "      <td>cahoyang</td>\n",
       "      <td>7</td>\n",
       "      <td>South Tuanjiehu Road, Liulitun, Chaoyang Distr...</td>\n",
       "      <td>NaN</td>\n",
       "    </tr>\n",
       "    <tr>\n",
       "      <th>4</th>\n",
       "      <td>10307</td>\n",
       "      <td>116.44034</td>\n",
       "      <td>39.96209</td>\n",
       "      <td>cahoyang</td>\n",
       "      <td>7</td>\n",
       "      <td>Taiyanggong, Chaoyang District, Beijing, 10002...</td>\n",
       "      <td>NaN</td>\n",
       "    </tr>\n",
       "  </tbody>\n",
       "</table>\n",
       "</div>"
      ],
      "text/plain": [
       "      Id  longitude  latitude  District  cluster  \\\n",
       "0   1120  116.41442  39.85614   fengtai        7   \n",
       "1     21  116.56620  40.07108    shunyi        3   \n",
       "2   5324  116.36391  39.96617   xicheng        7   \n",
       "3   5762  116.46485  39.92444  cahoyang        7   \n",
       "4  10307  116.44034  39.96209  cahoyang        7   \n",
       "\n",
       "                                             address interess  \n",
       "0  南三环中路, 东罗园村, Fengtai District, Beijing, 100075...      NaN  \n",
       "1     小王辛庄村, Shunyi District, Beijing, 101312, China      NaN  \n",
       "2   新街口外大街, Haidian District, Beijing, 100875, China   -bank-  \n",
       "3  South Tuanjiehu Road, Liulitun, Chaoyang Distr...      NaN  \n",
       "4  Taiyanggong, Chaoyang District, Beijing, 10002...      NaN  "
      ]
     },
     "execution_count": 18,
     "metadata": {},
     "output_type": "execute_result"
    }
   ],
   "source": [
    "#importo ora uno tra allStart o allEnd (entrambi possiedono id_geohashPartenza ed id_geohashArrivo)\n",
    "allStart = pd.read_csv('allPickup.csv')\n",
    "del allStart['Unnamed: 0']\n",
    "allStart.head()"
   ]
  },
  {
   "cell_type": "code",
   "execution_count": 19,
   "id": "governing-smell",
   "metadata": {},
   "outputs": [],
   "source": [
    "import pygeohash as gh\n",
    "allStart['geohash_area']=allStart.apply(lambda x: gh.encode(x.latitude, x.longitude, precision=5), axis=1)"
   ]
  },
  {
   "cell_type": "code",
   "execution_count": 20,
   "id": "infectious-daniel",
   "metadata": {},
   "outputs": [
    {
     "data": {
      "text/html": [
       "<div>\n",
       "<style scoped>\n",
       "    .dataframe tbody tr th:only-of-type {\n",
       "        vertical-align: middle;\n",
       "    }\n",
       "\n",
       "    .dataframe tbody tr th {\n",
       "        vertical-align: top;\n",
       "    }\n",
       "\n",
       "    .dataframe thead th {\n",
       "        text-align: right;\n",
       "    }\n",
       "</style>\n",
       "<table border=\"1\" class=\"dataframe\">\n",
       "  <thead>\n",
       "    <tr style=\"text-align: right;\">\n",
       "      <th></th>\n",
       "      <th>Id</th>\n",
       "      <th>longitude</th>\n",
       "      <th>latitude</th>\n",
       "      <th>District</th>\n",
       "      <th>cluster</th>\n",
       "      <th>address</th>\n",
       "      <th>interess</th>\n",
       "    </tr>\n",
       "  </thead>\n",
       "  <tbody>\n",
       "    <tr>\n",
       "      <th>0</th>\n",
       "      <td>1120</td>\n",
       "      <td>116.42108</td>\n",
       "      <td>39.93961</td>\n",
       "      <td>dongcheng</td>\n",
       "      <td>9</td>\n",
       "      <td>Dongzhimen Inner Street, Naga上院, Dongcheng Dis...</td>\n",
       "      <td>-bank-police-</td>\n",
       "    </tr>\n",
       "    <tr>\n",
       "      <th>1</th>\n",
       "      <td>21</td>\n",
       "      <td>116.70697</td>\n",
       "      <td>39.72232</td>\n",
       "      <td>tongzhou</td>\n",
       "      <td>3</td>\n",
       "      <td>Tongzhou District, Yujiawu, Beijing, China</td>\n",
       "      <td>NaN</td>\n",
       "    </tr>\n",
       "    <tr>\n",
       "      <th>2</th>\n",
       "      <td>5324</td>\n",
       "      <td>116.37307</td>\n",
       "      <td>39.91673</td>\n",
       "      <td>xicheng</td>\n",
       "      <td>7</td>\n",
       "      <td>Xicheng District, Beijing, 100032, China</td>\n",
       "      <td>NaN</td>\n",
       "    </tr>\n",
       "    <tr>\n",
       "      <th>3</th>\n",
       "      <td>5762</td>\n",
       "      <td>116.52080</td>\n",
       "      <td>40.04511</td>\n",
       "      <td>cahoyang</td>\n",
       "      <td>3</td>\n",
       "      <td>Sunhe, Chaoyang District, Beijing, 100103, China</td>\n",
       "      <td>NaN</td>\n",
       "    </tr>\n",
       "    <tr>\n",
       "      <th>4</th>\n",
       "      <td>10307</td>\n",
       "      <td>116.44020</td>\n",
       "      <td>39.96455</td>\n",
       "      <td>cahoyang</td>\n",
       "      <td>9</td>\n",
       "      <td>西坝河东里小区, Taiyanggong, Chaoyang District, Beiji...</td>\n",
       "      <td>NaN</td>\n",
       "    </tr>\n",
       "  </tbody>\n",
       "</table>\n",
       "</div>"
      ],
      "text/plain": [
       "      Id  longitude  latitude   District  cluster  \\\n",
       "0   1120  116.42108  39.93961  dongcheng        9   \n",
       "1     21  116.70697  39.72232   tongzhou        3   \n",
       "2   5324  116.37307  39.91673    xicheng        7   \n",
       "3   5762  116.52080  40.04511   cahoyang        3   \n",
       "4  10307  116.44020  39.96455   cahoyang        9   \n",
       "\n",
       "                                             address       interess  \n",
       "0  Dongzhimen Inner Street, Naga上院, Dongcheng Dis...  -bank-police-  \n",
       "1         Tongzhou District, Yujiawu, Beijing, China            NaN  \n",
       "2           Xicheng District, Beijing, 100032, China            NaN  \n",
       "3   Sunhe, Chaoyang District, Beijing, 100103, China            NaN  \n",
       "4  西坝河东里小区, Taiyanggong, Chaoyang District, Beiji...            NaN  "
      ]
     },
     "execution_count": 20,
     "metadata": {},
     "output_type": "execute_result"
    }
   ],
   "source": [
    "allEnd = pd.read_csv('allDropoff.csv')\n",
    "del allEnd['Unnamed: 0']\n",
    "allEnd.head()"
   ]
  },
  {
   "cell_type": "code",
   "execution_count": 21,
   "id": "southeast-mirror",
   "metadata": {},
   "outputs": [],
   "source": [
    "allEnd['geohash_area']=allEnd.apply(lambda x: gh.encode(x.latitude, x.longitude, precision=5), axis=1)"
   ]
  },
  {
   "cell_type": "code",
   "execution_count": 22,
   "id": "convertible-riding",
   "metadata": {},
   "outputs": [],
   "source": [
    "allStart['end'] = allEnd['geohash_area']"
   ]
  },
  {
   "cell_type": "code",
   "execution_count": 10,
   "id": "recreational-consortium",
   "metadata": {},
   "outputs": [],
   "source": [
    "#creo le liste id partenza ed arrivo per area\n",
    "\n",
    "i = 0\n",
    "idPartenza = []\n",
    "idArrivo = []\n",
    "allAreaLen = len(allArea['geohash_list'])\n",
    "while(i<allAreaLen):\n",
    "    j=0\n",
    "    while(j<allAreaLen):\n",
    "        idPartenza.append(allArea['geohash_list'][i])\n",
    "        idArrivo.append(allArea['geohash_list'][j])\n",
    "        j=j+1\n",
    "    i=i+1"
   ]
  },
  {
   "cell_type": "code",
   "execution_count": 11,
   "id": "vocal-township",
   "metadata": {},
   "outputs": [
    {
     "data": {
      "text/html": [
       "<div>\n",
       "<style scoped>\n",
       "    .dataframe tbody tr th:only-of-type {\n",
       "        vertical-align: middle;\n",
       "    }\n",
       "\n",
       "    .dataframe tbody tr th {\n",
       "        vertical-align: top;\n",
       "    }\n",
       "\n",
       "    .dataframe thead th {\n",
       "        text-align: right;\n",
       "    }\n",
       "</style>\n",
       "<table border=\"1\" class=\"dataframe\">\n",
       "  <thead>\n",
       "    <tr style=\"text-align: right;\">\n",
       "      <th></th>\n",
       "      <th>IdPartenza</th>\n",
       "      <th>IdArrivo</th>\n",
       "    </tr>\n",
       "  </thead>\n",
       "  <tbody>\n",
       "    <tr>\n",
       "      <th>0</th>\n",
       "      <td>wx4es</td>\n",
       "      <td>wx4es</td>\n",
       "    </tr>\n",
       "    <tr>\n",
       "      <th>1</th>\n",
       "      <td>wx4es</td>\n",
       "      <td>wx4f8</td>\n",
       "    </tr>\n",
       "    <tr>\n",
       "      <th>2</th>\n",
       "      <td>wx4es</td>\n",
       "      <td>wx5n2</td>\n",
       "    </tr>\n",
       "    <tr>\n",
       "      <th>3</th>\n",
       "      <td>wx4es</td>\n",
       "      <td>wx5r5</td>\n",
       "    </tr>\n",
       "    <tr>\n",
       "      <th>4</th>\n",
       "      <td>wx4es</td>\n",
       "      <td>wx5rx</td>\n",
       "    </tr>\n",
       "  </tbody>\n",
       "</table>\n",
       "</div>"
      ],
      "text/plain": [
       "  IdPartenza IdArrivo\n",
       "0      wx4es    wx4es\n",
       "1      wx4es    wx4f8\n",
       "2      wx4es    wx5n2\n",
       "3      wx4es    wx5r5\n",
       "4      wx4es    wx5rx"
      ]
     },
     "execution_count": 11,
     "metadata": {},
     "output_type": "execute_result"
    }
   ],
   "source": [
    "#creo il dataframe che contiene idPartenza idArrivo e flusso\n",
    "df1 = pd.DataFrame()\n",
    "df1['IdPartenza'] = idPartenza\n",
    "df1['IdArrivo'] = idArrivo\n",
    "df1.head()"
   ]
  },
  {
   "cell_type": "code",
   "execution_count": 12,
   "id": "precise-bidding",
   "metadata": {},
   "outputs": [],
   "source": [
    "#mi manca da calcolare il numero di veicoli che partono da IdPartenza_i ed arrivano ad IdArrivo_i\n",
    "i = 0\n",
    "result = []\n",
    "alldf1Len = len(df1['IdArrivo'])\n",
    "while(i<alldf1Len):\n",
    "    areaPartenza = allStart[allStart.geohash_area == df1['IdPartenza'][i]]\n",
    "    areaPartenza1 = areaPartenza[areaPartenza.end == df1['IdArrivo'][i]]\n",
    "    \n",
    "    result.append(len(areaPartenza1))\n",
    "\n",
    "    i=i+1"
   ]
  },
  {
   "cell_type": "code",
   "execution_count": 13,
   "id": "sexual-polish",
   "metadata": {},
   "outputs": [
    {
     "data": {
      "text/html": [
       "<div>\n",
       "<style scoped>\n",
       "    .dataframe tbody tr th:only-of-type {\n",
       "        vertical-align: middle;\n",
       "    }\n",
       "\n",
       "    .dataframe tbody tr th {\n",
       "        vertical-align: top;\n",
       "    }\n",
       "\n",
       "    .dataframe thead th {\n",
       "        text-align: right;\n",
       "    }\n",
       "</style>\n",
       "<table border=\"1\" class=\"dataframe\">\n",
       "  <thead>\n",
       "    <tr style=\"text-align: right;\">\n",
       "      <th></th>\n",
       "      <th>IdPartenza</th>\n",
       "      <th>IdArrivo</th>\n",
       "      <th>y</th>\n",
       "    </tr>\n",
       "  </thead>\n",
       "  <tbody>\n",
       "    <tr>\n",
       "      <th>0</th>\n",
       "      <td>wx4es</td>\n",
       "      <td>wx4es</td>\n",
       "      <td>0</td>\n",
       "    </tr>\n",
       "    <tr>\n",
       "      <th>1</th>\n",
       "      <td>wx4es</td>\n",
       "      <td>wx4f8</td>\n",
       "      <td>0</td>\n",
       "    </tr>\n",
       "    <tr>\n",
       "      <th>2</th>\n",
       "      <td>wx4es</td>\n",
       "      <td>wx5n2</td>\n",
       "      <td>0</td>\n",
       "    </tr>\n",
       "    <tr>\n",
       "      <th>3</th>\n",
       "      <td>wx4es</td>\n",
       "      <td>wx5r5</td>\n",
       "      <td>0</td>\n",
       "    </tr>\n",
       "    <tr>\n",
       "      <th>4</th>\n",
       "      <td>wx4es</td>\n",
       "      <td>wx5rx</td>\n",
       "      <td>0</td>\n",
       "    </tr>\n",
       "    <tr>\n",
       "      <th>...</th>\n",
       "      <td>...</td>\n",
       "      <td>...</td>\n",
       "      <td>...</td>\n",
       "    </tr>\n",
       "    <tr>\n",
       "      <th>1216604</th>\n",
       "      <td>wx441</td>\n",
       "      <td>wx43m</td>\n",
       "      <td>0</td>\n",
       "    </tr>\n",
       "    <tr>\n",
       "      <th>1216605</th>\n",
       "      <td>wx441</td>\n",
       "      <td>wx41j</td>\n",
       "      <td>0</td>\n",
       "    </tr>\n",
       "    <tr>\n",
       "      <th>1216606</th>\n",
       "      <td>wx441</td>\n",
       "      <td>wx4f3</td>\n",
       "      <td>0</td>\n",
       "    </tr>\n",
       "    <tr>\n",
       "      <th>1216607</th>\n",
       "      <td>wx441</td>\n",
       "      <td>wx4zk</td>\n",
       "      <td>0</td>\n",
       "    </tr>\n",
       "    <tr>\n",
       "      <th>1216608</th>\n",
       "      <td>wx441</td>\n",
       "      <td>wx441</td>\n",
       "      <td>0</td>\n",
       "    </tr>\n",
       "  </tbody>\n",
       "</table>\n",
       "<p>1216609 rows × 3 columns</p>\n",
       "</div>"
      ],
      "text/plain": [
       "        IdPartenza IdArrivo  y\n",
       "0            wx4es    wx4es  0\n",
       "1            wx4es    wx4f8  0\n",
       "2            wx4es    wx5n2  0\n",
       "3            wx4es    wx5r5  0\n",
       "4            wx4es    wx5rx  0\n",
       "...            ...      ... ..\n",
       "1216604      wx441    wx43m  0\n",
       "1216605      wx441    wx41j  0\n",
       "1216606      wx441    wx4f3  0\n",
       "1216607      wx441    wx4zk  0\n",
       "1216608      wx441    wx441  0\n",
       "\n",
       "[1216609 rows x 3 columns]"
      ]
     },
     "execution_count": 13,
     "metadata": {},
     "output_type": "execute_result"
    }
   ],
   "source": [
    "df1['y'] = result\n",
    "df1"
   ]
  },
  {
   "cell_type": "code",
   "execution_count": 14,
   "id": "specific-motion",
   "metadata": {},
   "outputs": [],
   "source": [
    "#primo dataframe creato, ora dovrei fare un merge tra allArea e df1\n",
    "#difficile che si possa fare con qualche libreria, dovrei utilizzare una funzione\n",
    "\n",
    "df2 = pd.DataFrame()\n",
    "\n",
    "df2['idPartenza'] = idPartenza\n",
    "df2['idArrivo'] = idArrivo"
   ]
  },
  {
   "cell_type": "code",
   "execution_count": null,
   "id": "phantom-success",
   "metadata": {},
   "outputs": [],
   "source": [
    "#creare il grande dataframe per effettuare training e test\n",
    "i = 0\n",
    "StartingVehicleA = []\n",
    "EndingVehicles =[]\n",
    "TotNumberRecordVehicles =[]\n",
    "maxSpeed_km =[]\n",
    "AverageSpeed =[]\n",
    "OutEdges =[]\n",
    "InEdges =[]\n",
    "VehiclesNight =[]\n",
    "VehiclesMorning =[]\n",
    "VehiclesAfternoon =[]\n",
    "VehiclesEvening =[]\n",
    "Density_n =[]\n",
    "AccelarationMax =[]\n",
    "AverageAcceleration =[]\n",
    "NumberTotalPointInterest =[]\n",
    "NumberCulturalPoint =[]\n",
    "NumberFinancePoint =[]\n",
    "NumberHealthPoint =[]\n",
    "NumberTrasportationPoint =[]\n",
    "NumberEducationPoint = []\n",
    "NumberEnterteimentPoint = []\n",
    "RecordWeekend =[]\n",
    "RecordWeek =[]\n",
    "\n",
    "StartingVehicleB = []\n",
    "EndingVehiclesB =[]\n",
    "TotNumberRecordVehiclesB =[]\n",
    "maxSpeed_kmB =[]\n",
    "AverageSpeedB =[]\n",
    "OutEdgesB =[]\n",
    "InEdgesB =[]\n",
    "VehiclesNightB =[]\n",
    "VehiclesMorningB =[]\n",
    "VehiclesAfternoonB =[]\n",
    "VehiclesEveningB =[]\n",
    "Density_nB =[]\n",
    "AccelarationMaxB =[]\n",
    "AverageAcceleration_mB =[]\n",
    "NumberTotalPointInterestB =[]\n",
    "NumberCulturalPointB =[]\n",
    "NumberFinancePointB =[]\n",
    "NumberHealthPointB =[]\n",
    "NumberTrasportationPointB =[]\n",
    "NumberEducationPointB =[]\n",
    "NumberEnterteimentPointB =[]\n",
    "RecordWeekendB =[]\n",
    "RecordWeekB =[]\n",
    "\n",
    "\n",
    "allAreaLen = len(allArea['geohash_list'])\n",
    "while(i<allAreaLen):\n",
    "    j=0\n",
    "    while(j<allAreaLen):\n",
    "        \n",
    "        StartingVehicleA.append(allArea['StartingVehicles'][i])\n",
    "        EndingVehicles.append(allArea['EndingVehicles'][i])\n",
    "        TotNumberRecordVehicles.append(allArea['TotNumberRecordVehicles'][i])\n",
    "        maxSpeed_km.append(allArea['maxSpeed_km/h'][i])\n",
    "        AverageSpeed.append(allArea['AverageSpeed'][i])\n",
    "        OutEdges.append(allArea['OutEdges'][i])\n",
    "        InEdges.append(allArea['InEdges'][i])\n",
    "        VehiclesNight.append(allArea['VehiclesNight(24-5 am)'][i])\n",
    "        VehiclesMorning.append(allArea['VehiclesMorning(6-12 am)'][i])\n",
    "        VehiclesAfternoon.append(allArea['VehiclesAfternoon(13-18 pm)'][i])\n",
    "        VehiclesEvening.append(allArea['VehiclesEvening(19-23 pm)'][i])\n",
    "        Density_n.append(allArea['Density_n/km^2'][i])\n",
    "        AccelarationMax.append(allArea['AccelarationMax'][i])\n",
    "        AverageAcceleration.append(allArea['AverageAcceleration_m/s^2'][i])\n",
    "        NumberTotalPointInterest.append(allArea['NumberTotalPointInterest'][i])\n",
    "        NumberCulturalPoint.append(allArea['NumberCulturalPoint(\"Museum-Attraction-Ruins\")'][i])\n",
    "        NumberEducationPoint.append(allArea['NumberEducationPoint(\"University-Library\")'][i])\n",
    "        NumberEnterteimentPoint.append(allArea['NumberEnterteimentPoint(\"Cinema-Theatre-Zoo-Stadium-SwimmingPool\")'][i])\n",
    "        NumberFinancePoint.append(allArea['NumberFinancePoint(\"Bank-Company\")'][i])\n",
    "        NumberHealthPoint.append(allArea['NumberHealthPoint(\"Hospital-Dentist-Pharmacy\")'][i])\n",
    "        NumberTrasportationPoint.append(allArea['NumberTrasportationPoint(\"Fuel-BusStation-TaxiStop\")'][i])\n",
    "        RecordWeekend.append(allArea['NumberWeekendPoint(2-3)'][i])\n",
    "        RecordWeek.append(allArea['NumberWeekPoint(4-5-6-7-8)'][i])\n",
    "        \n",
    "        \n",
    "        \n",
    "        \n",
    "        \n",
    "        \n",
    "        #B\n",
    "        \n",
    "        \n",
    "        StartingVehicleB.append(allArea['StartingVehicles'][j])\n",
    "        EndingVehiclesB.append(allArea['EndingVehicles'][j])\n",
    "        TotNumberRecordVehiclesB.append(allArea['TotNumberRecordVehicles'][j])\n",
    "        maxSpeed_kmB.append(allArea['maxSpeed_km/h'][j])\n",
    "        AverageSpeedB.append(allArea['AverageSpeed'][j])\n",
    "        OutEdgesB.append(allArea['OutEdges'][j])\n",
    "        InEdgesB.append(allArea['InEdges'][j])\n",
    "        VehiclesNightB.append(allArea['VehiclesNight(24-5 am)'][j])\n",
    "        VehiclesMorningB.append(allArea['VehiclesMorning(6-12 am)'][j])\n",
    "        VehiclesAfternoonB.append(allArea['VehiclesAfternoon(13-18 pm)'][j])\n",
    "        VehiclesEveningB.append(allArea['VehiclesEvening(19-23 pm)'][j])\n",
    "        Density_nB.append(allArea['Density_n/km^2'][j])\n",
    "        AccelarationMaxB.append(allArea['AccelarationMax'][j])\n",
    "        AverageAcceleration_mB.append(allArea['AverageAcceleration_m/s^2'][j])\n",
    "        NumberTotalPointInterestB.append(allArea['NumberTotalPointInterest'][j])\n",
    "        NumberCulturalPointB.append(allArea['NumberCulturalPoint(\"Museum-Attraction-Ruins\")'][j])\n",
    "        NumberEducationPointB.append(allArea['NumberEducationPoint(\"University-Library\")'][j])\n",
    "        NumberEnterteimentPointB.append(allArea['NumberEnterteimentPoint(\"Cinema-Theatre-Zoo-Stadium-SwimmingPool\")'][j])\n",
    "        NumberFinancePointB.append(allArea['NumberFinancePoint(\"Bank-Company\")'][j])\n",
    "        NumberHealthPointB.append(allArea['NumberHealthPoint(\"Hospital-Dentist-Pharmacy\")'][j])\n",
    "        NumberTrasportationPointB.append(allArea['NumberTrasportationPoint(\"Fuel-BusStation-TaxiStop\")'][j])\n",
    "        RecordWeekendB.append(allArea['NumberWeekendPoint(2-3)'][j])\n",
    "        RecordWeekB.append(allArea['NumberWeekPoint(4-5-6-7-8)'][j])\n",
    "        \n",
    "        \n",
    "        \n",
    "        \n",
    "        j=j+1\n",
    "    i=i+1"
   ]
  },
  {
   "cell_type": "code",
   "execution_count": null,
   "id": "returning-sterling",
   "metadata": {},
   "outputs": [],
   "source": [
    "df2['StartingVehiclesA'] = StartingVehicleA\n",
    "df2['EndingVehiclesA'] = EndingVehicles\n",
    "df2['TotNumberRecordVehiclesA'] = TotNumberRecordVehicles\n",
    "df2['maxSpeedKm/hA'] = maxSpeed_km\n",
    "df2['AverageSpeedA'] = AverageSpeed\n",
    "df2['OutEdgesA'] =OutEdges\n",
    "df2['InEdgesA'] =InEdges\n",
    "df2['VehiclesNightA'] = VehiclesNight\n",
    "df2['VehiclesMorningA'] =VehiclesMorning\n",
    "df2['VehiclesAfternoonA'] = VehiclesAfternoon\n",
    "df2['VehiclesEveningA'] =VehiclesEvening\n",
    "df2['Density_n/km^2A'] =Density_n\n",
    "df2['AccelerationMaxA'] = AccelarationMax\n",
    "df2['AverageAccelerationA'] = AverageAcceleration\n",
    "df2['NumberTotalPointInterestA'] = NumberTotalPointInterest\n",
    "df2['NumberCulturalPointA'] = NumberCulturalPoint\n",
    "df2['NumberEducationPointA']= NumberEducationPoint\n",
    "df2['NumberEnterteimentPointA'] = NumberEnterteimentPoint\n",
    "df2['NumberFinancePointA'] = NumberFinancePoint\n",
    "df2['NumberHealthPointA'] = NumberHealthPoint\n",
    "df2['NumberTrasportationPointA'] = NumberTrasportationPoint\n",
    "df2['RecordWeekendA'] = RecordWeekend\n",
    "df2['RecordWeekA'] = RecordWeek\n",
    "\n",
    "\n",
    "#B\n",
    "\n",
    "df2['StartingVehiclesB'] = StartingVehicleB\n",
    "df2['EndingVehiclesB'] = EndingVehiclesB\n",
    "df2['TotNumberRecordVehiclesB'] = TotNumberRecordVehiclesB\n",
    "df2['maxSpeedKm/hB'] = maxSpeed_kmB\n",
    "df2['AverageSpeedB'] = AverageSpeedB\n",
    "df2['OutEdgesB'] =OutEdgesB\n",
    "df2['InEdgesB'] =InEdgesB\n",
    "df2['VehiclesNightB'] = VehiclesNightB\n",
    "df2['VehiclesMorningB'] =VehiclesMorningB\n",
    "df2['VehiclesAfternoonB'] = VehiclesAfternoonB\n",
    "df2['VehiclesEveningB'] =VehiclesEveningB\n",
    "df2['Density_n/km^2B'] =Density_nB\n",
    "df2['AccelerationMaxB'] = AccelarationMaxB\n",
    "df2['AverageAccelerationB'] = AverageAcceleration_mB\n",
    "df2['NumberTotalPointInterestB'] = NumberTotalPointInterestB\n",
    "df2['NumberCulturalPointB'] = NumberCulturalPointB\n",
    "df2['NumberEducationPointB'] = NumberEducationPointB\n",
    "df2['NumberEnterteimentPointB'] = NumberEnterteimentPointB\n",
    "df2['NumberFinancePointB'] = NumberFinancePointB\n",
    "df2['NumberHealthPointB'] = NumberHealthPointB\n",
    "df2['NumberTrasportationPointB'] = NumberTrasportationPointB\n",
    "df2['RecordWeekendB'] = RecordWeekendB\n",
    "df2['RecordWeekB'] = RecordWeekB\n",
    "\n"
   ]
  },
  {
   "cell_type": "code",
   "execution_count": null,
   "id": "tight-squad",
   "metadata": {},
   "outputs": [],
   "source": [
    "df2"
   ]
  },
  {
   "cell_type": "code",
   "execution_count": null,
   "id": "female-reconstruction",
   "metadata": {},
   "outputs": [],
   "source": [
    "df2['y'] = df1['y']"
   ]
  },
  {
   "cell_type": "code",
   "execution_count": null,
   "id": "distant-multimedia",
   "metadata": {},
   "outputs": [],
   "source": [
    "df2.to_csv('y.csv')"
   ]
  },
  {
   "cell_type": "code",
   "execution_count": 1,
   "id": "attached-hotel",
   "metadata": {},
   "outputs": [],
   "source": [
    "import pandas as pd\n",
    "df2 = pd.read_csv('y.csv')"
   ]
  },
  {
   "cell_type": "code",
   "execution_count": 2,
   "id": "curious-buyer",
   "metadata": {},
   "outputs": [],
   "source": [
    "del df2['idPartenza']\n",
    "del df2['Unnamed: 0']\n",
    "del df2['idArrivo']"
   ]
  },
  {
   "cell_type": "markdown",
   "id": "inner-question",
   "metadata": {},
   "source": [
    "# Train & test split"
   ]
  },
  {
   "cell_type": "code",
   "execution_count": 3,
   "id": "composite-active",
   "metadata": {},
   "outputs": [],
   "source": [
    "#divido il dataframe in train e test\n",
    "from sklearn.model_selection import train_test_split\n",
    "\n",
    "class_name = 'y'\n",
    "\n",
    "attributes = [col for col in df2.columns if col != class_name]\n",
    "X = df2[attributes].values\n",
    "y=df2[class_name]\n",
    "\n",
    "X_train, X_test, y_train, y_test = train_test_split(X, y, test_size=0.3,random_state=100)"
   ]
  },
  {
   "cell_type": "code",
   "execution_count": 4,
   "id": "compliant-transition",
   "metadata": {},
   "outputs": [],
   "source": [
    "#normalizzazione dati\n",
    "from sklearn.preprocessing import MinMaxScaler, StandardScaler\n",
    "scaler = StandardScaler()\n",
    "\n",
    "\n",
    "X_train_s = scaler.fit_transform(X_train)\n",
    "X_test_s=scaler.transform(X_test)"
   ]
  },
  {
   "cell_type": "code",
   "execution_count": 5,
   "id": "chronic-arctic",
   "metadata": {},
   "outputs": [],
   "source": [
    "from sklearn.metrics import mean_absolute_error, mean_squared_error, r2_score"
   ]
  },
  {
   "cell_type": "markdown",
   "id": "worth-petroleum",
   "metadata": {},
   "source": [
    "# KNN"
   ]
  },
  {
   "cell_type": "code",
   "execution_count": 6,
   "id": "republican-baking",
   "metadata": {},
   "outputs": [],
   "source": [
    "from sklearn.neighbors import KNeighborsClassifier, KNeighborsRegressor\n",
    "\n"
   ]
  },
  {
   "cell_type": "code",
   "execution_count": 7,
   "id": "unique-university",
   "metadata": {},
   "outputs": [
    {
     "name": "stdout",
     "output_type": "stream",
     "text": [
      "start\n",
      "1\n",
      "R2: -0.175\n",
      "MSE: 0.025\n",
      "MAE: 0.004\n",
      "2\n",
      "R2: 0.003\n",
      "MSE: 0.021\n",
      "MAE: 0.004\n",
      "3\n",
      "R2: 0.065\n",
      "MSE: 0.020\n",
      "MAE: 0.004\n",
      "4\n",
      "R2: 0.114\n",
      "MSE: 0.019\n",
      "MAE: 0.004\n",
      "5\n",
      "R2: 0.110\n",
      "MSE: 0.019\n",
      "MAE: 0.004\n",
      "6\n",
      "R2: 0.128\n",
      "MSE: 0.019\n",
      "MAE: 0.004\n",
      "7\n",
      "R2: 0.135\n",
      "MSE: 0.019\n",
      "MAE: 0.004\n",
      "8\n",
      "R2: 0.155\n",
      "MSE: 0.018\n",
      "MAE: 0.004\n",
      "9\n",
      "R2: 0.190\n",
      "MSE: 0.017\n",
      "MAE: 0.004\n",
      "10\n",
      "R2: 0.206\n",
      "MSE: 0.017\n",
      "MAE: 0.004\n",
      "11\n",
      "R2: 0.214\n",
      "MSE: 0.017\n",
      "MAE: 0.004\n",
      "12\n",
      "R2: 0.211\n",
      "MSE: 0.017\n",
      "MAE: 0.004\n",
      "13\n",
      "R2: 0.204\n",
      "MSE: 0.017\n",
      "MAE: 0.004\n",
      "14\n",
      "R2: 0.223\n",
      "MSE: 0.017\n",
      "MAE: 0.004\n",
      "15\n",
      "R2: 0.224\n",
      "MSE: 0.017\n",
      "MAE: 0.004\n",
      "16\n",
      "R2: 0.223\n",
      "MSE: 0.017\n",
      "MAE: 0.004\n",
      "17\n",
      "R2: 0.220\n",
      "MSE: 0.017\n",
      "MAE: 0.004\n",
      "18\n",
      "R2: 0.221\n",
      "MSE: 0.017\n",
      "MAE: 0.004\n",
      "19\n",
      "R2: 0.219\n",
      "MSE: 0.017\n",
      "MAE: 0.004\n",
      "20\n",
      "R2: 0.219\n",
      "MSE: 0.017\n",
      "MAE: 0.004\n",
      "21\n",
      "R2: 0.218\n",
      "MSE: 0.017\n",
      "MAE: 0.004\n",
      "22\n",
      "R2: 0.247\n",
      "MSE: 0.016\n",
      "MAE: 0.004\n",
      "23\n",
      "R2: 0.250\n",
      "MSE: 0.016\n",
      "MAE: 0.004\n",
      "24\n",
      "R2: 0.247\n",
      "MSE: 0.016\n",
      "MAE: 0.004\n",
      "25\n",
      "R2: 0.245\n",
      "MSE: 0.016\n",
      "MAE: 0.004\n",
      "26\n",
      "R2: 0.243\n",
      "MSE: 0.016\n",
      "MAE: 0.004\n",
      "27\n",
      "R2: 0.247\n",
      "MSE: 0.016\n",
      "MAE: 0.004\n",
      "28\n",
      "R2: 0.245\n",
      "MSE: 0.016\n",
      "MAE: 0.004\n",
      "29\n",
      "R2: 0.244\n",
      "MSE: 0.016\n",
      "MAE: 0.004\n"
     ]
    }
   ],
   "source": [
    "errorMAE = []\n",
    "errorMSE = []\n",
    "errorR2 = []\n",
    "print('start')\n",
    "\n",
    "for k in range(1,30):\n",
    "    knn = KNeighborsRegressor(n_neighbors=k,n_jobs=4,algorithm='kd_tree')\n",
    "    knn.fit(X_train_s,y_train)\n",
    "    y_pred = knn.predict(X_test_s)\n",
    "    print(k)\n",
    "    print('R2: %.3f' % r2_score(y_test, y_pred))\n",
    "    print('MSE: %.3f' % mean_squared_error(y_test, y_pred))\n",
    "    print('MAE: %.3f' % mean_absolute_error(y_test, y_pred))\n",
    "    errorMAE.append(mean_absolute_error(y_test,y_pred))\n",
    "    errorMSE.append(mean_squared_error(y_test,y_pred))\n",
    "    errorR2.append(r2_score(y_test,y_pred)) "
   ]
  },
  {
   "cell_type": "code",
   "execution_count": 8,
   "id": "narrow-territory",
   "metadata": {},
   "outputs": [
    {
     "data": {
      "text/plain": [
       "[<matplotlib.lines.Line2D at 0x7fc35f944e50>]"
      ]
     },
     "execution_count": 8,
     "metadata": {},
     "output_type": "execute_result"
    },
    {
     "data": {
      "image/png": "[encoded data removed]",
      "text/plain": [
       "<Figure size 720x720 with 1 Axes>"
      ]
     },
     "metadata": {
      "needs_background": "light"
     },
     "output_type": "display_data"
    }
   ],
   "source": [
    "import matplotlib.pyplot as plt\n",
    "\n",
    "plt.rcParams[\"figure.figsize\"] = (10, 10)\n",
    "plt.plot(range(1,30),errorMAE,'bo')\n",
    "plt.plot(range(1,30),errorMSE,'go')\n",
    "plt.plot(range(1,30),errorR2,'ro')"
   ]
  },
  {
   "cell_type": "markdown",
   "id": "traditional-guinea",
   "metadata": {},
   "source": [
    "# Regressione Lineare"
   ]
  },
  {
   "cell_type": "code",
   "execution_count": 8,
   "id": "narrative-bouquet",
   "metadata": {},
   "outputs": [
    {
     "data": {
      "text/plain": [
       "LinearRegression()"
      ]
     },
     "execution_count": 8,
     "metadata": {},
     "output_type": "execute_result"
    }
   ],
   "source": [
    "from sklearn.linear_model import LinearRegression, Ridge, Lasso\n",
    "reg = LinearRegression()\n",
    "reg.fit(X_train_s, y_train)"
   ]
  },
  {
   "cell_type": "code",
   "execution_count": 9,
   "id": "shared-spring",
   "metadata": {},
   "outputs": [],
   "source": [
    "y_pred = reg.predict(X_test_s)"
   ]
  },
  {
   "cell_type": "code",
   "execution_count": 10,
   "id": "widespread-drove",
   "metadata": {},
   "outputs": [
    {
     "name": "stdout",
     "output_type": "stream",
     "text": [
      "R2: 0.016\n",
      "MSE: 0.021\n",
      "MAE: 0.010\n"
     ]
    }
   ],
   "source": [
    "print('R2: %.3f' % r2_score(y_test, y_pred))\n",
    "print('MSE: %.3f' % mean_squared_error(y_test, y_pred))\n",
    "print('MAE: %.3f' % mean_absolute_error(y_test, y_pred))"
   ]
  },
  {
   "cell_type": "markdown",
   "id": "jewish-florida",
   "metadata": {},
   "source": [
    "# Lasso"
   ]
  },
  {
   "cell_type": "code",
   "execution_count": 11,
   "id": "received-jurisdiction",
   "metadata": {},
   "outputs": [
    {
     "data": {
      "text/plain": [
       "Lasso()"
      ]
     },
     "execution_count": 11,
     "metadata": {},
     "output_type": "execute_result"
    }
   ],
   "source": [
    "reg = Lasso()\n",
    "reg.fit(X_train_s,y_train)"
   ]
  },
  {
   "cell_type": "code",
   "execution_count": 12,
   "id": "retired-department",
   "metadata": {},
   "outputs": [],
   "source": [
    "y_pred = reg.predict(X_test_s)"
   ]
  },
  {
   "cell_type": "code",
   "execution_count": 13,
   "id": "illegal-fighter",
   "metadata": {},
   "outputs": [
    {
     "name": "stdout",
     "output_type": "stream",
     "text": [
      "R2: -0.000\n",
      "MSE: 0.022\n",
      "MAE: 0.007\n"
     ]
    }
   ],
   "source": [
    "print('R2: %.3f' % r2_score(y_test, y_pred))\n",
    "print('MSE: %.3f' % mean_squared_error(y_test, y_pred))\n",
    "print('MAE: %.3f' % mean_absolute_error(y_test, y_pred))"
   ]
  },
  {
   "cell_type": "markdown",
   "id": "future-nightmare",
   "metadata": {},
   "source": [
    "# Ridge"
   ]
  },
  {
   "cell_type": "code",
   "execution_count": 14,
   "id": "verbal-freeware",
   "metadata": {},
   "outputs": [
    {
     "data": {
      "text/plain": [
       "Ridge()"
      ]
     },
     "execution_count": 14,
     "metadata": {},
     "output_type": "execute_result"
    }
   ],
   "source": [
    "reg = Ridge()\n",
    "reg.fit(X_train_s,y_train)"
   ]
  },
  {
   "cell_type": "code",
   "execution_count": 15,
   "id": "unnecessary-miracle",
   "metadata": {},
   "outputs": [],
   "source": [
    "y_pred = reg.predict(X_test_s)"
   ]
  },
  {
   "cell_type": "code",
   "execution_count": 16,
   "id": "invisible-microwave",
   "metadata": {},
   "outputs": [
    {
     "name": "stdout",
     "output_type": "stream",
     "text": [
      "R2: 0.016\n",
      "MSE: 0.021\n",
      "MAE: 0.010\n"
     ]
    }
   ],
   "source": [
    "print('R2: %.3f' % r2_score(y_test, y_pred))\n",
    "print('MSE: %.3f' % mean_squared_error(y_test, y_pred))\n",
    "print('MAE: %.3f' % mean_absolute_error(y_test, y_pred))"
   ]
  },
  {
   "cell_type": "markdown",
   "id": "postal-gospel",
   "metadata": {},
   "source": [
    "# Dataset Veicoli (eliminare attributi relativi all'area)"
   ]
  },
  {
   "cell_type": "code",
   "execution_count": 17,
   "id": "organized-supplier",
   "metadata": {},
   "outputs": [],
   "source": [
    "df3 = pd.DataFrame(df2) #dataframe con attributi relativi ai veicoli"
   ]
  },
  {
   "cell_type": "code",
   "execution_count": 18,
   "id": "referenced-competition",
   "metadata": {},
   "outputs": [],
   "source": [
    "del df3['NumberTotalPointInterestA']\n",
    "del df3['NumberCulturalPointA']\n",
    "del df3['NumberEducationPointA']\n",
    "del df3['NumberEnterteimentPointA']\n",
    "del df3['NumberFinancePointA']\n",
    "del df3['NumberHealthPointA']\n",
    "del df3['NumberTrasportationPointA']\n",
    "del df3['NumberTotalPointInterestB']\n",
    "del df3['NumberCulturalPointB']\n",
    "del df3['NumberEducationPointB']\n",
    "del df3['NumberEnterteimentPointB']\n",
    "del df3['NumberFinancePointB']\n",
    "del df3['NumberHealthPointB']\n",
    "del df3['NumberTrasportationPointB']"
   ]
  },
  {
   "cell_type": "code",
   "execution_count": 19,
   "id": "controversial-capitol",
   "metadata": {},
   "outputs": [
    {
     "data": {
      "text/html": [
       "<div>\n",
       "<style scoped>\n",
       "    .dataframe tbody tr th:only-of-type {\n",
       "        vertical-align: middle;\n",
       "    }\n",
       "\n",
       "    .dataframe tbody tr th {\n",
       "        vertical-align: top;\n",
       "    }\n",
       "\n",
       "    .dataframe thead th {\n",
       "        text-align: right;\n",
       "    }\n",
       "</style>\n",
       "<table border=\"1\" class=\"dataframe\">\n",
       "  <thead>\n",
       "    <tr style=\"text-align: right;\">\n",
       "      <th></th>\n",
       "      <th>StartingVehiclesA</th>\n",
       "      <th>EndingVehiclesA</th>\n",
       "      <th>TotNumberRecordVehiclesA</th>\n",
       "      <th>maxSpeedKm/hA</th>\n",
       "      <th>AverageSpeedA</th>\n",
       "      <th>OutEdgesA</th>\n",
       "      <th>InEdgesA</th>\n",
       "      <th>VehiclesNightA</th>\n",
       "      <th>VehiclesMorningA</th>\n",
       "      <th>VehiclesAfternoonA</th>\n",
       "      <th>...</th>\n",
       "      <th>VehiclesNightB</th>\n",
       "      <th>VehiclesMorningB</th>\n",
       "      <th>VehiclesAfternoonB</th>\n",
       "      <th>VehiclesEveningB</th>\n",
       "      <th>Density_n/km^2B</th>\n",
       "      <th>AccelerationMaxB</th>\n",
       "      <th>AverageAccelerationB</th>\n",
       "      <th>RecordWeekendB</th>\n",
       "      <th>RecordWeekB</th>\n",
       "      <th>y</th>\n",
       "    </tr>\n",
       "  </thead>\n",
       "  <tbody>\n",
       "    <tr>\n",
       "      <th>0</th>\n",
       "      <td>2</td>\n",
       "      <td>2</td>\n",
       "      <td>437</td>\n",
       "      <td>87.73992</td>\n",
       "      <td>8.385532</td>\n",
       "      <td>2</td>\n",
       "      <td>2</td>\n",
       "      <td>153</td>\n",
       "      <td>164</td>\n",
       "      <td>69</td>\n",
       "      <td>...</td>\n",
       "      <td>153</td>\n",
       "      <td>164</td>\n",
       "      <td>69</td>\n",
       "      <td>51</td>\n",
       "      <td>18.275266</td>\n",
       "      <td>1.608753</td>\n",
       "      <td>0.027443</td>\n",
       "      <td>97</td>\n",
       "      <td>340</td>\n",
       "      <td>0</td>\n",
       "    </tr>\n",
       "    <tr>\n",
       "      <th>1</th>\n",
       "      <td>2</td>\n",
       "      <td>2</td>\n",
       "      <td>437</td>\n",
       "      <td>87.73992</td>\n",
       "      <td>8.385532</td>\n",
       "      <td>2</td>\n",
       "      <td>2</td>\n",
       "      <td>153</td>\n",
       "      <td>164</td>\n",
       "      <td>69</td>\n",
       "      <td>...</td>\n",
       "      <td>2870</td>\n",
       "      <td>4060</td>\n",
       "      <td>5483</td>\n",
       "      <td>3729</td>\n",
       "      <td>675.055725</td>\n",
       "      <td>20.499622</td>\n",
       "      <td>0.336242</td>\n",
       "      <td>4793</td>\n",
       "      <td>11349</td>\n",
       "      <td>0</td>\n",
       "    </tr>\n",
       "    <tr>\n",
       "      <th>2</th>\n",
       "      <td>2</td>\n",
       "      <td>2</td>\n",
       "      <td>437</td>\n",
       "      <td>87.73992</td>\n",
       "      <td>8.385532</td>\n",
       "      <td>2</td>\n",
       "      <td>2</td>\n",
       "      <td>153</td>\n",
       "      <td>164</td>\n",
       "      <td>69</td>\n",
       "      <td>...</td>\n",
       "      <td>0</td>\n",
       "      <td>0</td>\n",
       "      <td>0</td>\n",
       "      <td>0</td>\n",
       "      <td>0.000000</td>\n",
       "      <td>0.000000</td>\n",
       "      <td>0.000000</td>\n",
       "      <td>0</td>\n",
       "      <td>0</td>\n",
       "      <td>0</td>\n",
       "    </tr>\n",
       "    <tr>\n",
       "      <th>3</th>\n",
       "      <td>2</td>\n",
       "      <td>2</td>\n",
       "      <td>437</td>\n",
       "      <td>87.73992</td>\n",
       "      <td>8.385532</td>\n",
       "      <td>2</td>\n",
       "      <td>2</td>\n",
       "      <td>153</td>\n",
       "      <td>164</td>\n",
       "      <td>69</td>\n",
       "      <td>...</td>\n",
       "      <td>0</td>\n",
       "      <td>3</td>\n",
       "      <td>0</td>\n",
       "      <td>10</td>\n",
       "      <td>0.543658</td>\n",
       "      <td>0.053334</td>\n",
       "      <td>0.012960</td>\n",
       "      <td>0</td>\n",
       "      <td>13</td>\n",
       "      <td>0</td>\n",
       "    </tr>\n",
       "    <tr>\n",
       "      <th>4</th>\n",
       "      <td>2</td>\n",
       "      <td>2</td>\n",
       "      <td>437</td>\n",
       "      <td>87.73992</td>\n",
       "      <td>8.385532</td>\n",
       "      <td>2</td>\n",
       "      <td>2</td>\n",
       "      <td>153</td>\n",
       "      <td>164</td>\n",
       "      <td>69</td>\n",
       "      <td>...</td>\n",
       "      <td>0</td>\n",
       "      <td>0</td>\n",
       "      <td>0</td>\n",
       "      <td>0</td>\n",
       "      <td>0.000000</td>\n",
       "      <td>0.000000</td>\n",
       "      <td>0.000000</td>\n",
       "      <td>0</td>\n",
       "      <td>0</td>\n",
       "      <td>0</td>\n",
       "    </tr>\n",
       "    <tr>\n",
       "      <th>...</th>\n",
       "      <td>...</td>\n",
       "      <td>...</td>\n",
       "      <td>...</td>\n",
       "      <td>...</td>\n",
       "      <td>...</td>\n",
       "      <td>...</td>\n",
       "      <td>...</td>\n",
       "      <td>...</td>\n",
       "      <td>...</td>\n",
       "      <td>...</td>\n",
       "      <td>...</td>\n",
       "      <td>...</td>\n",
       "      <td>...</td>\n",
       "      <td>...</td>\n",
       "      <td>...</td>\n",
       "      <td>...</td>\n",
       "      <td>...</td>\n",
       "      <td>...</td>\n",
       "      <td>...</td>\n",
       "      <td>...</td>\n",
       "      <td>...</td>\n",
       "    </tr>\n",
       "    <tr>\n",
       "      <th>1216604</th>\n",
       "      <td>0</td>\n",
       "      <td>0</td>\n",
       "      <td>0</td>\n",
       "      <td>0.00000</td>\n",
       "      <td>0.000000</td>\n",
       "      <td>0</td>\n",
       "      <td>0</td>\n",
       "      <td>0</td>\n",
       "      <td>0</td>\n",
       "      <td>0</td>\n",
       "      <td>...</td>\n",
       "      <td>1</td>\n",
       "      <td>14</td>\n",
       "      <td>55</td>\n",
       "      <td>13</td>\n",
       "      <td>3.471046</td>\n",
       "      <td>1.395958</td>\n",
       "      <td>0.077596</td>\n",
       "      <td>36</td>\n",
       "      <td>47</td>\n",
       "      <td>0</td>\n",
       "    </tr>\n",
       "    <tr>\n",
       "      <th>1216605</th>\n",
       "      <td>0</td>\n",
       "      <td>0</td>\n",
       "      <td>0</td>\n",
       "      <td>0.00000</td>\n",
       "      <td>0.000000</td>\n",
       "      <td>0</td>\n",
       "      <td>0</td>\n",
       "      <td>0</td>\n",
       "      <td>0</td>\n",
       "      <td>0</td>\n",
       "      <td>...</td>\n",
       "      <td>0</td>\n",
       "      <td>0</td>\n",
       "      <td>0</td>\n",
       "      <td>0</td>\n",
       "      <td>0.000000</td>\n",
       "      <td>0.000000</td>\n",
       "      <td>0.000000</td>\n",
       "      <td>0</td>\n",
       "      <td>0</td>\n",
       "      <td>0</td>\n",
       "    </tr>\n",
       "    <tr>\n",
       "      <th>1216606</th>\n",
       "      <td>0</td>\n",
       "      <td>0</td>\n",
       "      <td>0</td>\n",
       "      <td>0.00000</td>\n",
       "      <td>0.000000</td>\n",
       "      <td>0</td>\n",
       "      <td>0</td>\n",
       "      <td>0</td>\n",
       "      <td>0</td>\n",
       "      <td>0</td>\n",
       "      <td>...</td>\n",
       "      <td>2342</td>\n",
       "      <td>1847</td>\n",
       "      <td>2376</td>\n",
       "      <td>1882</td>\n",
       "      <td>353.252119</td>\n",
       "      <td>8.856833</td>\n",
       "      <td>0.080433</td>\n",
       "      <td>1372</td>\n",
       "      <td>7075</td>\n",
       "      <td>0</td>\n",
       "    </tr>\n",
       "    <tr>\n",
       "      <th>1216607</th>\n",
       "      <td>0</td>\n",
       "      <td>0</td>\n",
       "      <td>0</td>\n",
       "      <td>0.00000</td>\n",
       "      <td>0.000000</td>\n",
       "      <td>0</td>\n",
       "      <td>0</td>\n",
       "      <td>0</td>\n",
       "      <td>0</td>\n",
       "      <td>0</td>\n",
       "      <td>...</td>\n",
       "      <td>0</td>\n",
       "      <td>0</td>\n",
       "      <td>0</td>\n",
       "      <td>0</td>\n",
       "      <td>0.000000</td>\n",
       "      <td>0.000000</td>\n",
       "      <td>0.000000</td>\n",
       "      <td>0</td>\n",
       "      <td>0</td>\n",
       "      <td>0</td>\n",
       "    </tr>\n",
       "    <tr>\n",
       "      <th>1216608</th>\n",
       "      <td>0</td>\n",
       "      <td>0</td>\n",
       "      <td>0</td>\n",
       "      <td>0.00000</td>\n",
       "      <td>0.000000</td>\n",
       "      <td>0</td>\n",
       "      <td>0</td>\n",
       "      <td>0</td>\n",
       "      <td>0</td>\n",
       "      <td>0</td>\n",
       "      <td>...</td>\n",
       "      <td>0</td>\n",
       "      <td>0</td>\n",
       "      <td>0</td>\n",
       "      <td>0</td>\n",
       "      <td>0.000000</td>\n",
       "      <td>0.000000</td>\n",
       "      <td>0.000000</td>\n",
       "      <td>0</td>\n",
       "      <td>0</td>\n",
       "      <td>0</td>\n",
       "    </tr>\n",
       "  </tbody>\n",
       "</table>\n",
       "<p>1216609 rows × 33 columns</p>\n",
       "</div>"
      ],
      "text/plain": [
       "         StartingVehiclesA  EndingVehiclesA  TotNumberRecordVehiclesA  \\\n",
       "0                        2                2                       437   \n",
       "1                        2                2                       437   \n",
       "2                        2                2                       437   \n",
       "3                        2                2                       437   \n",
       "4                        2                2                       437   \n",
       "...                    ...              ...                       ...   \n",
       "1216604                  0                0                         0   \n",
       "1216605                  0                0                         0   \n",
       "1216606                  0                0                         0   \n",
       "1216607                  0                0                         0   \n",
       "1216608                  0                0                         0   \n",
       "\n",
       "         maxSpeedKm/hA  AverageSpeedA  OutEdgesA  InEdgesA  VehiclesNightA  \\\n",
       "0             87.73992       8.385532          2         2             153   \n",
       "1             87.73992       8.385532          2         2             153   \n",
       "2             87.73992       8.385532          2         2             153   \n",
       "3             87.73992       8.385532          2         2             153   \n",
       "4             87.73992       8.385532          2         2             153   \n",
       "...                ...            ...        ...       ...             ...   \n",
       "1216604        0.00000       0.000000          0         0               0   \n",
       "1216605        0.00000       0.000000          0         0               0   \n",
       "1216606        0.00000       0.000000          0         0               0   \n",
       "1216607        0.00000       0.000000          0         0               0   \n",
       "1216608        0.00000       0.000000          0         0               0   \n",
       "\n",
       "         VehiclesMorningA  VehiclesAfternoonA  ...  VehiclesNightB  \\\n",
       "0                     164                  69  ...             153   \n",
       "1                     164                  69  ...            2870   \n",
       "2                     164                  69  ...               0   \n",
       "3                     164                  69  ...               0   \n",
       "4                     164                  69  ...               0   \n",
       "...                   ...                 ...  ...             ...   \n",
       "1216604                 0                   0  ...               1   \n",
       "1216605                 0                   0  ...               0   \n",
       "1216606                 0                   0  ...            2342   \n",
       "1216607                 0                   0  ...               0   \n",
       "1216608                 0                   0  ...               0   \n",
       "\n",
       "         VehiclesMorningB  VehiclesAfternoonB  VehiclesEveningB  \\\n",
       "0                     164                  69                51   \n",
       "1                    4060                5483              3729   \n",
       "2                       0                   0                 0   \n",
       "3                       3                   0                10   \n",
       "4                       0                   0                 0   \n",
       "...                   ...                 ...               ...   \n",
       "1216604                14                  55                13   \n",
       "1216605                 0                   0                 0   \n",
       "1216606              1847                2376              1882   \n",
       "1216607                 0                   0                 0   \n",
       "1216608                 0                   0                 0   \n",
       "\n",
       "         Density_n/km^2B  AccelerationMaxB  AverageAccelerationB  \\\n",
       "0              18.275266          1.608753              0.027443   \n",
       "1             675.055725         20.499622              0.336242   \n",
       "2               0.000000          0.000000              0.000000   \n",
       "3               0.543658          0.053334              0.012960   \n",
       "4               0.000000          0.000000              0.000000   \n",
       "...                  ...               ...                   ...   \n",
       "1216604         3.471046          1.395958              0.077596   \n",
       "1216605         0.000000          0.000000              0.000000   \n",
       "1216606       353.252119          8.856833              0.080433   \n",
       "1216607         0.000000          0.000000              0.000000   \n",
       "1216608         0.000000          0.000000              0.000000   \n",
       "\n",
       "         RecordWeekendB  RecordWeekB  y  \n",
       "0                    97          340  0  \n",
       "1                  4793        11349  0  \n",
       "2                     0            0  0  \n",
       "3                     0           13  0  \n",
       "4                     0            0  0  \n",
       "...                 ...          ... ..  \n",
       "1216604              36           47  0  \n",
       "1216605               0            0  0  \n",
       "1216606            1372         7075  0  \n",
       "1216607               0            0  0  \n",
       "1216608               0            0  0  \n",
       "\n",
       "[1216609 rows x 33 columns]"
      ]
     },
     "execution_count": 19,
     "metadata": {},
     "output_type": "execute_result"
    }
   ],
   "source": [
    "df3"
   ]
  },
  {
   "cell_type": "markdown",
   "id": "serious-johnson",
   "metadata": {},
   "source": [
    "# Train & test split( Dataframe Veicoli)"
   ]
  },
  {
   "cell_type": "code",
   "execution_count": 21,
   "id": "clinical-favorite",
   "metadata": {},
   "outputs": [],
   "source": [
    "from sklearn.model_selection import train_test_split\n",
    "from sklearn.model_selection import StratifiedShuffleSplit\n",
    "\n",
    "class_name = 'y'\n",
    "\n",
    "attributes = [col for col in df3.columns if col != class_name]\n",
    "X = df3[attributes].values\n",
    "y=df3[class_name]\n",
    "\n",
    "\n",
    "X_train, X_test, y_train, y_test = train_test_split(X, y, test_size=0.3,random_state=100)"
   ]
  },
  {
   "cell_type": "code",
   "execution_count": 22,
   "id": "deluxe-passing",
   "metadata": {},
   "outputs": [],
   "source": [
    "from sklearn.preprocessing import MinMaxScaler,StandardScaler\n",
    "scaler = StandardScaler()\n",
    "\n",
    "\n",
    "X_train_s = scaler.fit_transform(X_train)\n",
    "\n",
    "X_test_s=scaler.transform(X_test)"
   ]
  },
  {
   "cell_type": "markdown",
   "id": "forced-joining",
   "metadata": {},
   "source": [
    "# KNN (DataFrame Veicoli)\n"
   ]
  },
  {
   "cell_type": "markdown",
   "id": "common-accent",
   "metadata": {},
   "source": [
    "# Find Best K (DataFrame Veicoli)"
   ]
  },
  {
   "cell_type": "code",
   "execution_count": 16,
   "id": "mathematical-surprise",
   "metadata": {},
   "outputs": [
    {
     "name": "stdout",
     "output_type": "stream",
     "text": [
      "1\n",
      "2\n",
      "3\n",
      "4\n",
      "5\n",
      "6\n",
      "7\n",
      "8\n",
      "9\n",
      "10\n",
      "11\n"
     ]
    }
   ],
   "source": [
    "from sklearn.neighbors import KNeighborsRegressor\n",
    "errorR2 = []\n",
    "errorMAE = []\n",
    "errorMSE =[]\n",
    "\n",
    "for k in range(1,12):\n",
    "    knn = KNeighborsRegressor(n_neighbors=k,n_jobs=-1,algorithm='kd_tree')\n",
    "    knn.fit(X_train_s,y_train)\n",
    "    y_pred = knn.predict(X_test_s)\n",
    "    print(k)\n",
    "    errorR2.append(r2_score(y_test,y_pred))\n",
    "    errorMAE.append(mean_absolute_error(y_test,y_pred))\n",
    "    errorMSE.append(mean_squared_error(y_test,y_pred))"
   ]
  },
  {
   "cell_type": "code",
   "execution_count": 17,
   "id": "placed-church",
   "metadata": {},
   "outputs": [
    {
     "data": {
      "text/plain": [
       "[<matplotlib.lines.Line2D at 0x7f58813422b0>]"
      ]
     },
     "execution_count": 17,
     "metadata": {},
     "output_type": "execute_result"
    },
    {
     "data": {
      "image/png": "[encoded data removed]",
      "text/plain": [
       "<Figure size 720x720 with 1 Axes>"
      ]
     },
     "metadata": {
      "needs_background": "light"
     },
     "output_type": "display_data"
    }
   ],
   "source": [
    "import matplotlib.pyplot as plt\n",
    "plt.rcParams[\"figure.figsize\"] = (10, 10)\n",
    "plt.plot(range(1,12),errorMAE,'bo')\n",
    "plt.plot(range(1,12),errorMSE,'go')\n",
    "plt.plot(range(1,12),errorR2,'ro')"
   ]
  },
  {
   "cell_type": "code",
   "execution_count": 23,
   "id": "champion-formula",
   "metadata": {},
   "outputs": [],
   "source": [
    "# Regresione Lineare\n",
    "from sklearn.linear_model import LinearRegression, Ridge, Lasso\n"
   ]
  },
  {
   "cell_type": "code",
   "execution_count": 24,
   "id": "received-canon",
   "metadata": {},
   "outputs": [
    {
     "data": {
      "text/plain": [
       "LinearRegression()"
      ]
     },
     "execution_count": 24,
     "metadata": {},
     "output_type": "execute_result"
    }
   ],
   "source": [
    "reg = LinearRegression()\n",
    "reg.fit(X_train_s, y_train)"
   ]
  },
  {
   "cell_type": "code",
   "execution_count": 25,
   "id": "fourth-emerald",
   "metadata": {},
   "outputs": [],
   "source": [
    "y_pred = reg.predict(X_test_s)"
   ]
  },
  {
   "cell_type": "code",
   "execution_count": 26,
   "id": "trying-penguin",
   "metadata": {},
   "outputs": [
    {
     "name": "stdout",
     "output_type": "stream",
     "text": [
      "R2: 0.016\n",
      "MSE: 0.021\n",
      "MAE: 0.010\n"
     ]
    }
   ],
   "source": [
    "print('R2: %.3f' % r2_score(y_test, y_pred))\n",
    "print('MSE: %.3f' % mean_squared_error(y_test, y_pred))\n",
    "print('MAE: %.3f' % mean_absolute_error(y_test, y_pred))"
   ]
  },
  {
   "cell_type": "code",
   "execution_count": 27,
   "id": "alike-writing",
   "metadata": {},
   "outputs": [],
   "source": [
    "# Lasso"
   ]
  },
  {
   "cell_type": "code",
   "execution_count": 28,
   "id": "continental-gasoline",
   "metadata": {},
   "outputs": [
    {
     "data": {
      "text/plain": [
       "Lasso()"
      ]
     },
     "execution_count": 28,
     "metadata": {},
     "output_type": "execute_result"
    }
   ],
   "source": [
    "reg = Lasso()\n",
    "reg.fit(X_train_s, y_train)"
   ]
  },
  {
   "cell_type": "code",
   "execution_count": 29,
   "id": "civilian-crime",
   "metadata": {},
   "outputs": [],
   "source": [
    "y_pred = reg.predict(X_test_s)"
   ]
  },
  {
   "cell_type": "code",
   "execution_count": 30,
   "id": "tough-halifax",
   "metadata": {},
   "outputs": [
    {
     "name": "stdout",
     "output_type": "stream",
     "text": [
      "R2: -0.000\n",
      "MSE: 0.022\n",
      "MAE: 0.007\n"
     ]
    }
   ],
   "source": [
    "print('R2: %.3f' % r2_score(y_test, y_pred))\n",
    "print('MSE: %.3f' % mean_squared_error(y_test, y_pred))\n",
    "print('MAE: %.3f' % mean_absolute_error(y_test, y_pred))"
   ]
  },
  {
   "cell_type": "code",
   "execution_count": 31,
   "id": "sonic-wound",
   "metadata": {},
   "outputs": [],
   "source": [
    "# Ridge "
   ]
  },
  {
   "cell_type": "code",
   "execution_count": 32,
   "id": "painful-indian",
   "metadata": {},
   "outputs": [
    {
     "data": {
      "text/plain": [
       "Ridge()"
      ]
     },
     "execution_count": 32,
     "metadata": {},
     "output_type": "execute_result"
    }
   ],
   "source": [
    "reg = Ridge()\n",
    "reg.fit(X_train_s, y_train)"
   ]
  },
  {
   "cell_type": "code",
   "execution_count": 33,
   "id": "comparative-national",
   "metadata": {},
   "outputs": [],
   "source": [
    "y_pred = reg.predict(X_test_s)"
   ]
  },
  {
   "cell_type": "code",
   "execution_count": 34,
   "id": "earlier-cartoon",
   "metadata": {},
   "outputs": [
    {
     "name": "stdout",
     "output_type": "stream",
     "text": [
      "R2: 0.016\n",
      "MSE: 0.021\n",
      "MAE: 0.010\n"
     ]
    }
   ],
   "source": [
    "print('R2: %.3f' % r2_score(y_test, y_pred))\n",
    "print('MSE: %.3f' % mean_squared_error(y_test, y_pred))\n",
    "print('MAE: %.3f' % mean_absolute_error(y_test, y_pred))"
   ]
  },
  {
   "cell_type": "markdown",
   "id": "published-position",
   "metadata": {},
   "source": [
    "# DataFrame punti di interesse"
   ]
  },
  {
   "cell_type": "code",
   "execution_count": 35,
   "id": "outside-consideration",
   "metadata": {},
   "outputs": [],
   "source": [
    "df4 = pd.DataFrame()"
   ]
  },
  {
   "cell_type": "code",
   "execution_count": 39,
   "id": "incident-trust",
   "metadata": {},
   "outputs": [],
   "source": [
    "df4['NumberTotalPointInterestA'] = df2['NumberTotalPointInterestA'] \n",
    "df4['NumberCulturalPointA'] = df2['NumberCulturalPointA']\n",
    "df4['NumberEducationPointA'] = df2['NumberEducationPointA']\n",
    "df4['NumberEnterteimentPointA'] = df2['NumberEnterteimentPointA']\n",
    "df4['NumberFinancePointA'] = df2['NumberFinancePointA']\n",
    "df4['NumberHealthPointA'] = df2['NumberHealthPointA']\n",
    "df4['NumberTrasportationPointA'] = df2['NumberTrasportationPointA']\n",
    "df4['NumberTotalPointInterestB'] = df2['NumberTotalPointInterestB']\n",
    "df4['NumberCulturalPointB'] = df2['NumberCulturalPointB']\n",
    "df4['NumberEducationPointB'] = df2['NumberEducationPointB']\n",
    "df4['NumberEnterteimentPointB'] = df2['NumberEnterteimentPointB'] \n",
    "df4['NumberFinancePointB'] = df2['NumberFinancePointB']\n",
    "df4['NumberHealthPointB'] = df2['NumberHealthPointB']\n",
    "df4['NumberTrasportationPointB'] = df2['NumberTrasportationPointB']\n",
    "df4['y'] = df2['y']"
   ]
  },
  {
   "cell_type": "code",
   "execution_count": 40,
   "id": "directed-wellington",
   "metadata": {},
   "outputs": [],
   "source": [
    "from sklearn.model_selection import train_test_split\n",
    "\n",
    "class_name = 'y'\n",
    "\n",
    "attributes = [col for col in df4.columns if col != class_name]\n",
    "X = df4[attributes].values\n",
    "y=df4[class_name]\n",
    "\n",
    "\n",
    "X_train, X_test, y_train, y_test = train_test_split(X, y, test_size=0.3,random_state=100)"
   ]
  },
  {
   "cell_type": "code",
   "execution_count": 41,
   "id": "pretty-humor",
   "metadata": {},
   "outputs": [],
   "source": [
    "from sklearn.preprocessing import StandardScaler\n",
    "scaler = StandardScaler()\n",
    "\n",
    "\n",
    "X_train_s = scaler.fit_transform(X_train)\n",
    "\n",
    "X_test_s=scaler.transform(X_test)"
   ]
  },
  {
   "cell_type": "code",
   "execution_count": null,
   "id": "proved-jewelry",
   "metadata": {},
   "outputs": [],
   "source": [
    "errorR2 = []\n",
    "errorMAE = []\n",
    "errorMSE =[]\n",
    "print('start')\n",
    "for k in range(1,30):\n",
    "    knn = KNeighborsRegressor(n_neighbors=k,n_jobs=-1,algorithm='kd_tree')\n",
    "    knn.fit(X_train_s,y_train)\n",
    "    y_pred = knn.predict(X_test_s)\n",
    "    print(k)\n",
    "    errorR2.append(r2_score(y_test,y_pred))\n",
    "    errorMAE.append(mean_absolute_error(y_test,y_pred))\n",
    "    errorMSE.append(mean_squared_error(y_test,y_pred))"
   ]
  },
  {
   "cell_type": "code",
   "execution_count": null,
   "id": "clinical-relative",
   "metadata": {},
   "outputs": [],
   "source": [
    "import matplotlib.pyplot as plt\n",
    "plt.rcParams[\"figure.figsize\"] = (10, 10)\n",
    "plt.plot(range(1,30),errorMAE,'bo')\n",
    "plt.plot(range(1,30),errorMSE,'go')\n",
    "plt.plot(range(1,30),errorR2,'ro')"
   ]
  },
  {
   "cell_type": "markdown",
   "id": "monthly-murder",
   "metadata": {},
   "source": [
    "# Divisione della città (NORD-SUD-EST-OVEST)"
   ]
  },
  {
   "cell_type": "code",
   "execution_count": 3,
   "id": "failing-monster",
   "metadata": {},
   "outputs": [],
   "source": [
    "import geopandas as gpd\n",
    "import pandas as pd\n",
    "from polygeohasher import polygeohasher\n",
    "import json\n",
    "gdf = gpd.read_file('./prova.geojson')\n",
    "primary_df = polygeohasher.create_geohash_list(gdf,3,inner=False)\n",
    "geo_df = polygeohasher.geohashes_to_geometry(primary_df,\"geohash_list\")\n",
    "geo_df.to_file(\"SanFranciscoGrid.geojson\",driver = \"GeoJSON\")\n",
    "SanFranGrid = json.load(open('SanFranciscoGrid.geojson','r'))"
   ]
  },
  {
   "cell_type": "code",
   "execution_count": 4,
   "id": "junior-robertson",
   "metadata": {},
   "outputs": [
    {
     "data": {
      "text/html": [
       "<div style=\"width:100%;\"><div style=\"position:relative;width:100%;height:0;padding-bottom:60%;\"><span style=\"color:#565656\">Make this Notebook Trusted to load map: File -> Trust Notebook</span><iframe src=\"about:blank\" style=\"position:absolute;width:100%;height:100%;left:0;top:0;border:none !important;\" data-html=%3C%21DOCTYPE%20html%3E%0A%3Chead%3E%20%20%20%20%0A%20%20%20%20%3Cmeta%20http-equiv%3D%22content-type%22%20content%3D%22text/html%3B%20charset%3DUTF-8%22%20/%3E%0A%20%20%20%20%0A%20%20%20%20%20%20%20%20%3Cscript%3E%0A%20%20%20%20%20%20%20%20%20%20%20%20L_NO_TOUCH%20%3D%20false%3B%0A%20%20%20%20%20%20%20%20%20%20%20%20L_DISABLE_3D%20%3D%20false%3B%0A%20%20%20%20%20%20%20%20%3C/script%3E%0A%20%20%20%20%0A%20%20%20%20%3Cstyle%3Ehtml%2C%20body%20%7Bwidth%3A%20100%25%3Bheight%3A%20100%25%3Bmargin%3A%200%3Bpadding%3A%200%3B%7D%3C/style%3E%0A%20%20%20%20%3Cstyle%3E%23map%20%7Bposition%3Aabsolute%3Btop%3A0%3Bbottom%3A0%3Bright%3A0%3Bleft%3A0%3B%7D%3C/style%3E%0A%20%20%20%20%3Cscript%20src%3D%22https%3A//cdn.jsdelivr.net/npm/leaflet%401.6.0/dist/leaflet.js%22%3E%3C/script%3E%0A%20%20%20%20%3Cscript%20src%3D%22https%3A//code.jquery.com/jquery-1.12.4.min.js%22%3E%3C/script%3E%0A%20%20%20%20%3Cscript%20src%3D%22https%3A//maxcdn.bootstrapcdn.com/bootstrap/3.2.0/js/bootstrap.min.js%22%3E%3C/script%3E%0A%20%20%20%20%3Cscript%20src%3D%22https%3A//cdnjs.cloudflare.com/ajax/libs/Leaflet.awesome-markers/2.0.2/leaflet.awesome-markers.js%22%3E%3C/script%3E%0A%20%20%20%20%3Clink%20rel%3D%22stylesheet%22%20href%3D%22https%3A//cdn.jsdelivr.net/npm/leaflet%401.6.0/dist/leaflet.css%22/%3E%0A%20%20%20%20%3Clink%20rel%3D%22stylesheet%22%20href%3D%22https%3A//maxcdn.bootstrapcdn.com/bootstrap/3.2.0/css/bootstrap.min.css%22/%3E%0A%20%20%20%20%3Clink%20rel%3D%22stylesheet%22%20href%3D%22https%3A//maxcdn.bootstrapcdn.com/bootstrap/3.2.0/css/bootstrap-theme.min.css%22/%3E%0A%20%20%20%20%3Clink%20rel%3D%22stylesheet%22%20href%3D%22https%3A//maxcdn.bootstrapcdn.com/font-awesome/4.6.3/css/font-awesome.min.css%22/%3E%0A%20%20%20%20%3Clink%20rel%3D%22stylesheet%22%20href%3D%22https%3A//cdnjs.cloudflare.com/ajax/libs/Leaflet.awesome-markers/2.0.2/leaflet.awesome-markers.css%22/%3E%0A%20%20%20%20%3Clink%20rel%3D%22stylesheet%22%20href%3D%22https%3A//cdn.jsdelivr.net/gh/python-visualization/folium/folium/templates/leaflet.awesome.rotate.min.css%22/%3E%0A%20%20%20%20%0A%20%20%20%20%20%20%20%20%20%20%20%20%3Cmeta%20name%3D%22viewport%22%20content%3D%22width%3Ddevice-width%2C%0A%20%20%20%20%20%20%20%20%20%20%20%20%20%20%20%20initial-scale%3D1.0%2C%20maximum-scale%3D1.0%2C%20user-scalable%3Dno%22%20/%3E%0A%20%20%20%20%20%20%20%20%20%20%20%20%3Cstyle%3E%0A%20%20%20%20%20%20%20%20%20%20%20%20%20%20%20%20%23map_3bfae2d7b46249dc8628761626b97c75%20%7B%0A%20%20%20%20%20%20%20%20%20%20%20%20%20%20%20%20%20%20%20%20position%3A%20relative%3B%0A%20%20%20%20%20%20%20%20%20%20%20%20%20%20%20%20%20%20%20%20width%3A%20100.0%25%3B%0A%20%20%20%20%20%20%20%20%20%20%20%20%20%20%20%20%20%20%20%20height%3A%20100.0%25%3B%0A%20%20%20%20%20%20%20%20%20%20%20%20%20%20%20%20%20%20%20%20left%3A%200.0%25%3B%0A%20%20%20%20%20%20%20%20%20%20%20%20%20%20%20%20%20%20%20%20top%3A%200.0%25%3B%0A%20%20%20%20%20%20%20%20%20%20%20%20%20%20%20%20%7D%0A%20%20%20%20%20%20%20%20%20%20%20%20%3C/style%3E%0A%20%20%20%20%20%20%20%20%0A%3C/head%3E%0A%3Cbody%3E%20%20%20%20%0A%20%20%20%20%0A%20%20%20%20%20%20%20%20%20%20%20%20%3Cdiv%20class%3D%22folium-map%22%20id%3D%22map_3bfae2d7b46249dc8628761626b97c75%22%20%3E%3C/div%3E%0A%20%20%20%20%20%20%20%20%0A%3C/body%3E%0A%3Cscript%3E%20%20%20%20%0A%20%20%20%20%0A%20%20%20%20%20%20%20%20%20%20%20%20var%20map_3bfae2d7b46249dc8628761626b97c75%20%3D%20L.map%28%0A%20%20%20%20%20%20%20%20%20%20%20%20%20%20%20%20%22map_3bfae2d7b46249dc8628761626b97c75%22%2C%0A%20%20%20%20%20%20%20%20%20%20%20%20%20%20%20%20%7B%0A%20%20%20%20%20%20%20%20%20%20%20%20%20%20%20%20%20%20%20%20center%3A%20%5B39.2%2C%20116.26%5D%2C%0A%20%20%20%20%20%20%20%20%20%20%20%20%20%20%20%20%20%20%20%20crs%3A%20L.CRS.EPSG3857%2C%0A%20%20%20%20%20%20%20%20%20%20%20%20%20%20%20%20%20%20%20%20zoom%3A%2012%2C%0A%20%20%20%20%20%20%20%20%20%20%20%20%20%20%20%20%20%20%20%20zoomControl%3A%20true%2C%0A%20%20%20%20%20%20%20%20%20%20%20%20%20%20%20%20%20%20%20%20preferCanvas%3A%20false%2C%0A%20%20%20%20%20%20%20%20%20%20%20%20%20%20%20%20%7D%0A%20%20%20%20%20%20%20%20%20%20%20%20%29%3B%0A%0A%20%20%20%20%20%20%20%20%20%20%20%20%0A%0A%20%20%20%20%20%20%20%20%0A%20%20%20%20%0A%20%20%20%20%20%20%20%20%20%20%20%20var%20tile_layer_ad4a0602bb304bbcaa87bfb6746693ba%20%3D%20L.tileLayer%28%0A%20%20%20%20%20%20%20%20%20%20%20%20%20%20%20%20%22https%3A//cartodb-basemaps-%7Bs%7D.global.ssl.fastly.net/light_all/%7Bz%7D/%7Bx%7D/%7By%7D.png%22%2C%0A%20%20%20%20%20%20%20%20%20%20%20%20%20%20%20%20%7B%22attribution%22%3A%20%22%5Cu0026copy%3B%20%5Cu003ca%20href%3D%5C%22http%3A//www.openstreetmap.org/copyright%5C%22%5Cu003eOpenStreetMap%5Cu003c/a%5Cu003e%20contributors%20%5Cu0026copy%3B%20%5Cu003ca%20href%3D%5C%22http%3A//cartodb.com/attributions%5C%22%5Cu003eCartoDB%5Cu003c/a%5Cu003e%2C%20CartoDB%20%5Cu003ca%20href%20%3D%5C%22http%3A//cartodb.com/attributions%5C%22%5Cu003eattributions%5Cu003c/a%5Cu003e%22%2C%20%22detectRetina%22%3A%20false%2C%20%22maxNativeZoom%22%3A%2018%2C%20%22maxZoom%22%3A%2018%2C%20%22minZoom%22%3A%200%2C%20%22noWrap%22%3A%20false%2C%20%22opacity%22%3A%201%2C%20%22subdomains%22%3A%20%22abc%22%2C%20%22tms%22%3A%20false%7D%0A%20%20%20%20%20%20%20%20%20%20%20%20%29.addTo%28map_3bfae2d7b46249dc8628761626b97c75%29%3B%0A%20%20%20%20%20%20%20%20%0A%20%20%20%20%0A%0A%20%20%20%20%20%20%20%20function%20geo_json_ef973eabcc4c4c229f7bc62b2aaf90de_onEachFeature%28feature%2C%20layer%29%20%7B%0A%20%20%20%20%20%20%20%20%20%20%20%20layer.on%28%7B%0A%20%20%20%20%20%20%20%20%20%20%20%20%7D%29%3B%0A%20%20%20%20%20%20%20%20%7D%3B%0A%20%20%20%20%20%20%20%20var%20geo_json_ef973eabcc4c4c229f7bc62b2aaf90de%20%3D%20L.geoJson%28null%2C%20%7B%0A%20%20%20%20%20%20%20%20%20%20%20%20%20%20%20%20onEachFeature%3A%20geo_json_ef973eabcc4c4c229f7bc62b2aaf90de_onEachFeature%2C%0A%20%20%20%20%20%20%20%20%20%20%20%20%0A%20%20%20%20%20%20%20%20%7D%29%3B%0A%0A%20%20%20%20%20%20%20%20function%20geo_json_ef973eabcc4c4c229f7bc62b2aaf90de_add%20%28data%29%20%7B%0A%20%20%20%20%20%20%20%20%20%20%20%20geo_json_ef973eabcc4c4c229f7bc62b2aaf90de%0A%20%20%20%20%20%20%20%20%20%20%20%20%20%20%20%20.addData%28data%29%0A%20%20%20%20%20%20%20%20%20%20%20%20%20%20%20%20.addTo%28map_3bfae2d7b46249dc8628761626b97c75%29%3B%0A%20%20%20%20%20%20%20%20%7D%0A%20%20%20%20%20%20%20%20%20%20%20%20geo_json_ef973eabcc4c4c229f7bc62b2aaf90de_add%28%7B%22features%22%3A%20%5B%7B%22geometry%22%3A%20%7B%22coordinates%22%3A%20%5B%5B%5B116.71875%2C%2040.78125%5D%2C%20%5B118.125%2C%2040.78125%5D%2C%20%5B118.125%2C%2042.1875%5D%2C%20%5B116.71875%2C%2042.1875%5D%2C%20%5B116.71875%2C%2040.78125%5D%5D%5D%2C%20%22type%22%3A%20%22Polygon%22%7D%2C%20%22properties%22%3A%20%7B%22geohash_list%22%3A%20%22wx7%22%7D%2C%20%22type%22%3A%20%22Feature%22%7D%2C%20%7B%22geometry%22%3A%20%7B%22coordinates%22%3A%20%5B%5B%5B115.3125%2C%2037.96875%5D%2C%20%5B116.71875%2C%2037.96875%5D%2C%20%5B116.71875%2C%2039.375%5D%2C%20%5B115.3125%2C%2039.375%5D%2C%20%5B115.3125%2C%2037.96875%5D%5D%5D%2C%20%22type%22%3A%20%22Polygon%22%7D%2C%20%22properties%22%3A%20%7B%22geohash_list%22%3A%20%22wwf%22%7D%2C%20%22type%22%3A%20%22Feature%22%7D%2C%20%7B%22geometry%22%3A%20%7B%22coordinates%22%3A%20%5B%5B%5B113.90625%2C%2040.78125%5D%2C%20%5B115.3125%2C%2040.78125%5D%2C%20%5B115.3125%2C%2042.1875%5D%2C%20%5B113.90625%2C%2042.1875%5D%2C%20%5B113.90625%2C%2040.78125%5D%5D%5D%2C%20%22type%22%3A%20%22Polygon%22%7D%2C%20%22properties%22%3A%20%7B%22geohash_list%22%3A%20%22wx3%22%7D%2C%20%22type%22%3A%20%22Feature%22%7D%2C%20%7B%22geometry%22%3A%20%7B%22coordinates%22%3A%20%5B%5B%5B116.71875%2C%2037.96875%5D%2C%20%5B118.125%2C%2037.96875%5D%2C%20%5B118.125%2C%2039.375%5D%2C%20%5B116.71875%2C%2039.375%5D%2C%20%5B116.71875%2C%2037.96875%5D%5D%5D%2C%20%22type%22%3A%20%22Polygon%22%7D%2C%20%22properties%22%3A%20%7B%22geohash_list%22%3A%20%22wwg%22%7D%2C%20%22type%22%3A%20%22Feature%22%7D%2C%20%7B%22geometry%22%3A%20%7B%22coordinates%22%3A%20%5B%5B%5B113.90625%2C%2037.96875%5D%2C%20%5B115.3125%2C%2037.96875%5D%2C%20%5B115.3125%2C%2039.375%5D%2C%20%5B113.90625%2C%2039.375%5D%2C%20%5B113.90625%2C%2037.96875%5D%5D%5D%2C%20%22type%22%3A%20%22Polygon%22%7D%2C%20%22properties%22%3A%20%7B%22geohash_list%22%3A%20%22wwc%22%7D%2C%20%22type%22%3A%20%22Feature%22%7D%2C%20%7B%22geometry%22%3A%20%7B%22coordinates%22%3A%20%5B%5B%5B115.3125%2C%2039.375%5D%2C%20%5B116.71875%2C%2039.375%5D%2C%20%5B116.71875%2C%2040.78125%5D%2C%20%5B115.3125%2C%2040.78125%5D%2C%20%5B115.3125%2C%2039.375%5D%5D%5D%2C%20%22type%22%3A%20%22Polygon%22%7D%2C%20%22properties%22%3A%20%7B%22geohash_list%22%3A%20%22wx4%22%7D%2C%20%22type%22%3A%20%22Feature%22%7D%2C%20%7B%22geometry%22%3A%20%7B%22coordinates%22%3A%20%5B%5B%5B113.90625%2C%2039.375%5D%2C%20%5B115.3125%2C%2039.375%5D%2C%20%5B115.3125%2C%2040.78125%5D%2C%20%5B113.90625%2C%2040.78125%5D%2C%20%5B113.90625%2C%2039.375%5D%5D%5D%2C%20%22type%22%3A%20%22Polygon%22%7D%2C%20%22properties%22%3A%20%7B%22geohash_list%22%3A%20%22wx1%22%7D%2C%20%22type%22%3A%20%22Feature%22%7D%2C%20%7B%22geometry%22%3A%20%7B%22coordinates%22%3A%20%5B%5B%5B115.3125%2C%2040.78125%5D%2C%20%5B116.71875%2C%2040.78125%5D%2C%20%5B116.71875%2C%2042.1875%5D%2C%20%5B115.3125%2C%2042.1875%5D%2C%20%5B115.3125%2C%2040.78125%5D%5D%5D%2C%20%22type%22%3A%20%22Polygon%22%7D%2C%20%22properties%22%3A%20%7B%22geohash_list%22%3A%20%22wx6%22%7D%2C%20%22type%22%3A%20%22Feature%22%7D%2C%20%7B%22geometry%22%3A%20%7B%22coordinates%22%3A%20%5B%5B%5B116.71875%2C%2039.375%5D%2C%20%5B118.125%2C%2039.375%5D%2C%20%5B118.125%2C%2040.78125%5D%2C%20%5B116.71875%2C%2040.78125%5D%2C%20%5B116.71875%2C%2039.375%5D%5D%5D%2C%20%22type%22%3A%20%22Polygon%22%7D%2C%20%22properties%22%3A%20%7B%22geohash_list%22%3A%20%22wx5%22%7D%2C%20%22type%22%3A%20%22Feature%22%7D%5D%2C%20%22type%22%3A%20%22FeatureCollection%22%7D%29%3B%0A%0A%20%20%20%20%20%20%20%20%0A%3C/script%3E onload=\"this.contentDocument.open();this.contentDocument.write(    decodeURIComponent(this.getAttribute('data-html')));this.contentDocument.close();\" allowfullscreen webkitallowfullscreen mozallowfullscreen></iframe></div></div>"
      ],
      "text/plain": [
       "<folium.folium.Map at 0x7fbe1c68e8b0>"
      ]
     },
     "execution_count": 4,
     "metadata": {},
     "output_type": "execute_result"
    }
   ],
   "source": [
    "import folium\n",
    "m = folium.Map([39.20, 116.26], zoom_start=12, tiles='cartodbpositron')\n",
    "folium.GeoJson(SanFranGrid, name=\"geojson\").add_to(m)\n",
    "m"
   ]
  },
  {
   "cell_type": "code",
   "execution_count": 5,
   "id": "waiting-westminster",
   "metadata": {},
   "outputs": [],
   "source": [
    "from shapely import wkt\n",
    "geo_df.to_csv(\"Tassellation.csv\") #solito problema per ordinare il geodataframe\n",
    "tasselation = pd.read_csv(\"./Tassellation.csv\")\n",
    "del tasselation[\"Unnamed: 0\"]\n",
    "tasselation['geometry'] = tasselation['geometry'].apply(wkt.loads)\n",
    "geo_tassellation = gpd.GeoDataFrame(\n",
    "    tasselation,geometry='geometry')"
   ]
  },
  {
   "cell_type": "code",
   "execution_count": 6,
   "id": "particular-calculator",
   "metadata": {},
   "outputs": [],
   "source": [
    "new_geo = geo_tassellation.drop_duplicates(subset='geohash_list')"
   ]
  },
  {
   "cell_type": "code",
   "execution_count": 7,
   "id": "devoted-handle",
   "metadata": {},
   "outputs": [],
   "source": [
    "new_geo = new_geo.reset_index()"
   ]
  },
  {
   "cell_type": "code",
   "execution_count": 8,
   "id": "noticed-huntington",
   "metadata": {},
   "outputs": [],
   "source": [
    "del new_geo['index']"
   ]
  },
  {
   "cell_type": "code",
   "execution_count": 9,
   "id": "empty-biology",
   "metadata": {},
   "outputs": [
    {
     "data": {
      "text/html": [
       "<div>\n",
       "<style scoped>\n",
       "    .dataframe tbody tr th:only-of-type {\n",
       "        vertical-align: middle;\n",
       "    }\n",
       "\n",
       "    .dataframe tbody tr th {\n",
       "        vertical-align: top;\n",
       "    }\n",
       "\n",
       "    .dataframe thead th {\n",
       "        text-align: right;\n",
       "    }\n",
       "</style>\n",
       "<table border=\"1\" class=\"dataframe\">\n",
       "  <thead>\n",
       "    <tr style=\"text-align: right;\">\n",
       "      <th></th>\n",
       "      <th>geohash_list</th>\n",
       "      <th>geometry</th>\n",
       "    </tr>\n",
       "  </thead>\n",
       "  <tbody>\n",
       "    <tr>\n",
       "      <th>0</th>\n",
       "      <td>wx7</td>\n",
       "      <td>POLYGON ((116.71875 40.78125, 118.12500 40.781...</td>\n",
       "    </tr>\n",
       "    <tr>\n",
       "      <th>1</th>\n",
       "      <td>wwf</td>\n",
       "      <td>POLYGON ((115.31250 37.96875, 116.71875 37.968...</td>\n",
       "    </tr>\n",
       "    <tr>\n",
       "      <th>2</th>\n",
       "      <td>wx3</td>\n",
       "      <td>POLYGON ((113.90625 40.78125, 115.31250 40.781...</td>\n",
       "    </tr>\n",
       "    <tr>\n",
       "      <th>3</th>\n",
       "      <td>wwg</td>\n",
       "      <td>POLYGON ((116.71875 37.96875, 118.12500 37.968...</td>\n",
       "    </tr>\n",
       "    <tr>\n",
       "      <th>4</th>\n",
       "      <td>wwc</td>\n",
       "      <td>POLYGON ((113.90625 37.96875, 115.31250 37.968...</td>\n",
       "    </tr>\n",
       "    <tr>\n",
       "      <th>5</th>\n",
       "      <td>wx4</td>\n",
       "      <td>POLYGON ((115.31250 39.37500, 116.71875 39.375...</td>\n",
       "    </tr>\n",
       "    <tr>\n",
       "      <th>6</th>\n",
       "      <td>wx1</td>\n",
       "      <td>POLYGON ((113.90625 39.37500, 115.31250 39.375...</td>\n",
       "    </tr>\n",
       "    <tr>\n",
       "      <th>7</th>\n",
       "      <td>wx6</td>\n",
       "      <td>POLYGON ((115.31250 40.78125, 116.71875 40.781...</td>\n",
       "    </tr>\n",
       "    <tr>\n",
       "      <th>8</th>\n",
       "      <td>wx5</td>\n",
       "      <td>POLYGON ((116.71875 39.37500, 118.12500 39.375...</td>\n",
       "    </tr>\n",
       "  </tbody>\n",
       "</table>\n",
       "</div>"
      ],
      "text/plain": [
       "  geohash_list                                           geometry\n",
       "0          wx7  POLYGON ((116.71875 40.78125, 118.12500 40.781...\n",
       "1          wwf  POLYGON ((115.31250 37.96875, 116.71875 37.968...\n",
       "2          wx3  POLYGON ((113.90625 40.78125, 115.31250 40.781...\n",
       "3          wwg  POLYGON ((116.71875 37.96875, 118.12500 37.968...\n",
       "4          wwc  POLYGON ((113.90625 37.96875, 115.31250 37.968...\n",
       "5          wx4  POLYGON ((115.31250 39.37500, 116.71875 39.375...\n",
       "6          wx1  POLYGON ((113.90625 39.37500, 115.31250 39.375...\n",
       "7          wx6  POLYGON ((115.31250 40.78125, 116.71875 40.781...\n",
       "8          wx5  POLYGON ((116.71875 39.37500, 118.12500 39.375..."
      ]
     },
     "execution_count": 9,
     "metadata": {},
     "output_type": "execute_result"
    }
   ],
   "source": [
    "new_geo"
   ]
  },
  {
   "cell_type": "code",
   "execution_count": 10,
   "id": "monthly-boring",
   "metadata": {},
   "outputs": [],
   "source": [
    "gdf = gpd.read_file('./Beijing-Boundaries.geojson')\n",
    "primary_df = polygeohasher.create_geohash_list(gdf,5,inner=False)\n",
    "geo_df = polygeohasher.geohashes_to_geometry(primary_df,\"geohash_list\")\n",
    "geo_df.to_file(\"SanFranciscoGrid.geojson\",driver = \"GeoJSON\")\n",
    "SanFranGrid = json.load(open('SanFranciscoGrid.geojson','r'))"
   ]
  },
  {
   "cell_type": "code",
   "execution_count": 11,
   "id": "outdoor-clearance",
   "metadata": {},
   "outputs": [],
   "source": [
    "geo_df.to_csv(\"Tassellation.csv\") #solito problema per ordinare il geodataframe\n",
    "tasselation = pd.read_csv(\"./Tassellation.csv\")\n",
    "del tasselation[\"Unnamed: 0\"]\n",
    "tasselation['geometry'] = tasselation['geometry'].apply(wkt.loads)\n",
    "geo_tassellation = gpd.GeoDataFrame(\n",
    "    tasselation,geometry='geometry')"
   ]
  },
  {
   "cell_type": "code",
   "execution_count": 12,
   "id": "incomplete-relations",
   "metadata": {},
   "outputs": [],
   "source": [
    "sixGeo = geo_tassellation.drop_duplicates(subset='geohash_list')"
   ]
  },
  {
   "cell_type": "code",
   "execution_count": 13,
   "id": "armed-greenhouse",
   "metadata": {},
   "outputs": [],
   "source": [
    "sixGeo = sixGeo.reset_index()"
   ]
  },
  {
   "cell_type": "code",
   "execution_count": 14,
   "id": "intensive-combining",
   "metadata": {},
   "outputs": [],
   "source": [
    "del sixGeo['index']"
   ]
  },
  {
   "cell_type": "code",
   "execution_count": 23,
   "id": "macro-nerve",
   "metadata": {},
   "outputs": [],
   "source": [
    "i = 0\n",
    "areaLen = len(allArea['geohash_list'])\n",
    "sixLen= len(sixGeo['geohash_list'])\n",
    "result =[]\n",
    "\n",
    "while(i<areaLen):\n",
    "    j=0\n",
    "    find = 0\n",
    "    while(j<sixLen and find !=1 ):\n",
    "        if(sixGeo['geohash_list'][j]==allArea['geohash_list'][i]):\n",
    "            result.append(sixGeo['geometry'][j])\n",
    "            find = 1\n",
    "        else:    \n",
    "            j=j+1  \n",
    "    i=i+1"
   ]
  },
  {
   "cell_type": "code",
   "execution_count": 24,
   "id": "negative-reply",
   "metadata": {},
   "outputs": [],
   "source": [
    "allArea['geometry'] = result"
   ]
  },
  {
   "cell_type": "code",
   "execution_count": 25,
   "id": "polar-belief",
   "metadata": {},
   "outputs": [],
   "source": [
    "from shapely.geometry import Point, Polygon\n",
    "def checkPolygon(allArea,new_geo):\n",
    "    i = 0\n",
    "    find = 0\n",
    "    result = []\n",
    "    areaLen = len(allArea['geohash_list'])\n",
    "    geoLen = len(new_geo['geohash_list'])\n",
    "    while(i<areaLen):\n",
    "        if(allArea['geometry'][i].within(new_geo['geometry'][0])):\n",
    "            result.append('NORD-EST')\n",
    "        elif(allArea['geometry'][i].within(new_geo['geometry'][1])):\n",
    "            result.append('SUD')\n",
    "        elif(allArea['geometry'][i].within(new_geo['geometry'][2])):\n",
    "            result.append('NORD-OVEST')\n",
    "        elif(allArea['geometry'][i].within(new_geo['geometry'][3])):\n",
    "            result.append('SUD-EST')\n",
    "        elif(allArea['geometry'][i].within(new_geo['geometry'][4])):\n",
    "            result.append('SUD-OVEST')\n",
    "        elif(allArea['geometry'][i].within(new_geo['geometry'][5])):\n",
    "            result.append('CENTRO')\n",
    "        elif(allArea['geometry'][i].within(new_geo['geometry'][6])):\n",
    "            result.append('OVEST')\n",
    "        elif(allArea['geometry'][i].within(new_geo['geometry'][7])):\n",
    "            result.append('NORD')\n",
    "        elif(allArea['geometry'][i].within(new_geo['geometry'][8])):\n",
    "            result.append('EST')\n",
    "        i=i+1\n",
    "    return result"
   ]
  },
  {
   "cell_type": "code",
   "execution_count": 26,
   "id": "removed-elephant",
   "metadata": {},
   "outputs": [],
   "source": [
    "result = checkPolygon(allArea,new_geo)"
   ]
  },
  {
   "cell_type": "code",
   "execution_count": 27,
   "id": "structural-marks",
   "metadata": {},
   "outputs": [],
   "source": [
    "allArea['Direction'] = result"
   ]
  },
  {
   "cell_type": "code",
   "execution_count": 28,
   "id": "assigned-alaska",
   "metadata": {},
   "outputs": [],
   "source": [
    "#devo creare rispettivamente le tabelle sia per i varie cardinalità\n",
    "def createTable(allArea):\n",
    "    i = 0\n",
    "    idPartenza = []\n",
    "    idArrivo = []\n",
    "    allAreaLen = len(allArea['geohash_list'])\n",
    "    while(i<allAreaLen):\n",
    "        j=0\n",
    "        while(j<allAreaLen):\n",
    "            idPartenza.append(allArea['geohash_list'][i])\n",
    "            idArrivo.append(allArea['geohash_list'][j])\n",
    "            j=j+1\n",
    "        i=i+1\n",
    "    df = pd.DataFrame()\n",
    "    df['IdPartenza'] = idPartenza\n",
    "    df['IdArrivo'] = idArrivo\n",
    "    return df"
   ]
  },
  {
   "cell_type": "code",
   "execution_count": 29,
   "id": "impressive-guyana",
   "metadata": {},
   "outputs": [],
   "source": [
    "def y(df1,allStart):\n",
    "    i = 0\n",
    "    result = []\n",
    "    alldf1Len = len(df1['IdArrivo'])\n",
    "    while(i<alldf1Len):\n",
    "        areaPartenza = allStart[allStart.geohash_area == df1['IdPartenza'][i]]\n",
    "        areaPartenza1 = areaPartenza[areaPartenza.end == df1['IdArrivo'][i]]\n",
    "\n",
    "        result.append(len(areaPartenza1))\n",
    "\n",
    "        i=i+1\n",
    "    return result"
   ]
  },
  {
   "cell_type": "code",
   "execution_count": 30,
   "id": "sticky-patient",
   "metadata": {},
   "outputs": [],
   "source": [
    "def createSet(allArea):\n",
    "    i = 0\n",
    "    StartingVehicleA = []\n",
    "    EndingVehicles =[]\n",
    "    TotNumberRecordVehicles =[]\n",
    "    maxSpeed_km =[]\n",
    "    AverageSpeed =[]\n",
    "    OutEdges =[]\n",
    "    InEdges =[]\n",
    "    VehiclesNight =[]\n",
    "    VehiclesMorning =[]\n",
    "    VehiclesAfternoon =[]\n",
    "    VehiclesEvening =[]\n",
    "    Density_n =[]\n",
    "    AccelarationMax =[]\n",
    "    AverageAcceleration =[]\n",
    "    NumberTotalPointInterest =[]\n",
    "    NumberCulturalPoint =[]\n",
    "    NumberFinancePoint =[]\n",
    "    NumberHealthPoint =[]\n",
    "    NumberTrasportationPoint =[]\n",
    "    NumberEducationPoint = []\n",
    "    NumberEnterteimentPoint = []\n",
    "    RecordWeekend =[]\n",
    "    RecordWeek =[]\n",
    "\n",
    "    StartingVehicleB = []\n",
    "    EndingVehiclesB =[]\n",
    "    TotNumberRecordVehiclesB =[]\n",
    "    maxSpeed_kmB =[]\n",
    "    AverageSpeedB =[]\n",
    "    OutEdgesB =[]\n",
    "    InEdgesB =[]\n",
    "    VehiclesNightB =[]\n",
    "    VehiclesMorningB =[]\n",
    "    VehiclesAfternoonB =[]\n",
    "    VehiclesEveningB =[]\n",
    "    Density_nB =[]\n",
    "    AccelarationMaxB =[]\n",
    "    AverageAcceleration_mB =[]\n",
    "    NumberTotalPointInterestB =[]\n",
    "    NumberCulturalPointB =[]\n",
    "    NumberFinancePointB =[]\n",
    "    NumberHealthPointB =[]\n",
    "    NumberTrasportationPointB =[]\n",
    "    NumberEducationPointB =[]\n",
    "    NumberEnterteimentPointB =[]\n",
    "    RecordWeekendB =[]\n",
    "    RecordWeekB =[]\n",
    "\n",
    "\n",
    "    allAreaLen = len(allArea['geohash_list'])\n",
    "    while(i<allAreaLen):\n",
    "        j=0\n",
    "        while(j<allAreaLen):\n",
    "\n",
    "            StartingVehicleA.append(allArea['StartingVehicles'][i])\n",
    "            EndingVehicles.append(allArea['EndingVehicles'][i])\n",
    "            TotNumberRecordVehicles.append(allArea['TotNumberRecordVehicles'][i])\n",
    "            maxSpeed_km.append(allArea['maxSpeed_km/h'][i])\n",
    "            AverageSpeed.append(allArea['AverageSpeed'][i])\n",
    "            OutEdges.append(allArea['OutEdges'][i])\n",
    "            InEdges.append(allArea['InEdges'][i])\n",
    "            VehiclesNight.append(allArea['VehiclesNight(24-5 am)'][i])\n",
    "            VehiclesMorning.append(allArea['VehiclesMorning(6-12 am)'][i])\n",
    "            VehiclesAfternoon.append(allArea['VehiclesAfternoon(13-18 pm)'][i])\n",
    "            VehiclesEvening.append(allArea['VehiclesEvening(19-23 pm)'][i])\n",
    "            Density_n.append(allArea['Density_n/km^2'][i])\n",
    "            AccelarationMax.append(allArea['AccelarationMax'][i])\n",
    "            AverageAcceleration.append(allArea['AverageAcceleration_m/s^2'][i])\n",
    "            NumberTotalPointInterest.append(allArea['NumberTotalPointInterest'][i])\n",
    "            NumberCulturalPoint.append(allArea['NumberCulturalPoint(\"Museum-Attraction-Ruins\")'][i])\n",
    "            NumberEducationPoint.append(allArea['NumberEducationPoint(\"University-Library\")'][i])\n",
    "            NumberEnterteimentPoint.append(allArea['NumberEnterteimentPoint(\"Cinema-Theatre-Zoo-Stadium-SwimmingPool\")'][i])\n",
    "            NumberFinancePoint.append(allArea['NumberFinancePoint(\"Bank-Company\")'][i])\n",
    "            NumberHealthPoint.append(allArea['NumberHealthPoint(\"Hospital-Dentist-Pharmacy\")'][i])\n",
    "            NumberTrasportationPoint.append(allArea['NumberTrasportationPoint(\"Fuel-BusStation-TaxiStop\")'][i])\n",
    "            RecordWeekend.append(allArea['NumberWeekendPoint(2-3)'][i])\n",
    "            RecordWeek.append(allArea['NumberWeekPoint(4-5-6-7-8)'][i])\n",
    "\n",
    "\n",
    "\n",
    "\n",
    "\n",
    "\n",
    "            #B\n",
    "\n",
    "\n",
    "            StartingVehicleB.append(allArea['StartingVehicles'][j])\n",
    "            EndingVehiclesB.append(allArea['EndingVehicles'][j])\n",
    "            TotNumberRecordVehiclesB.append(allArea['TotNumberRecordVehicles'][j])\n",
    "            maxSpeed_kmB.append(allArea['maxSpeed_km/h'][j])\n",
    "            AverageSpeedB.append(allArea['AverageSpeed'][j])\n",
    "            OutEdgesB.append(allArea['OutEdges'][j])\n",
    "            InEdgesB.append(allArea['InEdges'][j])\n",
    "            VehiclesNightB.append(allArea['VehiclesNight(24-5 am)'][j])\n",
    "            VehiclesMorningB.append(allArea['VehiclesMorning(6-12 am)'][j])\n",
    "            VehiclesAfternoonB.append(allArea['VehiclesAfternoon(13-18 pm)'][j])\n",
    "            VehiclesEveningB.append(allArea['VehiclesEvening(19-23 pm)'][j])\n",
    "            Density_nB.append(allArea['Density_n/km^2'][j])\n",
    "            AccelarationMaxB.append(allArea['AccelarationMax'][j])\n",
    "            AverageAcceleration_mB.append(allArea['AverageAcceleration_m/s^2'][j])\n",
    "            NumberTotalPointInterestB.append(allArea['NumberTotalPointInterest'][j])\n",
    "            NumberCulturalPointB.append(allArea['NumberCulturalPoint(\"Museum-Attraction-Ruins\")'][j])\n",
    "            NumberEducationPointB.append(allArea['NumberEducationPoint(\"University-Library\")'][j])\n",
    "            NumberEnterteimentPointB.append(allArea['NumberEnterteimentPoint(\"Cinema-Theatre-Zoo-Stadium-SwimmingPool\")'][j])\n",
    "            NumberFinancePointB.append(allArea['NumberFinancePoint(\"Bank-Company\")'][j])\n",
    "            NumberHealthPointB.append(allArea['NumberHealthPoint(\"Hospital-Dentist-Pharmacy\")'][j])\n",
    "            NumberTrasportationPointB.append(allArea['NumberTrasportationPoint(\"Fuel-BusStation-TaxiStop\")'][j])\n",
    "            RecordWeekendB.append(allArea['NumberWeekendPoint(2-3)'][j])\n",
    "            RecordWeekB.append(allArea['NumberWeekPoint(4-5-6-7-8)'][j])\n",
    "\n",
    "\n",
    "\n",
    "\n",
    "            j=j+1\n",
    "        i=i+1\n",
    "    df2 = pd.DataFrame()\n",
    "    df2['StartingVehiclesA'] = StartingVehicleA\n",
    "    df2['EndingVehiclesA'] = EndingVehicles\n",
    "    df2['TotNumberRecordVehiclesA'] = TotNumberRecordVehicles\n",
    "    df2['maxSpeedKm/hA'] = maxSpeed_km\n",
    "    df2['AverageSpeedA'] = AverageSpeed\n",
    "    df2['OutEdgesA'] =OutEdges\n",
    "    df2['InEdgesA'] =InEdges\n",
    "    df2['VehiclesNightA'] = VehiclesNight\n",
    "    df2['VehiclesMorningA'] =VehiclesMorning\n",
    "    df2['VehiclesAfternoonA'] = VehiclesAfternoon\n",
    "    df2['VehiclesEveningA'] =VehiclesEvening\n",
    "    df2['Density_n/km^2A'] =Density_n\n",
    "    df2['AccelerationMaxA'] = AccelarationMax\n",
    "    df2['AverageAccelerationA'] = AverageAcceleration\n",
    "    df2['NumberTotalPointInterestA'] = NumberTotalPointInterest\n",
    "    df2['NumberCulturalPointA'] = NumberCulturalPoint\n",
    "    df2['NumberEducationPointA']= NumberEducationPoint\n",
    "    df2['NumberEnterteimentPointA'] = NumberEnterteimentPoint\n",
    "    df2['NumberFinancePointA'] = NumberFinancePoint\n",
    "    df2['NumberHealthPointA'] = NumberHealthPoint\n",
    "    df2['NumberTrasportationPointA'] = NumberTrasportationPoint\n",
    "    df2['RecordWeekendA'] = RecordWeekend\n",
    "    df2['RecordWeekA'] = RecordWeek\n",
    "\n",
    "\n",
    "    #B\n",
    "\n",
    "    df2['StartingVehiclesB'] = StartingVehicleB\n",
    "    df2['EndingVehiclesB'] = EndingVehiclesB\n",
    "    df2['TotNumberRecordVehiclesB'] = TotNumberRecordVehiclesB\n",
    "    df2['maxSpeedKm/hB'] = maxSpeed_kmB\n",
    "    df2['AverageSpeedB'] = AverageSpeedB\n",
    "    df2['OutEdgesB'] =OutEdgesB\n",
    "    df2['InEdgesB'] =InEdgesB\n",
    "    df2['VehiclesNightB'] = VehiclesNightB\n",
    "    df2['VehiclesMorningB'] =VehiclesMorningB\n",
    "    df2['VehiclesAfternoonB'] = VehiclesAfternoonB\n",
    "    df2['VehiclesEveningB'] =VehiclesEveningB\n",
    "    df2['Density_n/km^2B'] =Density_nB\n",
    "    df2['AccelerationMaxB'] = AccelarationMaxB\n",
    "    df2['AverageAccelerationB'] = AverageAcceleration_mB\n",
    "    df2['NumberTotalPointInterestB'] = NumberTotalPointInterestB\n",
    "    df2['NumberCulturalPointB'] = NumberCulturalPointB\n",
    "    df2['NumberEducationPointB'] = NumberEducationPointB\n",
    "    df2['NumberEnterteimentPointB'] = NumberEnterteimentPointB\n",
    "    df2['NumberFinancePointB'] = NumberFinancePointB\n",
    "    df2['NumberHealthPointB'] = NumberHealthPointB\n",
    "    df2['NumberTrasportationPointB'] = NumberTrasportationPointB\n",
    "    df2['RecordWeekendB'] = RecordWeekendB\n",
    "    df2['RecordWeekB'] = RecordWeekB\n",
    "    \n",
    "    return df2"
   ]
  },
  {
   "cell_type": "markdown",
   "id": "understood-progress",
   "metadata": {},
   "source": [
    "# Training & test (EST vs NORD)"
   ]
  },
  {
   "cell_type": "code",
   "execution_count": 39,
   "id": "buried-clothing",
   "metadata": {},
   "outputs": [],
   "source": [
    "nordGeoData = allArea[allArea.Direction == 'NORD']\n",
    "nordGeoData = nordGeoData.reset_index()\n",
    "del nordGeoData['index']"
   ]
  },
  {
   "cell_type": "code",
   "execution_count": 40,
   "id": "reverse-patent",
   "metadata": {},
   "outputs": [],
   "source": [
    "estGeoData = allArea[allArea.Direction == 'EST']\n",
    "estGeoData = estGeoData.reset_index()\n",
    "del estGeoData['index']"
   ]
  },
  {
   "cell_type": "code",
   "execution_count": 41,
   "id": "comprehensive-girlfriend",
   "metadata": {},
   "outputs": [],
   "source": [
    "dfNord = createTable(nordGeoData)"
   ]
  },
  {
   "cell_type": "code",
   "execution_count": 42,
   "id": "bigger-huntington",
   "metadata": {},
   "outputs": [],
   "source": [
    "dfEst = createTable(estGeoData)"
   ]
  },
  {
   "cell_type": "code",
   "execution_count": 43,
   "id": "accomplished-alarm",
   "metadata": {},
   "outputs": [],
   "source": [
    "yEst = y(dfEst,allStart)"
   ]
  },
  {
   "cell_type": "code",
   "execution_count": 44,
   "id": "saving-medication",
   "metadata": {},
   "outputs": [],
   "source": [
    "yNord =y(dfNord,allStart)"
   ]
  },
  {
   "cell_type": "code",
   "execution_count": 45,
   "id": "powered-working",
   "metadata": {},
   "outputs": [],
   "source": [
    "df2Est = createSet(estGeoData)"
   ]
  },
  {
   "cell_type": "code",
   "execution_count": 46,
   "id": "funded-sensitivity",
   "metadata": {},
   "outputs": [],
   "source": [
    "df2Nord = createSet(nordGeoData)"
   ]
  },
  {
   "cell_type": "code",
   "execution_count": 47,
   "id": "turkish-microphone",
   "metadata": {},
   "outputs": [],
   "source": [
    "df2Est['y'] = yEst"
   ]
  },
  {
   "cell_type": "code",
   "execution_count": 48,
   "id": "capable-baseball",
   "metadata": {},
   "outputs": [],
   "source": [
    "df2Nord['y'] = yNord"
   ]
  },
  {
   "cell_type": "markdown",
   "id": "known-pearl",
   "metadata": {},
   "source": [
    "# KNN preprocessing Est vs Nord"
   ]
  },
  {
   "cell_type": "code",
   "execution_count": 54,
   "id": "delayed-calcium",
   "metadata": {},
   "outputs": [],
   "source": [
    "from sklearn.neighbors import KNeighborsClassifier, KNeighborsRegressor\n",
    "from sklearn.preprocessing import MinMaxScaler, StandardScaler\n",
    "from sklearn.metrics import mean_absolute_error, mean_squared_error, r2_score"
   ]
  },
  {
   "cell_type": "code",
   "execution_count": 55,
   "id": "authentic-newfoundland",
   "metadata": {},
   "outputs": [],
   "source": [
    "class_name = 'y'\n",
    "\n",
    "attributes = [col for col in df2Est.columns if col != class_name]\n",
    "X = df2Est[attributes].values\n",
    "y=df2Est[class_name]\n",
    "\n",
    "\n",
    "X1 = df2Nord[attributes].values\n",
    "y1=df2Nord[class_name]"
   ]
  },
  {
   "cell_type": "code",
   "execution_count": 56,
   "id": "single-necklace",
   "metadata": {},
   "outputs": [],
   "source": [
    "X_train = X\n",
    "y_train = y\n",
    "\n",
    "X_test = X1\n",
    "y_test = y1"
   ]
  },
  {
   "cell_type": "code",
   "execution_count": 57,
   "id": "amazing-offer",
   "metadata": {},
   "outputs": [],
   "source": [
    "scaler = StandardScaler()\n",
    "\n",
    "\n",
    "X_train_s = scaler.fit_transform(X_train)\n",
    "\n",
    "X_test_s=scaler.transform(X_test)"
   ]
  },
  {
   "cell_type": "code",
   "execution_count": 181,
   "id": "tender-pearl",
   "metadata": {},
   "outputs": [],
   "source": [
    "errorR2 = []\n",
    "errorMAE = []\n",
    "errorMSE =[]\n",
    "\n",
    "for k in range(1,15):\n",
    "    knn = KNeighborsRegressor(n_neighbors=k,n_jobs=-1,algorithm='kd_tree')\n",
    "    knn.fit(X_train_s,y_train)\n",
    "    y_pred = knn.predict(X_test_s)\n",
    "    errorR2.append(r2_score(y_test,y_pred))\n",
    "    errorMAE.append(mean_absolute_error(y_test,y_pred))\n",
    "    errorMSE.append(mean_squared_error(y_test,y_pred))"
   ]
  },
  {
   "cell_type": "code",
   "execution_count": 182,
   "id": "prospective-packet",
   "metadata": {},
   "outputs": [
    {
     "data": {
      "text/plain": [
       "[<matplotlib.lines.Line2D at 0x7f628c043460>]"
      ]
     },
     "execution_count": 182,
     "metadata": {},
     "output_type": "execute_result"
    },
    {
     "data": {
      "image/png": "[encoded data removed]",
      "text/plain": [
       "<Figure size 720x720 with 1 Axes>"
      ]
     },
     "metadata": {
      "needs_background": "light"
     },
     "output_type": "display_data"
    }
   ],
   "source": [
    "#plot k = 1-15\n",
    "import matplotlib.pyplot as plt\n",
    "plt.rcParams[\"figure.figsize\"] = (10, 10)\n",
    "plt.plot(range(1,15),errorMAE,'bo')\n",
    "plt.plot(range(1,15),errorMSE,'go')\n",
    "plt.plot(range(1,15),errorR2,'ro')"
   ]
  },
  {
   "cell_type": "markdown",
   "id": "operational-greenhouse",
   "metadata": {},
   "source": [
    "# Training & test (NORD vs CENTRO)"
   ]
  },
  {
   "cell_type": "code",
   "execution_count": 49,
   "id": "conceptual-elevation",
   "metadata": {},
   "outputs": [],
   "source": [
    "centroGeoData = allArea[allArea.Direction == 'CENTRO']\n",
    "centroGeoData = centroGeoData.reset_index()\n",
    "del centroGeoData['index']"
   ]
  },
  {
   "cell_type": "code",
   "execution_count": 50,
   "id": "bibliographic-stand",
   "metadata": {},
   "outputs": [],
   "source": [
    "dfCentro = createTable(centroGeoData)"
   ]
  },
  {
   "cell_type": "code",
   "execution_count": 51,
   "id": "radio-specific",
   "metadata": {},
   "outputs": [],
   "source": [
    "yCentro = y(dfCentro,allStart)"
   ]
  },
  {
   "cell_type": "code",
   "execution_count": 52,
   "id": "deluxe-scottish",
   "metadata": {},
   "outputs": [],
   "source": [
    "df2Centro = createSet(centroGeoData)"
   ]
  },
  {
   "cell_type": "code",
   "execution_count": 53,
   "id": "psychological-basis",
   "metadata": {},
   "outputs": [],
   "source": [
    "df2Centro['y'] = yCentro"
   ]
  },
  {
   "cell_type": "code",
   "execution_count": 34,
   "id": "favorite-subscription",
   "metadata": {},
   "outputs": [],
   "source": [
    "nordestGeoData = allArea[allArea.Direction == 'NORD-EST']\n",
    "nordestGeoData = nordestGeoData.reset_index()\n",
    "del nordestGeoData['index']"
   ]
  },
  {
   "cell_type": "code",
   "execution_count": 35,
   "id": "substantial-malaysia",
   "metadata": {},
   "outputs": [],
   "source": [
    "dfNordEst= createTable(nordestGeoData)"
   ]
  },
  {
   "cell_type": "code",
   "execution_count": 36,
   "id": "corresponding-movie",
   "metadata": {},
   "outputs": [],
   "source": [
    "yNordEst = y(dfNordEst,allStart)"
   ]
  },
  {
   "cell_type": "code",
   "execution_count": 37,
   "id": "criminal-frame",
   "metadata": {},
   "outputs": [],
   "source": [
    "df2NordEst = createSet(nordestGeoData)"
   ]
  },
  {
   "cell_type": "code",
   "execution_count": 38,
   "id": "collective-expression",
   "metadata": {},
   "outputs": [],
   "source": [
    "df2NordEst['y'] = yNordEst"
   ]
  },
  {
   "cell_type": "code",
   "execution_count": 41,
   "id": "comfortable-report",
   "metadata": {},
   "outputs": [],
   "source": [
    "df2NordEst.to_csv('df2NordEst.csv')"
   ]
  },
  {
   "cell_type": "markdown",
   "id": "purple-siemens",
   "metadata": {},
   "source": [
    "# KNN preprocessing NORD vs CENTRO"
   ]
  },
  {
   "cell_type": "code",
   "execution_count": 191,
   "id": "twelve-portugal",
   "metadata": {},
   "outputs": [
    {
     "data": {
      "text/plain": [
       "0.006420948556937568"
      ]
     },
     "execution_count": 191,
     "metadata": {},
     "output_type": "execute_result"
    }
   ],
   "source": [
    "df2Centro['y'].mean()"
   ]
  },
  {
   "cell_type": "code",
   "execution_count": 192,
   "id": "extended-stanley",
   "metadata": {},
   "outputs": [],
   "source": [
    "class_name = 'y'\n",
    "\n",
    "cols = [col for col in df2Centro.columns if col != class_name]\n",
    "\n",
    "Q1 = df2Centro[cols].quantile(0.15)\n",
    "Q3 = df2Centro[cols].quantile(0.85)\n",
    "IQR = Q3 - Q1\n",
    "\n",
    "df3Centro = df2Centro[~((df2Centro[cols] < (Q1 - 1.5 * IQR)) |(df2Centro[cols] > (Q3 + 1.5 * IQR))).any(axis=1)]"
   ]
  },
  {
   "cell_type": "code",
   "execution_count": 197,
   "id": "bigger-holocaust",
   "metadata": {},
   "outputs": [],
   "source": [
    "class_name = 'y'\n",
    "\n",
    "attributes = [col for col in df2Nord.columns if col != class_name]\n",
    "X = df2Nord[attributes].values\n",
    "y=df2Nord[class_name]\n",
    "\n",
    "\n",
    "X1 = df3Centro[attributes].values\n",
    "y1=df3Centro[class_name]"
   ]
  },
  {
   "cell_type": "code",
   "execution_count": 198,
   "id": "shaped-kentucky",
   "metadata": {},
   "outputs": [],
   "source": [
    "X_train = X\n",
    "y_train = y\n",
    "\n",
    "X_test = X1\n",
    "y_test = y1"
   ]
  },
  {
   "cell_type": "code",
   "execution_count": 199,
   "id": "choice-examination",
   "metadata": {},
   "outputs": [],
   "source": [
    "scaler = StandardScaler()\n",
    "\n",
    "\n",
    "X_train_s = scaler.fit_transform(X_train)\n",
    "\n",
    "X_test_s=scaler.transform(X_test)"
   ]
  },
  {
   "cell_type": "code",
   "execution_count": 201,
   "id": "falling-vehicle",
   "metadata": {},
   "outputs": [],
   "source": [
    "errorR2 = []\n",
    "errorMAE = []\n",
    "errorMSE =[]\n",
    "\n",
    "for k in range(1,15):\n",
    "    knn = KNeighborsRegressor(n_neighbors=k,n_jobs=-1,algorithm='kd_tree')\n",
    "    knn.fit(X_train_s,y_train)\n",
    "    y_pred = knn.predict(X_test_s)\n",
    "    errorR2.append(r2_score(y_test,y_pred))\n",
    "    errorMAE.append(mean_absolute_error(y_test,y_pred))\n",
    "    errorMSE.append(mean_squared_error(y_test,y_pred))\n",
    "    "
   ]
  },
  {
   "cell_type": "code",
   "execution_count": 202,
   "id": "cross-election",
   "metadata": {},
   "outputs": [
    {
     "data": {
      "text/plain": [
       "[<matplotlib.lines.Line2D at 0x7f627fadacd0>]"
      ]
     },
     "execution_count": 202,
     "metadata": {},
     "output_type": "execute_result"
    },
    {
     "data": {
      "image/png": "[encoded data removed]",
      "text/plain": [
       "<Figure size 720x720 with 1 Axes>"
      ]
     },
     "metadata": {
      "needs_background": "light"
     },
     "output_type": "display_data"
    }
   ],
   "source": [
    "import matplotlib.pyplot as plt\n",
    "plt.rcParams[\"figure.figsize\"] = (10, 10)\n",
    "plt.plot(range(1,15),errorMAE,'bo')\n",
    "plt.plot(range(1,15),errorMSE,'go')\n",
    "plt.plot(range(1,15),errorR2,'ro')"
   ]
  },
  {
   "cell_type": "code",
   "execution_count": 56,
   "id": "standing-saturday",
   "metadata": {},
   "outputs": [],
   "source": [
    "df2Centro.to_csv('dfCentroBeijing')\n",
    "df2Nord.to_csv('dfNordBeijing')\n",
    "df2Est.to_csv('dfEstBeijing')"
   ]
  },
  {
   "cell_type": "code",
   "execution_count": null,
   "id": "recent-refund",
   "metadata": {},
   "outputs": [],
   "source": []
  }
 ],
 "metadata": {
  "kernelspec": {
   "display_name": "Python 3",
   "language": "python",
   "name": "python3"
  },
  "language_info": {
   "codemirror_mode": {
    "name": "ipython",
    "version": 3
   },
   "file_extension": ".py",
   "mimetype": "text/x-python",
   "name": "python",
   "nbconvert_exporter": "python",
   "pygments_lexer": "ipython3",
   "version": "3.9.5"
  }
 },
 "nbformat": 4,
 "nbformat_minor": 5
}
