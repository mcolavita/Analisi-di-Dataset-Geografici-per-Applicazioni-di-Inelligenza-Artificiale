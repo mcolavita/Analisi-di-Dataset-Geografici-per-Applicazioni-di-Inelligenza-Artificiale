{
 "cells": [
  {
   "cell_type": "code",
   "execution_count": 1,
   "id": "naughty-tokyo",
   "metadata": {
    "id": "naughty-tokyo"
   },
   "outputs": [],
   "source": [
    "import pandas as pd"
   ]
  },
  {
   "cell_type": "code",
   "execution_count": 3,
   "id": "legislative-intensity",
   "metadata": {
    "id": "legislative-intensity",
    "outputId": "f9cb2f7a-9597-4c3e-f72a-33a45d01c2f2"
   },
   "outputs": [
    {
     "data": {
      "text/html": [
       "<div>\n",
       "<style scoped>\n",
       "    .dataframe tbody tr th:only-of-type {\n",
       "        vertical-align: middle;\n",
       "    }\n",
       "\n",
       "    .dataframe tbody tr th {\n",
       "        vertical-align: top;\n",
       "    }\n",
       "\n",
       "    .dataframe thead th {\n",
       "        text-align: right;\n",
       "    }\n",
       "</style>\n",
       "<table border=\"1\" class=\"dataframe\">\n",
       "  <thead>\n",
       "    <tr style=\"text-align: right;\">\n",
       "      <th></th>\n",
       "      <th>geohash_list</th>\n",
       "      <th>StartingVehicles</th>\n",
       "      <th>EndingVehicles</th>\n",
       "      <th>TotNumberRecordVehicles</th>\n",
       "      <th>maxSpeed_km/h</th>\n",
       "      <th>AverageSpeed</th>\n",
       "      <th>OutEdges</th>\n",
       "      <th>InEdges</th>\n",
       "      <th>VehiclesNight(24-5 am)</th>\n",
       "      <th>VehiclesMorning(6-12 am)</th>\n",
       "      <th>...</th>\n",
       "      <th>AverageAcceleration_m/s^2</th>\n",
       "      <th>NumberTotalPointInterest</th>\n",
       "      <th>NumberCulturalPoint(\"Museum-Attraction-Ruins\")</th>\n",
       "      <th>NumberFinancePoint(\"Bank-Company\")</th>\n",
       "      <th>NumberHealthPoint(\"Hospital-Dentist-Pharmacy\")</th>\n",
       "      <th>NumberTrasportationPoint(\"Fuel-BusStation-TaxiStop\")</th>\n",
       "      <th>NumberEducationPoint(\"University-Library\")</th>\n",
       "      <th>NumberEnterteimentPoint(\"Cinema-Theatre-Zoo-Stadium-SwimmingPool\")</th>\n",
       "      <th>RecordWeekend</th>\n",
       "      <th>RecordWeek</th>\n",
       "    </tr>\n",
       "  </thead>\n",
       "  <tbody>\n",
       "    <tr>\n",
       "      <th>0</th>\n",
       "      <td>9q8yuj</td>\n",
       "      <td>3</td>\n",
       "      <td>1</td>\n",
       "      <td>2293</td>\n",
       "      <td>147.771689</td>\n",
       "      <td>17.120311</td>\n",
       "      <td>3</td>\n",
       "      <td>1</td>\n",
       "      <td>1031</td>\n",
       "      <td>187</td>\n",
       "      <td>...</td>\n",
       "      <td>0.186663</td>\n",
       "      <td>0</td>\n",
       "      <td>0</td>\n",
       "      <td>0</td>\n",
       "      <td>0</td>\n",
       "      <td>0</td>\n",
       "      <td>0</td>\n",
       "      <td>0</td>\n",
       "      <td>851</td>\n",
       "      <td>1442</td>\n",
       "    </tr>\n",
       "    <tr>\n",
       "      <th>1</th>\n",
       "      <td>9q8yut</td>\n",
       "      <td>49</td>\n",
       "      <td>51</td>\n",
       "      <td>17256</td>\n",
       "      <td>149.291544</td>\n",
       "      <td>18.472934</td>\n",
       "      <td>37</td>\n",
       "      <td>39</td>\n",
       "      <td>4817</td>\n",
       "      <td>3471</td>\n",
       "      <td>...</td>\n",
       "      <td>0.155163</td>\n",
       "      <td>2</td>\n",
       "      <td>2</td>\n",
       "      <td>0</td>\n",
       "      <td>0</td>\n",
       "      <td>0</td>\n",
       "      <td>0</td>\n",
       "      <td>0</td>\n",
       "      <td>6636</td>\n",
       "      <td>10620</td>\n",
       "    </tr>\n",
       "    <tr>\n",
       "      <th>2</th>\n",
       "      <td>9q8yuh</td>\n",
       "      <td>1</td>\n",
       "      <td>1</td>\n",
       "      <td>2193</td>\n",
       "      <td>149.594547</td>\n",
       "      <td>15.923362</td>\n",
       "      <td>1</td>\n",
       "      <td>1</td>\n",
       "      <td>669</td>\n",
       "      <td>275</td>\n",
       "      <td>...</td>\n",
       "      <td>0.152058</td>\n",
       "      <td>4</td>\n",
       "      <td>2</td>\n",
       "      <td>0</td>\n",
       "      <td>1</td>\n",
       "      <td>1</td>\n",
       "      <td>0</td>\n",
       "      <td>0</td>\n",
       "      <td>931</td>\n",
       "      <td>1262</td>\n",
       "    </tr>\n",
       "    <tr>\n",
       "      <th>3</th>\n",
       "      <td>9q8yum</td>\n",
       "      <td>13</td>\n",
       "      <td>17</td>\n",
       "      <td>8386</td>\n",
       "      <td>146.337848</td>\n",
       "      <td>18.008263</td>\n",
       "      <td>8</td>\n",
       "      <td>12</td>\n",
       "      <td>2277</td>\n",
       "      <td>1319</td>\n",
       "      <td>...</td>\n",
       "      <td>0.171032</td>\n",
       "      <td>3</td>\n",
       "      <td>0</td>\n",
       "      <td>0</td>\n",
       "      <td>2</td>\n",
       "      <td>1</td>\n",
       "      <td>0</td>\n",
       "      <td>0</td>\n",
       "      <td>2766</td>\n",
       "      <td>5620</td>\n",
       "    </tr>\n",
       "    <tr>\n",
       "      <th>4</th>\n",
       "      <td>9q8yur</td>\n",
       "      <td>0</td>\n",
       "      <td>0</td>\n",
       "      <td>0</td>\n",
       "      <td>NaN</td>\n",
       "      <td>NaN</td>\n",
       "      <td>0</td>\n",
       "      <td>0</td>\n",
       "      <td>0</td>\n",
       "      <td>0</td>\n",
       "      <td>...</td>\n",
       "      <td>NaN</td>\n",
       "      <td>0</td>\n",
       "      <td>0</td>\n",
       "      <td>0</td>\n",
       "      <td>0</td>\n",
       "      <td>0</td>\n",
       "      <td>0</td>\n",
       "      <td>0</td>\n",
       "      <td>0</td>\n",
       "      <td>0</td>\n",
       "    </tr>\n",
       "  </tbody>\n",
       "</table>\n",
       "<p>5 rows × 24 columns</p>\n",
       "</div>"
      ],
      "text/plain": [
       "  geohash_list  StartingVehicles  EndingVehicles  TotNumberRecordVehicles  \\\n",
       "0       9q8yuj                 3               1                     2293   \n",
       "1       9q8yut                49              51                    17256   \n",
       "2       9q8yuh                 1               1                     2193   \n",
       "3       9q8yum                13              17                     8386   \n",
       "4       9q8yur                 0               0                        0   \n",
       "\n",
       "   maxSpeed_km/h  AverageSpeed  OutEdges  InEdges  VehiclesNight(24-5 am)  \\\n",
       "0     147.771689     17.120311         3        1                    1031   \n",
       "1     149.291544     18.472934        37       39                    4817   \n",
       "2     149.594547     15.923362         1        1                     669   \n",
       "3     146.337848     18.008263         8       12                    2277   \n",
       "4            NaN           NaN         0        0                       0   \n",
       "\n",
       "   VehiclesMorning(6-12 am)  ...  AverageAcceleration_m/s^2  \\\n",
       "0                       187  ...                   0.186663   \n",
       "1                      3471  ...                   0.155163   \n",
       "2                       275  ...                   0.152058   \n",
       "3                      1319  ...                   0.171032   \n",
       "4                         0  ...                        NaN   \n",
       "\n",
       "   NumberTotalPointInterest  NumberCulturalPoint(\"Museum-Attraction-Ruins\")  \\\n",
       "0                         0                                               0   \n",
       "1                         2                                               2   \n",
       "2                         4                                               2   \n",
       "3                         3                                               0   \n",
       "4                         0                                               0   \n",
       "\n",
       "   NumberFinancePoint(\"Bank-Company\")  \\\n",
       "0                                   0   \n",
       "1                                   0   \n",
       "2                                   0   \n",
       "3                                   0   \n",
       "4                                   0   \n",
       "\n",
       "   NumberHealthPoint(\"Hospital-Dentist-Pharmacy\")  \\\n",
       "0                                               0   \n",
       "1                                               0   \n",
       "2                                               1   \n",
       "3                                               2   \n",
       "4                                               0   \n",
       "\n",
       "   NumberTrasportationPoint(\"Fuel-BusStation-TaxiStop\")  \\\n",
       "0                                                  0      \n",
       "1                                                  0      \n",
       "2                                                  1      \n",
       "3                                                  1      \n",
       "4                                                  0      \n",
       "\n",
       "   NumberEducationPoint(\"University-Library\")  \\\n",
       "0                                           0   \n",
       "1                                           0   \n",
       "2                                           0   \n",
       "3                                           0   \n",
       "4                                           0   \n",
       "\n",
       "   NumberEnterteimentPoint(\"Cinema-Theatre-Zoo-Stadium-SwimmingPool\")  \\\n",
       "0                                                  0                    \n",
       "1                                                  0                    \n",
       "2                                                  0                    \n",
       "3                                                  0                    \n",
       "4                                                  0                    \n",
       "\n",
       "   RecordWeekend  RecordWeek  \n",
       "0            851        1442  \n",
       "1           6636       10620  \n",
       "2            931        1262  \n",
       "3           2766        5620  \n",
       "4              0           0  \n",
       "\n",
       "[5 rows x 24 columns]"
      ]
     },
     "execution_count": 3,
     "metadata": {},
     "output_type": "execute_result"
    }
   ],
   "source": [
    "#Recupero la tabella allArea salvata in sanFrancisco.csv\n",
    "allArea = pd.read_csv('sanFrancisco.csv')\n",
    "del allArea['Unnamed: 0']\n",
    "allArea.head()"
   ]
  },
  {
   "cell_type": "code",
   "execution_count": 15,
   "id": "polish-toronto",
   "metadata": {
    "id": "polish-toronto"
   },
   "outputs": [],
   "source": [
    "attributes = [col for col in allArea.columns]\n",
    "\n",
    "allArea[attributes] = allArea[attributes].fillna(0)"
   ]
  },
  {
   "cell_type": "code",
   "execution_count": null,
   "id": "minute-undergraduate",
   "metadata": {
    "id": "minute-undergraduate",
    "outputId": "7f194c76-ae6d-467c-9cb2-e5df7f27aee1"
   },
   "outputs": [
    {
     "name": "stdout",
     "output_type": "stream",
     "text": [
      "geohash_list\n",
      "StartingVehicles\n",
      "EndingVehicles\n",
      "TotNumberRecordVehicles\n",
      "maxSpeed_km/h\n",
      "AverageSpeed\n",
      "OutEdges\n",
      "InEdges\n",
      "VehiclesNight(24-5 am)\n",
      "VehiclesMorning(6-12 am)\n",
      "VehiclesAfternoon(13-18 pm)\n",
      "VehiclesEvening(19-23 pm)\n",
      "Density_n/km^2\n",
      "AccelarationMax\n",
      "AverageAcceleration_m/s^2\n",
      "NumberTotalPointInterest\n",
      "NumberCulturalPoint(\"Museum-Attraction-Ruins\")\n",
      "NumberFinancePoint(\"Bank-Company\")\n",
      "NumberHealthPoint(\"Hospital-Dentist-Pharmacy\")\n",
      "NumberTrasportationPoint(\"Fuel-BusStation-TaxiStop\")\n",
      "NumberEducationPoint(\"University-Library\")\n",
      "NumberEnterteimentPoint(\"Cinema-Theatre-Zoo-Stadium-SwimmingPool\")\n",
      "RecordWeekend\n",
      "RecordWeek\n"
     ]
    }
   ],
   "source": [
    "#Verifico quelli che sono gli attributi all'interno di allArea\n",
    "\n",
    "for c in allArea.columns:\n",
    "    print(c)"
   ]
  },
  {
   "cell_type": "code",
   "execution_count": 16,
   "id": "coordinated-marble",
   "metadata": {
    "id": "coordinated-marble",
    "outputId": "43228d1a-81ac-4caa-ec2b-4ec59cbd7706"
   },
   "outputs": [
    {
     "data": {
      "text/html": [
       "<div>\n",
       "<style scoped>\n",
       "    .dataframe tbody tr th:only-of-type {\n",
       "        vertical-align: middle;\n",
       "    }\n",
       "\n",
       "    .dataframe tbody tr th {\n",
       "        vertical-align: top;\n",
       "    }\n",
       "\n",
       "    .dataframe thead th {\n",
       "        text-align: right;\n",
       "    }\n",
       "</style>\n",
       "<table border=\"1\" class=\"dataframe\">\n",
       "  <thead>\n",
       "    <tr style=\"text-align: right;\">\n",
       "      <th></th>\n",
       "      <th>driver</th>\n",
       "      <th>longitude</th>\n",
       "      <th>latitude</th>\n",
       "      <th>geohash_area</th>\n",
       "      <th>end</th>\n",
       "    </tr>\n",
       "  </thead>\n",
       "  <tbody>\n",
       "    <tr>\n",
       "      <th>0</th>\n",
       "      <td>ashgati</td>\n",
       "      <td>-122.39448</td>\n",
       "      <td>37.75155</td>\n",
       "      <td>9q8yyb</td>\n",
       "      <td>9q8yyb</td>\n",
       "    </tr>\n",
       "    <tr>\n",
       "      <th>1</th>\n",
       "      <td>ashgati</td>\n",
       "      <td>-122.40603</td>\n",
       "      <td>37.77532</td>\n",
       "      <td>9q8yys</td>\n",
       "      <td>9q8yyb</td>\n",
       "    </tr>\n",
       "    <tr>\n",
       "      <th>2</th>\n",
       "      <td>ashgati</td>\n",
       "      <td>-122.39364</td>\n",
       "      <td>37.75149</td>\n",
       "      <td>9q8yyb</td>\n",
       "      <td>9q8yyb</td>\n",
       "    </tr>\n",
       "    <tr>\n",
       "      <th>3</th>\n",
       "      <td>ashgati</td>\n",
       "      <td>-122.39404</td>\n",
       "      <td>37.75056</td>\n",
       "      <td>9q8yyb</td>\n",
       "      <td>9q8yyb</td>\n",
       "    </tr>\n",
       "    <tr>\n",
       "      <th>4</th>\n",
       "      <td>ashgati</td>\n",
       "      <td>-122.39422</td>\n",
       "      <td>37.75218</td>\n",
       "      <td>9q8yyb</td>\n",
       "      <td>9q8yyb</td>\n",
       "    </tr>\n",
       "  </tbody>\n",
       "</table>\n",
       "</div>"
      ],
      "text/plain": [
       "    driver  longitude  latitude geohash_area     end\n",
       "0  ashgati -122.39448  37.75155       9q8yyb  9q8yyb\n",
       "1  ashgati -122.40603  37.77532       9q8yys  9q8yyb\n",
       "2  ashgati -122.39364  37.75149       9q8yyb  9q8yyb\n",
       "3  ashgati -122.39404  37.75056       9q8yyb  9q8yyb\n",
       "4  ashgati -122.39422  37.75218       9q8yyb  9q8yyb"
      ]
     },
     "execution_count": 16,
     "metadata": {},
     "output_type": "execute_result"
    }
   ],
   "source": [
    "#importo ora uno tra allStart o allEnd (entrambi possiedono id_geohashPartenza ed id_geohashArrivo)\n",
    "allStart = pd.read_csv('allStart.csv')\n",
    "del allStart['Unnamed: 0']\n",
    "allStart.head()"
   ]
  },
  {
   "cell_type": "markdown",
   "id": "municipal-validity",
   "metadata": {
    "id": "municipal-validity"
   },
   "source": [
    "            Come si può notare, il dataframe allStart possiede sia area di inzio che fine"
   ]
  },
  {
   "cell_type": "markdown",
   "id": "attended-tuner",
   "metadata": {
    "id": "attended-tuner"
   },
   "source": [
    "            Come prima cosa ho bisogno di creare una tabella contenente idPartenza,IdArrivo e flusso(y)"
   ]
  },
  {
   "cell_type": "code",
   "execution_count": null,
   "id": "incorporated-plastic",
   "metadata": {
    "id": "incorporated-plastic"
   },
   "outputs": [],
   "source": [
    "#creo le liste id partenza ed arrivo per area\n",
    "\n",
    "i = 0\n",
    "idPartenza = []\n",
    "idArrivo = []\n",
    "allAreaLen = len(allArea['geohash_list'])\n",
    "while(i<allAreaLen):\n",
    "    j=0\n",
    "    while(j<allAreaLen):\n",
    "        idPartenza.append(allArea['geohash_list'][i])\n",
    "        idArrivo.append(allArea['geohash_list'][j])\n",
    "        j=j+1\n",
    "    i=i+1"
   ]
  },
  {
   "cell_type": "code",
   "execution_count": null,
   "id": "young-oakland",
   "metadata": {
    "id": "young-oakland",
    "outputId": "d073b971-0a5a-4a7c-b5d8-b6f9c60b8d7d"
   },
   "outputs": [
    {
     "data": {
      "text/html": [
       "<div>\n",
       "<style scoped>\n",
       "    .dataframe tbody tr th:only-of-type {\n",
       "        vertical-align: middle;\n",
       "    }\n",
       "\n",
       "    .dataframe tbody tr th {\n",
       "        vertical-align: top;\n",
       "    }\n",
       "\n",
       "    .dataframe thead th {\n",
       "        text-align: right;\n",
       "    }\n",
       "</style>\n",
       "<table border=\"1\" class=\"dataframe\">\n",
       "  <thead>\n",
       "    <tr style=\"text-align: right;\">\n",
       "      <th></th>\n",
       "      <th>IdPartenza</th>\n",
       "      <th>IdArrivo</th>\n",
       "    </tr>\n",
       "  </thead>\n",
       "  <tbody>\n",
       "    <tr>\n",
       "      <th>0</th>\n",
       "      <td>9q8yuj</td>\n",
       "      <td>9q8yuj</td>\n",
       "    </tr>\n",
       "    <tr>\n",
       "      <th>1</th>\n",
       "      <td>9q8yuj</td>\n",
       "      <td>9q8yut</td>\n",
       "    </tr>\n",
       "    <tr>\n",
       "      <th>2</th>\n",
       "      <td>9q8yuj</td>\n",
       "      <td>9q8yuh</td>\n",
       "    </tr>\n",
       "    <tr>\n",
       "      <th>3</th>\n",
       "      <td>9q8yuj</td>\n",
       "      <td>9q8yum</td>\n",
       "    </tr>\n",
       "    <tr>\n",
       "      <th>4</th>\n",
       "      <td>9q8yuj</td>\n",
       "      <td>9q8yur</td>\n",
       "    </tr>\n",
       "  </tbody>\n",
       "</table>\n",
       "</div>"
      ],
      "text/plain": [
       "  IdPartenza IdArrivo\n",
       "0     9q8yuj   9q8yuj\n",
       "1     9q8yuj   9q8yut\n",
       "2     9q8yuj   9q8yuh\n",
       "3     9q8yuj   9q8yum\n",
       "4     9q8yuj   9q8yur"
      ]
     },
     "execution_count": 7,
     "metadata": {},
     "output_type": "execute_result"
    }
   ],
   "source": [
    "#creo il dataframe che contiene idPartenza idArrivo e flusso\n",
    "df1 = pd.DataFrame()\n",
    "df1['IdPartenza'] = idPartenza\n",
    "df1['IdArrivo'] = idArrivo\n",
    "df1.head()"
   ]
  },
  {
   "cell_type": "code",
   "execution_count": null,
   "id": "continental-injury",
   "metadata": {
    "id": "continental-injury"
   },
   "outputs": [],
   "source": [
    "#mi manca da calcolare il numero di veicoli che partono da IdPartenza_i ed arrivano ad IdArrivo_i\n",
    "i = 0\n",
    "result = []\n",
    "alldf1Len = len(df1['IdArrivo'])\n",
    "while(i<alldf1Len):\n",
    "    areaPartenza = allStart[allStart.geohash_area == df1['IdPartenza'][i]]\n",
    "    areaPartenza1 = areaPartenza[areaPartenza.end == df1['IdArrivo'][i]]\n",
    "    \n",
    "    result.append(len(areaPartenza1))\n",
    "\n",
    "    i=i+1"
   ]
  },
  {
   "cell_type": "code",
   "execution_count": null,
   "id": "foster-gothic",
   "metadata": {
    "id": "foster-gothic",
    "outputId": "d4a2895f-6a30-4c74-ee56-94c76f178918"
   },
   "outputs": [
    {
     "data": {
      "text/html": [
       "<div>\n",
       "<style scoped>\n",
       "    .dataframe tbody tr th:only-of-type {\n",
       "        vertical-align: middle;\n",
       "    }\n",
       "\n",
       "    .dataframe tbody tr th {\n",
       "        vertical-align: top;\n",
       "    }\n",
       "\n",
       "    .dataframe thead th {\n",
       "        text-align: right;\n",
       "    }\n",
       "</style>\n",
       "<table border=\"1\" class=\"dataframe\">\n",
       "  <thead>\n",
       "    <tr style=\"text-align: right;\">\n",
       "      <th></th>\n",
       "      <th>IdPartenza</th>\n",
       "      <th>IdArrivo</th>\n",
       "      <th>y</th>\n",
       "    </tr>\n",
       "  </thead>\n",
       "  <tbody>\n",
       "    <tr>\n",
       "      <th>0</th>\n",
       "      <td>9q8yuj</td>\n",
       "      <td>9q8yuj</td>\n",
       "      <td>0</td>\n",
       "    </tr>\n",
       "    <tr>\n",
       "      <th>1</th>\n",
       "      <td>9q8yuj</td>\n",
       "      <td>9q8yut</td>\n",
       "      <td>0</td>\n",
       "    </tr>\n",
       "    <tr>\n",
       "      <th>2</th>\n",
       "      <td>9q8yuj</td>\n",
       "      <td>9q8yuh</td>\n",
       "      <td>0</td>\n",
       "    </tr>\n",
       "    <tr>\n",
       "      <th>3</th>\n",
       "      <td>9q8yuj</td>\n",
       "      <td>9q8yum</td>\n",
       "      <td>0</td>\n",
       "    </tr>\n",
       "    <tr>\n",
       "      <th>4</th>\n",
       "      <td>9q8yuj</td>\n",
       "      <td>9q8yur</td>\n",
       "      <td>0</td>\n",
       "    </tr>\n",
       "    <tr>\n",
       "      <th>...</th>\n",
       "      <td>...</td>\n",
       "      <td>...</td>\n",
       "      <td>...</td>\n",
       "    </tr>\n",
       "    <tr>\n",
       "      <th>68116</th>\n",
       "      <td>9q8yu1</td>\n",
       "      <td>9q8yu0</td>\n",
       "      <td>0</td>\n",
       "    </tr>\n",
       "    <tr>\n",
       "      <th>68117</th>\n",
       "      <td>9q8yu1</td>\n",
       "      <td>9q8yu9</td>\n",
       "      <td>0</td>\n",
       "    </tr>\n",
       "    <tr>\n",
       "      <th>68118</th>\n",
       "      <td>9q8yu1</td>\n",
       "      <td>9q8yu8</td>\n",
       "      <td>0</td>\n",
       "    </tr>\n",
       "    <tr>\n",
       "      <th>68119</th>\n",
       "      <td>9q8yu1</td>\n",
       "      <td>9q8yu3</td>\n",
       "      <td>0</td>\n",
       "    </tr>\n",
       "    <tr>\n",
       "      <th>68120</th>\n",
       "      <td>9q8yu1</td>\n",
       "      <td>9q8yu1</td>\n",
       "      <td>0</td>\n",
       "    </tr>\n",
       "  </tbody>\n",
       "</table>\n",
       "<p>68121 rows × 3 columns</p>\n",
       "</div>"
      ],
      "text/plain": [
       "      IdPartenza IdArrivo  y\n",
       "0         9q8yuj   9q8yuj  0\n",
       "1         9q8yuj   9q8yut  0\n",
       "2         9q8yuj   9q8yuh  0\n",
       "3         9q8yuj   9q8yum  0\n",
       "4         9q8yuj   9q8yur  0\n",
       "...          ...      ... ..\n",
       "68116     9q8yu1   9q8yu0  0\n",
       "68117     9q8yu1   9q8yu9  0\n",
       "68118     9q8yu1   9q8yu8  0\n",
       "68119     9q8yu1   9q8yu3  0\n",
       "68120     9q8yu1   9q8yu1  0\n",
       "\n",
       "[68121 rows x 3 columns]"
      ]
     },
     "execution_count": 9,
     "metadata": {},
     "output_type": "execute_result"
    }
   ],
   "source": [
    "df1['y'] = result\n",
    "df1"
   ]
  },
  {
   "cell_type": "code",
   "execution_count": null,
   "id": "dirty-principle",
   "metadata": {
    "id": "dirty-principle"
   },
   "outputs": [],
   "source": [
    "#primo dataframe creato, ora dovrei fare un merge tra allArea e df1\n",
    "#difficile che si possa fare con qualche libreria, dovrei utilizzare una funzione\n",
    "\n",
    "df2 = pd.DataFrame()\n",
    "\n",
    "df2['idPartenza'] = idPartenza\n",
    "df2['idArrivo'] = idArrivo"
   ]
  },
  {
   "cell_type": "code",
   "execution_count": null,
   "id": "respective-literature",
   "metadata": {
    "id": "respective-literature"
   },
   "outputs": [],
   "source": [
    "#creare il grande dataframe per effettuare training e test\n",
    "i = 0\n",
    "StartingVehicleA = []\n",
    "EndingVehicles =[]\n",
    "TotNumberRecordVehicles =[]\n",
    "maxSpeed_km =[]\n",
    "AverageSpeed =[]\n",
    "OutEdges =[]\n",
    "InEdges =[]\n",
    "VehiclesNight =[]\n",
    "VehiclesMorning =[]\n",
    "VehiclesAfternoon =[]\n",
    "VehiclesEvening =[]\n",
    "Density_n =[]\n",
    "AccelarationMax =[]\n",
    "AverageAcceleration =[]\n",
    "NumberTotalPointInterest =[]\n",
    "NumberCulturalPoint =[]\n",
    "NumberFinancePoint =[]\n",
    "NumberHealthPoint =[]\n",
    "NumberTrasportationPoint =[]\n",
    "NumberEducationPoint = []\n",
    "NumberEnterteimentPoint = []\n",
    "RecordWeekend =[]\n",
    "RecordWeek =[]\n",
    "\n",
    "StartingVehicleB = []\n",
    "EndingVehiclesB =[]\n",
    "TotNumberRecordVehiclesB =[]\n",
    "maxSpeed_kmB =[]\n",
    "AverageSpeedB =[]\n",
    "OutEdgesB =[]\n",
    "InEdgesB =[]\n",
    "VehiclesNightB =[]\n",
    "VehiclesMorningB =[]\n",
    "VehiclesAfternoonB =[]\n",
    "VehiclesEveningB =[]\n",
    "Density_nB =[]\n",
    "AccelarationMaxB =[]\n",
    "AverageAcceleration_mB =[]\n",
    "NumberTotalPointInterestB =[]\n",
    "NumberCulturalPointB =[]\n",
    "NumberFinancePointB =[]\n",
    "NumberHealthPointB =[]\n",
    "NumberTrasportationPointB =[]\n",
    "NumberEducationPointB =[]\n",
    "NumberEnterteimentPointB =[]\n",
    "RecordWeekendB =[]\n",
    "RecordWeekB =[]\n",
    "\n",
    "\n",
    "allAreaLen = len(allArea['geohash_list'])\n",
    "while(i<allAreaLen):\n",
    "    j=0\n",
    "    while(j<allAreaLen):\n",
    "        \n",
    "        StartingVehicleA.append(allArea['StartingVehicles'][i])\n",
    "        EndingVehicles.append(allArea['EndingVehicles'][i])\n",
    "        TotNumberRecordVehicles.append(allArea['TotNumberRecordVehicles'][i])\n",
    "        maxSpeed_km.append(allArea['maxSpeed_km/h'][i])\n",
    "        AverageSpeed.append(allArea['AverageSpeed'][i])\n",
    "        OutEdges.append(allArea['OutEdges'][i])\n",
    "        InEdges.append(allArea['InEdges'][i])\n",
    "        VehiclesNight.append(allArea['VehiclesNight(24-5 am)'][i])\n",
    "        VehiclesMorning.append(allArea['VehiclesMorning(6-12 am)'][i])\n",
    "        VehiclesAfternoon.append(allArea['VehiclesAfternoon(13-18 pm)'][i])\n",
    "        VehiclesEvening.append(allArea['VehiclesEvening(19-23 pm)'][i])\n",
    "        Density_n.append(allArea['Density_n/km^2'][i])\n",
    "        AccelarationMax.append(allArea['AccelarationMax'][i])\n",
    "        AverageAcceleration.append(allArea['AverageAcceleration_m/s^2'][i])\n",
    "        NumberTotalPointInterest.append(allArea['NumberTotalPointInterest'][i])\n",
    "        NumberCulturalPoint.append(allArea['NumberCulturalPoint(\"Museum-Attraction-Ruins\")'][i])\n",
    "        NumberEducationPoint.append(allArea['NumberEducationPoint(\"University-Library\")'][i])\n",
    "        NumberEnterteimentPoint.append(allArea['NumberEnterteimentPoint(\"Cinema-Theatre-Zoo-Stadium-SwimmingPool\")'][i])\n",
    "        NumberFinancePoint.append(allArea['NumberFinancePoint(\"Bank-Company\")'][i])\n",
    "        NumberHealthPoint.append(allArea['NumberHealthPoint(\"Hospital-Dentist-Pharmacy\")'][i])\n",
    "        NumberTrasportationPoint.append(allArea['NumberTrasportationPoint(\"Fuel-BusStation-TaxiStop\")'][i])\n",
    "        RecordWeekend.append(allArea['RecordWeekend'][i])\n",
    "        RecordWeek.append(allArea['RecordWeek'][i])\n",
    "        \n",
    "        \n",
    "        \n",
    "        \n",
    "        \n",
    "        \n",
    "        #B\n",
    "        \n",
    "        \n",
    "        StartingVehicleB.append(allArea['StartingVehicles'][j])\n",
    "        EndingVehiclesB.append(allArea['EndingVehicles'][j])\n",
    "        TotNumberRecordVehiclesB.append(allArea['TotNumberRecordVehicles'][j])\n",
    "        maxSpeed_kmB.append(allArea['maxSpeed_km/h'][j])\n",
    "        AverageSpeedB.append(allArea['AverageSpeed'][j])\n",
    "        OutEdgesB.append(allArea['OutEdges'][j])\n",
    "        InEdgesB.append(allArea['InEdges'][j])\n",
    "        VehiclesNightB.append(allArea['VehiclesNight(24-5 am)'][j])\n",
    "        VehiclesMorningB.append(allArea['VehiclesMorning(6-12 am)'][j])\n",
    "        VehiclesAfternoonB.append(allArea['VehiclesAfternoon(13-18 pm)'][j])\n",
    "        VehiclesEveningB.append(allArea['VehiclesEvening(19-23 pm)'][j])\n",
    "        Density_nB.append(allArea['Density_n/km^2'][j])\n",
    "        AccelarationMaxB.append(allArea['AccelarationMax'][j])\n",
    "        AverageAcceleration_mB.append(allArea['AverageAcceleration_m/s^2'][j])\n",
    "        NumberTotalPointInterestB.append(allArea['NumberTotalPointInterest'][j])\n",
    "        NumberCulturalPointB.append(allArea['NumberCulturalPoint(\"Museum-Attraction-Ruins\")'][j])\n",
    "        NumberEducationPointB.append(allArea['NumberEducationPoint(\"University-Library\")'][j])\n",
    "        NumberEnterteimentPointB.append(allArea['NumberEnterteimentPoint(\"Cinema-Theatre-Zoo-Stadium-SwimmingPool\")'][j])\n",
    "        NumberFinancePointB.append(allArea['NumberFinancePoint(\"Bank-Company\")'][j])\n",
    "        NumberHealthPointB.append(allArea['NumberHealthPoint(\"Hospital-Dentist-Pharmacy\")'][j])\n",
    "        NumberTrasportationPointB.append(allArea['NumberTrasportationPoint(\"Fuel-BusStation-TaxiStop\")'][j])\n",
    "        RecordWeekendB.append(allArea['RecordWeekend'][j])\n",
    "        RecordWeekB.append(allArea['RecordWeek'][j])\n",
    "        \n",
    "        \n",
    "        \n",
    "        \n",
    "        j=j+1\n",
    "    i=i+1"
   ]
  },
  {
   "cell_type": "code",
   "execution_count": null,
   "id": "brief-combining",
   "metadata": {
    "id": "brief-combining"
   },
   "outputs": [],
   "source": [
    "df2['StartingVehiclesA'] = StartingVehicleA\n",
    "df2['EndingVehiclesA'] = EndingVehicles\n",
    "df2['TotNumberRecordVehiclesA'] = TotNumberRecordVehicles\n",
    "df2['maxSpeedKm/hA'] = maxSpeed_km\n",
    "df2['AverageSpeedA'] = AverageSpeed\n",
    "df2['OutEdgesA'] =OutEdges\n",
    "df2['InEdgesA'] =InEdges\n",
    "df2['VehiclesNightA'] = VehiclesNight\n",
    "df2['VehiclesMorningA'] =VehiclesMorning\n",
    "df2['VehiclesAfternoonA'] = VehiclesAfternoon\n",
    "df2['VehiclesEveningA'] =VehiclesEvening\n",
    "df2['Density_n/km^2A'] =Density_n\n",
    "df2['AccelerationMaxA'] = AccelarationMax\n",
    "df2['AverageAccelerationA'] = AverageAcceleration\n",
    "df2['NumberTotalPointInterestA'] = NumberTotalPointInterest\n",
    "df2['NumberCulturalPointA'] = NumberCulturalPoint\n",
    "df2['NumberEducationPointA']= NumberEducationPoint\n",
    "df2['NumberEnterteimentPointA'] = NumberEnterteimentPoint\n",
    "df2['NumberFinancePointA'] = NumberFinancePoint\n",
    "df2['NumberHealthPointA'] = NumberHealthPoint\n",
    "df2['NumberTrasportationPointA'] = NumberTrasportationPoint\n",
    "df2['RecordWeekendA'] = RecordWeekend\n",
    "df2['RecordWeekA'] = RecordWeek\n",
    "\n",
    "\n",
    "#B\n",
    "\n",
    "df2['StartingVehiclesB'] = StartingVehicleB\n",
    "df2['EndingVehiclesB'] = EndingVehiclesB\n",
    "df2['TotNumberRecordVehiclesB'] = TotNumberRecordVehiclesB\n",
    "df2['maxSpeedKm/hB'] = maxSpeed_kmB\n",
    "df2['AverageSpeedB'] = AverageSpeedB\n",
    "df2['OutEdgesB'] =OutEdgesB\n",
    "df2['InEdgesB'] =InEdgesB\n",
    "df2['VehiclesNightB'] = VehiclesNightB\n",
    "df2['VehiclesMorningB'] =VehiclesMorningB\n",
    "df2['VehiclesAfternoonB'] = VehiclesAfternoonB\n",
    "df2['VehiclesEveningB'] =VehiclesEveningB\n",
    "df2['Density_n/km^2B'] =Density_nB\n",
    "df2['AccelerationMaxB'] = AccelarationMaxB\n",
    "df2['AverageAccelerationB'] = AverageAcceleration_mB\n",
    "df2['NumberTotalPointInterestB'] = NumberTotalPointInterestB\n",
    "df2['NumberCulturalPointB'] = NumberCulturalPointB\n",
    "df2['NumberEducationPointB'] = NumberEducationPointB\n",
    "df2['NumberEnterteimentPointB'] = NumberEnterteimentPointB\n",
    "df2['NumberFinancePointB'] = NumberFinancePointB\n",
    "df2['NumberHealthPointB'] = NumberHealthPointB\n",
    "df2['NumberTrasportationPointB'] = NumberTrasportationPointB\n",
    "df2['RecordWeekendB'] = RecordWeekendB\n",
    "df2['RecordWeekB'] = RecordWeekB\n",
    "\n"
   ]
  },
  {
   "cell_type": "code",
   "execution_count": null,
   "id": "gothic-exclusive",
   "metadata": {
    "id": "gothic-exclusive",
    "outputId": "23207899-39d8-49a7-fa40-63999b4bd95c"
   },
   "outputs": [
    {
     "data": {
      "text/html": [
       "<div>\n",
       "<style scoped>\n",
       "    .dataframe tbody tr th:only-of-type {\n",
       "        vertical-align: middle;\n",
       "    }\n",
       "\n",
       "    .dataframe tbody tr th {\n",
       "        vertical-align: top;\n",
       "    }\n",
       "\n",
       "    .dataframe thead th {\n",
       "        text-align: right;\n",
       "    }\n",
       "</style>\n",
       "<table border=\"1\" class=\"dataframe\">\n",
       "  <thead>\n",
       "    <tr style=\"text-align: right;\">\n",
       "      <th></th>\n",
       "      <th>idPartenza</th>\n",
       "      <th>idArrivo</th>\n",
       "      <th>StartingVehiclesA</th>\n",
       "      <th>EndingVehiclesA</th>\n",
       "      <th>TotNumberRecordVehiclesA</th>\n",
       "      <th>maxSpeedKm/hA</th>\n",
       "      <th>AverageSpeedA</th>\n",
       "      <th>OutEdgesA</th>\n",
       "      <th>InEdgesA</th>\n",
       "      <th>VehiclesNightA</th>\n",
       "      <th>...</th>\n",
       "      <th>AverageAccelerationB</th>\n",
       "      <th>NumberTotalPointInterestB</th>\n",
       "      <th>NumberCulturalPointB</th>\n",
       "      <th>NumberEducationPointB</th>\n",
       "      <th>NumberEnterteimentPointB</th>\n",
       "      <th>NumberFinancePointB</th>\n",
       "      <th>NumberHealthPointB</th>\n",
       "      <th>NumberTrasportationPointB</th>\n",
       "      <th>RecordWeekendB</th>\n",
       "      <th>RecordWeekB</th>\n",
       "    </tr>\n",
       "  </thead>\n",
       "  <tbody>\n",
       "    <tr>\n",
       "      <th>0</th>\n",
       "      <td>9q8yuj</td>\n",
       "      <td>9q8yuj</td>\n",
       "      <td>3</td>\n",
       "      <td>1</td>\n",
       "      <td>2293</td>\n",
       "      <td>147.771689</td>\n",
       "      <td>17.120311</td>\n",
       "      <td>3</td>\n",
       "      <td>1</td>\n",
       "      <td>1031</td>\n",
       "      <td>...</td>\n",
       "      <td>0.186663</td>\n",
       "      <td>0</td>\n",
       "      <td>0</td>\n",
       "      <td>0</td>\n",
       "      <td>0</td>\n",
       "      <td>0</td>\n",
       "      <td>0</td>\n",
       "      <td>0</td>\n",
       "      <td>851</td>\n",
       "      <td>1442</td>\n",
       "    </tr>\n",
       "    <tr>\n",
       "      <th>1</th>\n",
       "      <td>9q8yuj</td>\n",
       "      <td>9q8yut</td>\n",
       "      <td>3</td>\n",
       "      <td>1</td>\n",
       "      <td>2293</td>\n",
       "      <td>147.771689</td>\n",
       "      <td>17.120311</td>\n",
       "      <td>3</td>\n",
       "      <td>1</td>\n",
       "      <td>1031</td>\n",
       "      <td>...</td>\n",
       "      <td>0.155163</td>\n",
       "      <td>2</td>\n",
       "      <td>2</td>\n",
       "      <td>0</td>\n",
       "      <td>0</td>\n",
       "      <td>0</td>\n",
       "      <td>0</td>\n",
       "      <td>0</td>\n",
       "      <td>6636</td>\n",
       "      <td>10620</td>\n",
       "    </tr>\n",
       "    <tr>\n",
       "      <th>2</th>\n",
       "      <td>9q8yuj</td>\n",
       "      <td>9q8yuh</td>\n",
       "      <td>3</td>\n",
       "      <td>1</td>\n",
       "      <td>2293</td>\n",
       "      <td>147.771689</td>\n",
       "      <td>17.120311</td>\n",
       "      <td>3</td>\n",
       "      <td>1</td>\n",
       "      <td>1031</td>\n",
       "      <td>...</td>\n",
       "      <td>0.152058</td>\n",
       "      <td>4</td>\n",
       "      <td>2</td>\n",
       "      <td>0</td>\n",
       "      <td>0</td>\n",
       "      <td>0</td>\n",
       "      <td>1</td>\n",
       "      <td>1</td>\n",
       "      <td>931</td>\n",
       "      <td>1262</td>\n",
       "    </tr>\n",
       "    <tr>\n",
       "      <th>3</th>\n",
       "      <td>9q8yuj</td>\n",
       "      <td>9q8yum</td>\n",
       "      <td>3</td>\n",
       "      <td>1</td>\n",
       "      <td>2293</td>\n",
       "      <td>147.771689</td>\n",
       "      <td>17.120311</td>\n",
       "      <td>3</td>\n",
       "      <td>1</td>\n",
       "      <td>1031</td>\n",
       "      <td>...</td>\n",
       "      <td>0.171032</td>\n",
       "      <td>3</td>\n",
       "      <td>0</td>\n",
       "      <td>0</td>\n",
       "      <td>0</td>\n",
       "      <td>0</td>\n",
       "      <td>2</td>\n",
       "      <td>1</td>\n",
       "      <td>2766</td>\n",
       "      <td>5620</td>\n",
       "    </tr>\n",
       "    <tr>\n",
       "      <th>4</th>\n",
       "      <td>9q8yuj</td>\n",
       "      <td>9q8yur</td>\n",
       "      <td>3</td>\n",
       "      <td>1</td>\n",
       "      <td>2293</td>\n",
       "      <td>147.771689</td>\n",
       "      <td>17.120311</td>\n",
       "      <td>3</td>\n",
       "      <td>1</td>\n",
       "      <td>1031</td>\n",
       "      <td>...</td>\n",
       "      <td>0.000000</td>\n",
       "      <td>0</td>\n",
       "      <td>0</td>\n",
       "      <td>0</td>\n",
       "      <td>0</td>\n",
       "      <td>0</td>\n",
       "      <td>0</td>\n",
       "      <td>0</td>\n",
       "      <td>0</td>\n",
       "      <td>0</td>\n",
       "    </tr>\n",
       "    <tr>\n",
       "      <th>...</th>\n",
       "      <td>...</td>\n",
       "      <td>...</td>\n",
       "      <td>...</td>\n",
       "      <td>...</td>\n",
       "      <td>...</td>\n",
       "      <td>...</td>\n",
       "      <td>...</td>\n",
       "      <td>...</td>\n",
       "      <td>...</td>\n",
       "      <td>...</td>\n",
       "      <td>...</td>\n",
       "      <td>...</td>\n",
       "      <td>...</td>\n",
       "      <td>...</td>\n",
       "      <td>...</td>\n",
       "      <td>...</td>\n",
       "      <td>...</td>\n",
       "      <td>...</td>\n",
       "      <td>...</td>\n",
       "      <td>...</td>\n",
       "      <td>...</td>\n",
       "    </tr>\n",
       "    <tr>\n",
       "      <th>68116</th>\n",
       "      <td>9q8yu1</td>\n",
       "      <td>9q8yu0</td>\n",
       "      <td>0</td>\n",
       "      <td>0</td>\n",
       "      <td>596</td>\n",
       "      <td>81.378160</td>\n",
       "      <td>25.390290</td>\n",
       "      <td>0</td>\n",
       "      <td>0</td>\n",
       "      <td>162</td>\n",
       "      <td>...</td>\n",
       "      <td>0.212889</td>\n",
       "      <td>1</td>\n",
       "      <td>0</td>\n",
       "      <td>0</td>\n",
       "      <td>0</td>\n",
       "      <td>0</td>\n",
       "      <td>0</td>\n",
       "      <td>1</td>\n",
       "      <td>52</td>\n",
       "      <td>100</td>\n",
       "    </tr>\n",
       "    <tr>\n",
       "      <th>68117</th>\n",
       "      <td>9q8yu1</td>\n",
       "      <td>9q8yu9</td>\n",
       "      <td>0</td>\n",
       "      <td>0</td>\n",
       "      <td>596</td>\n",
       "      <td>81.378160</td>\n",
       "      <td>25.390290</td>\n",
       "      <td>0</td>\n",
       "      <td>0</td>\n",
       "      <td>162</td>\n",
       "      <td>...</td>\n",
       "      <td>0.149117</td>\n",
       "      <td>2</td>\n",
       "      <td>0</td>\n",
       "      <td>1</td>\n",
       "      <td>0</td>\n",
       "      <td>0</td>\n",
       "      <td>1</td>\n",
       "      <td>0</td>\n",
       "      <td>1041</td>\n",
       "      <td>1882</td>\n",
       "    </tr>\n",
       "    <tr>\n",
       "      <th>68118</th>\n",
       "      <td>9q8yu1</td>\n",
       "      <td>9q8yu8</td>\n",
       "      <td>0</td>\n",
       "      <td>0</td>\n",
       "      <td>596</td>\n",
       "      <td>81.378160</td>\n",
       "      <td>25.390290</td>\n",
       "      <td>0</td>\n",
       "      <td>0</td>\n",
       "      <td>162</td>\n",
       "      <td>...</td>\n",
       "      <td>0.155068</td>\n",
       "      <td>0</td>\n",
       "      <td>0</td>\n",
       "      <td>0</td>\n",
       "      <td>0</td>\n",
       "      <td>0</td>\n",
       "      <td>0</td>\n",
       "      <td>0</td>\n",
       "      <td>1359</td>\n",
       "      <td>2375</td>\n",
       "    </tr>\n",
       "    <tr>\n",
       "      <th>68119</th>\n",
       "      <td>9q8yu1</td>\n",
       "      <td>9q8yu3</td>\n",
       "      <td>0</td>\n",
       "      <td>0</td>\n",
       "      <td>596</td>\n",
       "      <td>81.378160</td>\n",
       "      <td>25.390290</td>\n",
       "      <td>0</td>\n",
       "      <td>0</td>\n",
       "      <td>162</td>\n",
       "      <td>...</td>\n",
       "      <td>0.220884</td>\n",
       "      <td>0</td>\n",
       "      <td>0</td>\n",
       "      <td>0</td>\n",
       "      <td>0</td>\n",
       "      <td>0</td>\n",
       "      <td>0</td>\n",
       "      <td>0</td>\n",
       "      <td>776</td>\n",
       "      <td>1476</td>\n",
       "    </tr>\n",
       "    <tr>\n",
       "      <th>68120</th>\n",
       "      <td>9q8yu1</td>\n",
       "      <td>9q8yu1</td>\n",
       "      <td>0</td>\n",
       "      <td>0</td>\n",
       "      <td>596</td>\n",
       "      <td>81.378160</td>\n",
       "      <td>25.390290</td>\n",
       "      <td>0</td>\n",
       "      <td>0</td>\n",
       "      <td>162</td>\n",
       "      <td>...</td>\n",
       "      <td>0.152137</td>\n",
       "      <td>0</td>\n",
       "      <td>0</td>\n",
       "      <td>0</td>\n",
       "      <td>0</td>\n",
       "      <td>0</td>\n",
       "      <td>0</td>\n",
       "      <td>0</td>\n",
       "      <td>213</td>\n",
       "      <td>383</td>\n",
       "    </tr>\n",
       "  </tbody>\n",
       "</table>\n",
       "<p>68121 rows × 48 columns</p>\n",
       "</div>"
      ],
      "text/plain": [
       "      idPartenza idArrivo  StartingVehiclesA  EndingVehiclesA  \\\n",
       "0         9q8yuj   9q8yuj                  3                1   \n",
       "1         9q8yuj   9q8yut                  3                1   \n",
       "2         9q8yuj   9q8yuh                  3                1   \n",
       "3         9q8yuj   9q8yum                  3                1   \n",
       "4         9q8yuj   9q8yur                  3                1   \n",
       "...          ...      ...                ...              ...   \n",
       "68116     9q8yu1   9q8yu0                  0                0   \n",
       "68117     9q8yu1   9q8yu9                  0                0   \n",
       "68118     9q8yu1   9q8yu8                  0                0   \n",
       "68119     9q8yu1   9q8yu3                  0                0   \n",
       "68120     9q8yu1   9q8yu1                  0                0   \n",
       "\n",
       "       TotNumberRecordVehiclesA  maxSpeedKm/hA  AverageSpeedA  OutEdgesA  \\\n",
       "0                          2293     147.771689      17.120311          3   \n",
       "1                          2293     147.771689      17.120311          3   \n",
       "2                          2293     147.771689      17.120311          3   \n",
       "3                          2293     147.771689      17.120311          3   \n",
       "4                          2293     147.771689      17.120311          3   \n",
       "...                         ...            ...            ...        ...   \n",
       "68116                       596      81.378160      25.390290          0   \n",
       "68117                       596      81.378160      25.390290          0   \n",
       "68118                       596      81.378160      25.390290          0   \n",
       "68119                       596      81.378160      25.390290          0   \n",
       "68120                       596      81.378160      25.390290          0   \n",
       "\n",
       "       InEdgesA  VehiclesNightA  ...  AverageAccelerationB  \\\n",
       "0             1            1031  ...              0.186663   \n",
       "1             1            1031  ...              0.155163   \n",
       "2             1            1031  ...              0.152058   \n",
       "3             1            1031  ...              0.171032   \n",
       "4             1            1031  ...              0.000000   \n",
       "...         ...             ...  ...                   ...   \n",
       "68116         0             162  ...              0.212889   \n",
       "68117         0             162  ...              0.149117   \n",
       "68118         0             162  ...              0.155068   \n",
       "68119         0             162  ...              0.220884   \n",
       "68120         0             162  ...              0.152137   \n",
       "\n",
       "       NumberTotalPointInterestB  NumberCulturalPointB  NumberEducationPointB  \\\n",
       "0                              0                     0                      0   \n",
       "1                              2                     2                      0   \n",
       "2                              4                     2                      0   \n",
       "3                              3                     0                      0   \n",
       "4                              0                     0                      0   \n",
       "...                          ...                   ...                    ...   \n",
       "68116                          1                     0                      0   \n",
       "68117                          2                     0                      1   \n",
       "68118                          0                     0                      0   \n",
       "68119                          0                     0                      0   \n",
       "68120                          0                     0                      0   \n",
       "\n",
       "       NumberEnterteimentPointB  NumberFinancePointB  NumberHealthPointB  \\\n",
       "0                             0                    0                   0   \n",
       "1                             0                    0                   0   \n",
       "2                             0                    0                   1   \n",
       "3                             0                    0                   2   \n",
       "4                             0                    0                   0   \n",
       "...                         ...                  ...                 ...   \n",
       "68116                         0                    0                   0   \n",
       "68117                         0                    0                   1   \n",
       "68118                         0                    0                   0   \n",
       "68119                         0                    0                   0   \n",
       "68120                         0                    0                   0   \n",
       "\n",
       "       NumberTrasportationPointB  RecordWeekendB  RecordWeekB  \n",
       "0                              0             851         1442  \n",
       "1                              0            6636        10620  \n",
       "2                              1             931         1262  \n",
       "3                              1            2766         5620  \n",
       "4                              0               0            0  \n",
       "...                          ...             ...          ...  \n",
       "68116                          1              52          100  \n",
       "68117                          0            1041         1882  \n",
       "68118                          0            1359         2375  \n",
       "68119                          0             776         1476  \n",
       "68120                          0             213          383  \n",
       "\n",
       "[68121 rows x 48 columns]"
      ]
     },
     "execution_count": 13,
     "metadata": {},
     "output_type": "execute_result"
    }
   ],
   "source": [
    "df2"
   ]
  },
  {
   "cell_type": "code",
   "execution_count": null,
   "id": "opening-preference",
   "metadata": {
    "id": "opening-preference"
   },
   "outputs": [],
   "source": [
    "df2['y'] = df1['y']"
   ]
  },
  {
   "cell_type": "code",
   "execution_count": null,
   "id": "professional-soundtrack",
   "metadata": {
    "id": "professional-soundtrack"
   },
   "outputs": [],
   "source": [
    "df2.to_csv('y.csv')"
   ]
  },
  {
   "cell_type": "code",
   "execution_count": 1,
   "id": "parallel-committee",
   "metadata": {
    "id": "parallel-committee"
   },
   "outputs": [],
   "source": [
    "#checkpoint\n",
    "import pandas as pd\n",
    "df2 = pd.read_csv('y.csv')\n",
    "del df2['Unnamed: 0']"
   ]
  },
  {
   "cell_type": "code",
   "execution_count": 2,
   "id": "secondary-graphic",
   "metadata": {
    "colab": {
     "base_uri": "https://localhost:8080/",
     "height": 224
    },
    "id": "secondary-graphic",
    "outputId": "22b8beea-5dfb-4963-f1f3-262aa1bcfef9"
   },
   "outputs": [
    {
     "data": {
      "text/html": [
       "<div>\n",
       "<style scoped>\n",
       "    .dataframe tbody tr th:only-of-type {\n",
       "        vertical-align: middle;\n",
       "    }\n",
       "\n",
       "    .dataframe tbody tr th {\n",
       "        vertical-align: top;\n",
       "    }\n",
       "\n",
       "    .dataframe thead th {\n",
       "        text-align: right;\n",
       "    }\n",
       "</style>\n",
       "<table border=\"1\" class=\"dataframe\">\n",
       "  <thead>\n",
       "    <tr style=\"text-align: right;\">\n",
       "      <th></th>\n",
       "      <th>StartingVehiclesA</th>\n",
       "      <th>EndingVehiclesA</th>\n",
       "      <th>TotNumberRecordVehiclesA</th>\n",
       "      <th>maxSpeedKm/hA</th>\n",
       "      <th>AverageSpeedA</th>\n",
       "      <th>OutEdgesA</th>\n",
       "      <th>InEdgesA</th>\n",
       "      <th>VehiclesNightA</th>\n",
       "      <th>VehiclesMorningA</th>\n",
       "      <th>VehiclesAfternoonA</th>\n",
       "      <th>...</th>\n",
       "      <th>NumberTotalPointInterestB</th>\n",
       "      <th>NumberCulturalPointB</th>\n",
       "      <th>NumberEducationPointB</th>\n",
       "      <th>NumberEnterteimentPointB</th>\n",
       "      <th>NumberFinancePointB</th>\n",
       "      <th>NumberHealthPointB</th>\n",
       "      <th>NumberTrasportationPointB</th>\n",
       "      <th>RecordWeekendB</th>\n",
       "      <th>RecordWeekB</th>\n",
       "      <th>y</th>\n",
       "    </tr>\n",
       "  </thead>\n",
       "  <tbody>\n",
       "    <tr>\n",
       "      <th>0</th>\n",
       "      <td>3</td>\n",
       "      <td>1</td>\n",
       "      <td>2293</td>\n",
       "      <td>147.771689</td>\n",
       "      <td>17.120311</td>\n",
       "      <td>3</td>\n",
       "      <td>1</td>\n",
       "      <td>1031</td>\n",
       "      <td>187</td>\n",
       "      <td>497</td>\n",
       "      <td>...</td>\n",
       "      <td>0</td>\n",
       "      <td>0</td>\n",
       "      <td>0</td>\n",
       "      <td>0</td>\n",
       "      <td>0</td>\n",
       "      <td>0</td>\n",
       "      <td>0</td>\n",
       "      <td>851</td>\n",
       "      <td>1442</td>\n",
       "      <td>0</td>\n",
       "    </tr>\n",
       "    <tr>\n",
       "      <th>1</th>\n",
       "      <td>3</td>\n",
       "      <td>1</td>\n",
       "      <td>2293</td>\n",
       "      <td>147.771689</td>\n",
       "      <td>17.120311</td>\n",
       "      <td>3</td>\n",
       "      <td>1</td>\n",
       "      <td>1031</td>\n",
       "      <td>187</td>\n",
       "      <td>497</td>\n",
       "      <td>...</td>\n",
       "      <td>2</td>\n",
       "      <td>2</td>\n",
       "      <td>0</td>\n",
       "      <td>0</td>\n",
       "      <td>0</td>\n",
       "      <td>0</td>\n",
       "      <td>0</td>\n",
       "      <td>6636</td>\n",
       "      <td>10620</td>\n",
       "      <td>0</td>\n",
       "    </tr>\n",
       "    <tr>\n",
       "      <th>2</th>\n",
       "      <td>3</td>\n",
       "      <td>1</td>\n",
       "      <td>2293</td>\n",
       "      <td>147.771689</td>\n",
       "      <td>17.120311</td>\n",
       "      <td>3</td>\n",
       "      <td>1</td>\n",
       "      <td>1031</td>\n",
       "      <td>187</td>\n",
       "      <td>497</td>\n",
       "      <td>...</td>\n",
       "      <td>4</td>\n",
       "      <td>2</td>\n",
       "      <td>0</td>\n",
       "      <td>0</td>\n",
       "      <td>0</td>\n",
       "      <td>1</td>\n",
       "      <td>1</td>\n",
       "      <td>931</td>\n",
       "      <td>1262</td>\n",
       "      <td>0</td>\n",
       "    </tr>\n",
       "    <tr>\n",
       "      <th>3</th>\n",
       "      <td>3</td>\n",
       "      <td>1</td>\n",
       "      <td>2293</td>\n",
       "      <td>147.771689</td>\n",
       "      <td>17.120311</td>\n",
       "      <td>3</td>\n",
       "      <td>1</td>\n",
       "      <td>1031</td>\n",
       "      <td>187</td>\n",
       "      <td>497</td>\n",
       "      <td>...</td>\n",
       "      <td>3</td>\n",
       "      <td>0</td>\n",
       "      <td>0</td>\n",
       "      <td>0</td>\n",
       "      <td>0</td>\n",
       "      <td>2</td>\n",
       "      <td>1</td>\n",
       "      <td>2766</td>\n",
       "      <td>5620</td>\n",
       "      <td>0</td>\n",
       "    </tr>\n",
       "    <tr>\n",
       "      <th>4</th>\n",
       "      <td>3</td>\n",
       "      <td>1</td>\n",
       "      <td>2293</td>\n",
       "      <td>147.771689</td>\n",
       "      <td>17.120311</td>\n",
       "      <td>3</td>\n",
       "      <td>1</td>\n",
       "      <td>1031</td>\n",
       "      <td>187</td>\n",
       "      <td>497</td>\n",
       "      <td>...</td>\n",
       "      <td>0</td>\n",
       "      <td>0</td>\n",
       "      <td>0</td>\n",
       "      <td>0</td>\n",
       "      <td>0</td>\n",
       "      <td>0</td>\n",
       "      <td>0</td>\n",
       "      <td>0</td>\n",
       "      <td>0</td>\n",
       "      <td>0</td>\n",
       "    </tr>\n",
       "  </tbody>\n",
       "</table>\n",
       "<p>5 rows × 47 columns</p>\n",
       "</div>"
      ],
      "text/plain": [
       "   StartingVehiclesA  EndingVehiclesA  TotNumberRecordVehiclesA  \\\n",
       "0                  3                1                      2293   \n",
       "1                  3                1                      2293   \n",
       "2                  3                1                      2293   \n",
       "3                  3                1                      2293   \n",
       "4                  3                1                      2293   \n",
       "\n",
       "   maxSpeedKm/hA  AverageSpeedA  OutEdgesA  InEdgesA  VehiclesNightA  \\\n",
       "0     147.771689      17.120311          3         1            1031   \n",
       "1     147.771689      17.120311          3         1            1031   \n",
       "2     147.771689      17.120311          3         1            1031   \n",
       "3     147.771689      17.120311          3         1            1031   \n",
       "4     147.771689      17.120311          3         1            1031   \n",
       "\n",
       "   VehiclesMorningA  VehiclesAfternoonA  ...  NumberTotalPointInterestB  \\\n",
       "0               187                 497  ...                          0   \n",
       "1               187                 497  ...                          2   \n",
       "2               187                 497  ...                          4   \n",
       "3               187                 497  ...                          3   \n",
       "4               187                 497  ...                          0   \n",
       "\n",
       "   NumberCulturalPointB  NumberEducationPointB  NumberEnterteimentPointB  \\\n",
       "0                     0                      0                         0   \n",
       "1                     2                      0                         0   \n",
       "2                     2                      0                         0   \n",
       "3                     0                      0                         0   \n",
       "4                     0                      0                         0   \n",
       "\n",
       "   NumberFinancePointB  NumberHealthPointB  NumberTrasportationPointB  \\\n",
       "0                    0                   0                          0   \n",
       "1                    0                   0                          0   \n",
       "2                    0                   1                          1   \n",
       "3                    0                   2                          1   \n",
       "4                    0                   0                          0   \n",
       "\n",
       "   RecordWeekendB  RecordWeekB  y  \n",
       "0             851         1442  0  \n",
       "1            6636        10620  0  \n",
       "2             931         1262  0  \n",
       "3            2766         5620  0  \n",
       "4               0            0  0  \n",
       "\n",
       "[5 rows x 47 columns]"
      ]
     },
     "execution_count": 2,
     "metadata": {},
     "output_type": "execute_result"
    }
   ],
   "source": [
    "del df2['idPartenza']\n",
    "del df2['idArrivo']\n",
    "\n",
    "df2.head()"
   ]
  },
  {
   "cell_type": "markdown",
   "id": "million-contract",
   "metadata": {
    "id": "million-contract"
   },
   "source": [
    "# Train & test split"
   ]
  },
  {
   "cell_type": "code",
   "execution_count": 3,
   "id": "honest-shirt",
   "metadata": {
    "id": "honest-shirt"
   },
   "outputs": [],
   "source": [
    "#divido il dataframe in train e test\n",
    "from sklearn.model_selection import train_test_split\n"
   ]
  },
  {
   "cell_type": "code",
   "execution_count": 4,
   "id": "interpreted-leonard",
   "metadata": {
    "id": "interpreted-leonard"
   },
   "outputs": [],
   "source": [
    "\n",
    "class_name = 'y'\n",
    "\n",
    "attributes = [col for col in df2.columns if col != class_name]\n",
    "X = df2[attributes].values\n",
    "y=df2[class_name]\n",
    "\n",
    "X_train, X_test, y_train, y_test = train_test_split(X, y, test_size=0.3,random_state=100)"
   ]
  },
  {
   "cell_type": "code",
   "execution_count": 5,
   "id": "higher-paris",
   "metadata": {
    "id": "higher-paris",
    "scrolled": true
   },
   "outputs": [],
   "source": [
    "#normalizzazione dati\n",
    "from sklearn.preprocessing import MinMaxScaler, StandardScaler\n",
    "scaler = StandardScaler()\n",
    "\n",
    "\n",
    "X_train_s = scaler.fit_transform(X_train)\n",
    "\n",
    "X_test_s=scaler.transform(X_test)\n",
    "\n",
    "#scaler.transform(y_test)"
   ]
  },
  {
   "cell_type": "markdown",
   "id": "expected-contributor",
   "metadata": {
    "id": "expected-contributor"
   },
   "source": [
    "# KNN"
   ]
  },
  {
   "cell_type": "code",
   "execution_count": 6,
   "id": "severe-orlando",
   "metadata": {
    "id": "severe-orlando"
   },
   "outputs": [],
   "source": [
    "from sklearn.neighbors import KNeighborsClassifier, KNeighborsRegressor"
   ]
  },
  {
   "cell_type": "code",
   "execution_count": 7,
   "id": "matched-globe",
   "metadata": {
    "id": "matched-globe"
   },
   "outputs": [],
   "source": [
    "from sklearn.metrics import mean_absolute_error, mean_squared_error, r2_score"
   ]
  },
  {
   "cell_type": "markdown",
   "id": "sunrise-knight",
   "metadata": {
    "id": "sunrise-knight"
   },
   "source": [
    "# Find best K"
   ]
  },
  {
   "cell_type": "code",
   "execution_count": null,
   "id": "indonesian-bachelor",
   "metadata": {
    "id": "indonesian-bachelor"
   },
   "outputs": [],
   "source": [
    "#prove random_state diversi =100\n",
    "\n",
    "\n",
    "error = []\n",
    "\n",
    "for k in range(1,40):\n",
    "    knn = KNeighborsRegressor(n_neighbors=k,n_jobs=5)\n",
    "    knn.fit(X_train_s,y_train)\n",
    "    y_pred = knn.predict(X_test_s)\n",
    "    error.append(mean_absolute_error(y_test,y_pred))"
   ]
  },
  {
   "cell_type": "code",
   "execution_count": null,
   "id": "integrated-footwear",
   "metadata": {
    "id": "integrated-footwear",
    "outputId": "e1a70426-39ff-466c-b8e8-ab2c65b8738f"
   },
   "outputs": [
    {
     "data": {
      "text/plain": [
       "[<matplotlib.lines.Line2D at 0x7fc3b90d3d00>]"
      ]
     },
     "execution_count": 22,
     "metadata": {},
     "output_type": "execute_result"
    },
    {
     "data": {
      "image/png": "[encoded data removed]",
      "text/plain": [
       "<Figure size 432x288 with 1 Axes>"
      ]
     },
     "metadata": {
      "needs_background": "light"
     },
     "output_type": "display_data"
    }
   ],
   "source": [
    "import matplotlib.pyplot as plt\n",
    "plt.plot(range(1,40),error)"
   ]
  },
  {
   "cell_type": "code",
   "execution_count": null,
   "id": "exempt-cache",
   "metadata": {
    "id": "exempt-cache"
   },
   "outputs": [],
   "source": [
    "errorR2 = []\n",
    "\n",
    "for k in range(1,40):\n",
    "    knn = KNeighborsRegressor(n_neighbors=k,n_jobs=5)\n",
    "    knn.fit(X_train_s,y_train)\n",
    "    y_pred = knn.predict(X_test_s)\n",
    "    errorR2.append(r2_score(y_test,y_pred))"
   ]
  },
  {
   "cell_type": "code",
   "execution_count": null,
   "id": "maritime-plasma",
   "metadata": {
    "id": "maritime-plasma",
    "outputId": "7445bfd2-0ce6-44fb-fd0a-8a0420e28408"
   },
   "outputs": [
    {
     "data": {
      "text/plain": [
       "[<matplotlib.lines.Line2D at 0x7fc3b9034d90>]"
      ]
     },
     "execution_count": 24,
     "metadata": {},
     "output_type": "execute_result"
    },
    {
     "data": {
      "image/png": "[encoded data removed]",
      "text/plain": [
       "<Figure size 432x288 with 1 Axes>"
      ]
     },
     "metadata": {
      "needs_background": "light"
     },
     "output_type": "display_data"
    }
   ],
   "source": [
    "import matplotlib.pyplot as plt\n",
    "plt.plot(range(1,40),errorR2)"
   ]
  },
  {
   "cell_type": "code",
   "execution_count": null,
   "id": "instructional-summit",
   "metadata": {
    "id": "instructional-summit"
   },
   "outputs": [],
   "source": [
    "errorMS = []\n",
    "\n",
    "for k in range(1,40):\n",
    "    knn = KNeighborsRegressor(n_neighbors=k,n_jobs=5)\n",
    "    knn.fit(X_train_s,y_train)\n",
    "    y_pred = knn.predict(X_test_s)\n",
    "    errorMS.append(mean_squared_error(y_test,y_pred))"
   ]
  },
  {
   "cell_type": "code",
   "execution_count": null,
   "id": "swedish-taxation",
   "metadata": {
    "id": "swedish-taxation",
    "outputId": "e1476afe-48c0-4a60-e895-0a987a949527"
   },
   "outputs": [
    {
     "data": {
      "text/plain": [
       "[<matplotlib.lines.Line2D at 0x7fc3baa601c0>]"
      ]
     },
     "execution_count": 26,
     "metadata": {},
     "output_type": "execute_result"
    },
    {
     "data": {
      "image/png": "[encoded data removed]",
      "text/plain": [
       "<Figure size 432x288 with 1 Axes>"
      ]
     },
     "metadata": {
      "needs_background": "light"
     },
     "output_type": "display_data"
    }
   ],
   "source": [
    "plt.plot(range(1,40),errorMS)"
   ]
  },
  {
   "cell_type": "code",
   "execution_count": null,
   "id": "democratic-conclusion",
   "metadata": {
    "id": "democratic-conclusion",
    "outputId": "fa1adb07-02ac-4117-87b6-6dd9ebf68a4e"
   },
   "outputs": [
    {
     "data": {
      "text/plain": [
       "[<matplotlib.lines.Line2D at 0x7fc3bba40370>]"
      ]
     },
     "execution_count": 27,
     "metadata": {},
     "output_type": "execute_result"
    },
    {
     "data": {
      "image/png": "[encoded data removed]",
      "text/plain": [
       "<Figure size 720x720 with 1 Axes>"
      ]
     },
     "metadata": {
      "needs_background": "light"
     },
     "output_type": "display_data"
    }
   ],
   "source": [
    "plt.rcParams[\"figure.figsize\"] = (10, 10)\n",
    "plt.plot(range(1,40),error,'bo')\n",
    "plt.plot(range(1,40),errorMS,'go')\n",
    "plt.plot(range(1,40),errorR2,'ro')"
   ]
  },
  {
   "cell_type": "code",
   "execution_count": null,
   "id": "substantial-access",
   "metadata": {
    "id": "substantial-access"
   },
   "outputs": [],
   "source": [
    "#bestk, k=2\n",
    "knn = KNeighborsRegressor(n_neighbors=2,n_jobs=5)\n",
    "knn.fit(X_train_s,y_train)\n",
    "y_pred = knn.predict(X_test_s)"
   ]
  },
  {
   "cell_type": "code",
   "execution_count": null,
   "id": "mathematical-needle",
   "metadata": {
    "id": "mathematical-needle",
    "outputId": "1f4c70af-5cc7-485d-bc48-ecb013dfbec4"
   },
   "outputs": [
    {
     "name": "stdout",
     "output_type": "stream",
     "text": [
      "mae 0.06794050007339629\n",
      "mse 0.875678915692127\n",
      "r2 0.5799136525499411\n"
     ]
    }
   ],
   "source": [
    "print('mae %s' % mean_absolute_error(y_test,y_pred))\n",
    "print('mse %s' % mean_squared_error(y_test,y_pred))\n",
    "print('r2 %s' % r2_score(y_test,y_pred))"
   ]
  },
  {
   "cell_type": "markdown",
   "id": "prompt-cross",
   "metadata": {
    "id": "prompt-cross"
   },
   "source": [
    "# Regressione lineare"
   ]
  },
  {
   "cell_type": "code",
   "execution_count": 9,
   "id": "responsible-attribute",
   "metadata": {
    "id": "responsible-attribute",
    "outputId": "efcc9577-d3fc-4ba5-c187-367a68a692f9"
   },
   "outputs": [
    {
     "data": {
      "text/plain": [
       "LinearRegression()"
      ]
     },
     "execution_count": 9,
     "metadata": {},
     "output_type": "execute_result"
    }
   ],
   "source": [
    "from sklearn.linear_model import LinearRegression, Ridge, Lasso\n",
    "reg = LinearRegression()\n",
    "reg.fit(X_train_s, y_train)"
   ]
  },
  {
   "cell_type": "code",
   "execution_count": 15,
   "id": "fitting-competition",
   "metadata": {
    "id": "fitting-competition"
   },
   "outputs": [],
   "source": [
    "y_pred = reg.predict(X_test_s)"
   ]
  },
  {
   "cell_type": "code",
   "execution_count": 16,
   "id": "recovered-abortion",
   "metadata": {
    "id": "recovered-abortion",
    "outputId": "546da957-55cb-4fc1-b1e5-4803470a8dbf"
   },
   "outputs": [
    {
     "name": "stdout",
     "output_type": "stream",
     "text": [
      "R2: -2.959\n",
      "MSE: 8.253\n",
      "MAE: 0.415\n"
     ]
    }
   ],
   "source": [
    "print('R2: %.3f' % r2_score(y_test, y_pred))\n",
    "print('MSE: %.3f' % mean_squared_error(y_test, y_pred))\n",
    "print('MAE: %.3f' % mean_absolute_error(y_test, y_pred))"
   ]
  },
  {
   "cell_type": "markdown",
   "id": "cooked-tourist",
   "metadata": {
    "id": "cooked-tourist"
   },
   "source": [
    "# Lasso"
   ]
  },
  {
   "cell_type": "code",
   "execution_count": 10,
   "id": "cooked-island",
   "metadata": {
    "id": "cooked-island",
    "outputId": "a35e82f2-bacb-47e6-9776-a6c845a192f5"
   },
   "outputs": [
    {
     "data": {
      "text/plain": [
       "Lasso()"
      ]
     },
     "execution_count": 10,
     "metadata": {},
     "output_type": "execute_result"
    }
   ],
   "source": [
    "reg = Lasso()\n",
    "reg.fit(X_train_s,y_train)"
   ]
  },
  {
   "cell_type": "code",
   "execution_count": 11,
   "id": "hollywood-bumper",
   "metadata": {
    "id": "hollywood-bumper"
   },
   "outputs": [],
   "source": [
    "y_pred = reg.predict(X_test_s)"
   ]
  },
  {
   "cell_type": "code",
   "execution_count": 12,
   "id": "american-houston",
   "metadata": {
    "id": "american-houston",
    "outputId": "a14f0a37-f054-4d63-c4a2-77f4db36e28b"
   },
   "outputs": [
    {
     "name": "stdout",
     "output_type": "stream",
     "text": [
      "R2: -0.503\n",
      "MSE: 3.133\n",
      "MAE: 0.209\n"
     ]
    }
   ],
   "source": [
    "print('R2: %.3f' % r2_score(y_test, y_pred))\n",
    "print('MSE: %.3f' % mean_squared_error(y_test, y_pred))\n",
    "print('MAE: %.3f' % mean_absolute_error(y_test, y_pred))"
   ]
  },
  {
   "cell_type": "markdown",
   "id": "chubby-species",
   "metadata": {
    "id": "chubby-species"
   },
   "source": [
    "# Ridge"
   ]
  },
  {
   "cell_type": "code",
   "execution_count": null,
   "id": "premier-angle",
   "metadata": {
    "id": "premier-angle",
    "outputId": "e9f9e53e-c01e-4217-998a-48c573b6db03"
   },
   "outputs": [
    {
     "data": {
      "text/plain": [
       "Ridge()"
      ]
     },
     "execution_count": 17,
     "metadata": {},
     "output_type": "execute_result"
    }
   ],
   "source": [
    "reg = Ridge()\n",
    "reg.fit(X_train_s,y_train)"
   ]
  },
  {
   "cell_type": "code",
   "execution_count": null,
   "id": "operating-railway",
   "metadata": {
    "id": "operating-railway"
   },
   "outputs": [],
   "source": [
    "y_pred = reg.predict(X_test_s)"
   ]
  },
  {
   "cell_type": "code",
   "execution_count": null,
   "id": "starting-claim",
   "metadata": {
    "id": "starting-claim",
    "outputId": "fb6c76ba-21ad-4acd-9c1f-e0cf07921df3"
   },
   "outputs": [
    {
     "name": "stdout",
     "output_type": "stream",
     "text": [
      "R2: -2.968\n",
      "MSE: 8.272\n",
      "MAE: 0.396\n"
     ]
    }
   ],
   "source": [
    "print('R2: %.3f' % r2_score(y_test, y_pred))\n",
    "print('MSE: %.3f' % mean_squared_error(y_test, y_pred))\n",
    "print('MAE: %.3f' % mean_absolute_error(y_test, y_pred))"
   ]
  },
  {
   "cell_type": "code",
   "execution_count": null,
   "id": "interior-relaxation",
   "metadata": {
    "id": "interior-relaxation",
    "outputId": "cbe5f591-a7d7-4ceb-c708-e1ea29147ef2"
   },
   "outputs": [
    {
     "data": {
      "text/plain": [
       "KNeighborsRegressor(n_jobs=5, n_neighbors=7)"
      ]
     },
     "execution_count": 20,
     "metadata": {},
     "output_type": "execute_result"
    }
   ],
   "source": [
    "clf = KNeighborsRegressor(n_neighbors=7,n_jobs=5)\n",
    "clf.fit(X_train_s, y_train)"
   ]
  },
  {
   "cell_type": "code",
   "execution_count": null,
   "id": "internal-found",
   "metadata": {
    "id": "internal-found"
   },
   "outputs": [],
   "source": [
    "y_pred = clf.predict(X_test_s)"
   ]
  },
  {
   "cell_type": "code",
   "execution_count": null,
   "id": "backed-portland",
   "metadata": {
    "id": "backed-portland",
    "outputId": "23e842cf-ee38-4489-e413-8fa0af6cf5e4",
    "scrolled": true
   },
   "outputs": [
    {
     "name": "stdout",
     "output_type": "stream",
     "text": [
      "R2: 0.553\n",
      "MSE: 0.590\n",
      "MAE: 0.066\n"
     ]
    }
   ],
   "source": [
    "print('R2: %.3f' % r2_score(y_test, y_pred))\n",
    "print('MSE: %.3f' % mean_squared_error(y_test, y_pred))\n",
    "print('MAE: %.3f' % mean_absolute_error(y_test, y_pred))"
   ]
  },
  {
   "cell_type": "markdown",
   "id": "finished-burden",
   "metadata": {
    "id": "finished-burden"
   },
   "source": [
    "# Dataset Veicoli (eliminare attributi relativi all'area)"
   ]
  },
  {
   "cell_type": "code",
   "execution_count": null,
   "id": "mediterranean-seller",
   "metadata": {
    "id": "mediterranean-seller"
   },
   "outputs": [],
   "source": [
    "df3 = pd.DataFrame(df2) #dataframe con attributi relativi ai veicoli"
   ]
  },
  {
   "cell_type": "code",
   "execution_count": null,
   "id": "nonprofit-palestine",
   "metadata": {
    "id": "nonprofit-palestine"
   },
   "outputs": [],
   "source": [
    "del df3['NumberTotalPointInterestA']\n",
    "del df3['NumberCulturalPointA']\n",
    "del df3['NumberEducationPointA']\n",
    "del df3['NumberEnterteimentPointA']\n",
    "del df3['NumberFinancePointA']\n",
    "del df3['NumberHealthPointA']\n",
    "del df3['NumberTrasportationPointA']\n",
    "del df3['NumberTotalPointInterestB']\n",
    "del df3['NumberCulturalPointB']\n",
    "del df3['NumberEducationPointB']\n",
    "del df3['NumberEnterteimentPointB']\n",
    "del df3['NumberFinancePointB']\n",
    "del df3['NumberHealthPointB']\n",
    "del df3['NumberTrasportationPointB']"
   ]
  },
  {
   "cell_type": "markdown",
   "id": "responsible-bridge",
   "metadata": {
    "id": "responsible-bridge"
   },
   "source": [
    "# Train & test split (Dataframe Veicoli)"
   ]
  },
  {
   "cell_type": "code",
   "execution_count": null,
   "id": "another-matter",
   "metadata": {
    "id": "another-matter"
   },
   "outputs": [],
   "source": [
    "from sklearn.model_selection import train_test_split\n",
    "class_name = 'y'\n",
    "\n",
    "attributes = [col for col in df3.columns if col != class_name]\n",
    "X = df3[attributes].values\n",
    "y=df3[class_name]\n",
    "\n",
    "X_train, X_test, y_train, y_test = train_test_split(X, y, test_size=0.3,random_state=100)"
   ]
  },
  {
   "cell_type": "code",
   "execution_count": null,
   "id": "signed-pilot",
   "metadata": {
    "id": "signed-pilot"
   },
   "outputs": [],
   "source": [
    "from sklearn.preprocessing import MinMaxScaler,StandardScaler\n",
    "scaler = StandardScaler()\n",
    "\n",
    "\n",
    "X_train_s = scaler.fit_transform(X_train)\n",
    "\n",
    "X_test_s=scaler.transform(X_test)"
   ]
  },
  {
   "cell_type": "markdown",
   "id": "spanish-monthly",
   "metadata": {
    "id": "spanish-monthly"
   },
   "source": [
    "# KNN (DataFrame Veicoli)"
   ]
  },
  {
   "cell_type": "markdown",
   "id": "hollywood-declaration",
   "metadata": {
    "id": "hollywood-declaration"
   },
   "source": [
    "# Find Best K (DataFrame Veicoli)"
   ]
  },
  {
   "cell_type": "code",
   "execution_count": null,
   "id": "nearby-testament",
   "metadata": {
    "id": "nearby-testament"
   },
   "outputs": [],
   "source": []
  },
  {
   "cell_type": "code",
   "execution_count": null,
   "id": "generous-alliance",
   "metadata": {
    "collapsed": true,
    "id": "generous-alliance",
    "outputId": "f5a59263-1780-47be-a35d-dbd3ccd05518"
   },
   "outputs": [
    {
     "name": "stdout",
     "output_type": "stream",
     "text": [
      "end\n",
      "end\n",
      "end\n",
      "end\n",
      "end\n",
      "end\n",
      "end\n",
      "end\n",
      "end\n",
      "end\n",
      "end\n",
      "end\n",
      "end\n",
      "end\n",
      "end\n",
      "end\n",
      "end\n",
      "end\n",
      "end\n",
      "end\n",
      "end\n",
      "end\n",
      "end\n",
      "end\n",
      "end\n",
      "end\n",
      "end\n",
      "end\n",
      "end\n",
      "end\n",
      "end\n",
      "end\n",
      "end\n",
      "end\n",
      "end\n",
      "end\n",
      "end\n",
      "end\n",
      "end\n",
      "end\n",
      "end\n",
      "end\n",
      "end\n",
      "end\n",
      "end\n",
      "end\n",
      "end\n",
      "end\n",
      "end\n"
     ]
    }
   ],
   "source": [
    "errorR2 = []\n",
    "errorMAE = []\n",
    "errorMSE =[]\n",
    "\n",
    "for k in range(1,50):\n",
    "    knn = KNeighborsRegressor(n_neighbors=k,n_jobs=-1,algorithm='kd_tree')\n",
    "    knn.fit(X_train_s,y_train)\n",
    "    y_pred = knn.predict(X_test_s)\n",
    "    errorR2.append(r2_score(y_test,y_pred))\n",
    "    errorMAE.append(mean_absolute_error(y_test,y_pred))\n",
    "    errorMSE.append(mean_squared_error(y_test,y_pred))\n",
    "    print('end')"
   ]
  },
  {
   "cell_type": "code",
   "execution_count": null,
   "id": "cellular-basin",
   "metadata": {
    "id": "cellular-basin",
    "outputId": "230bcab8-518b-4727-c688-9bbf3826ca76"
   },
   "outputs": [
    {
     "data": {
      "text/plain": [
       "[<matplotlib.lines.Line2D at 0x7f2223e41670>]"
      ]
     },
     "execution_count": 29,
     "metadata": {},
     "output_type": "execute_result"
    },
    {
     "data": {
      "image/png": "[encoded data removed]",
      "text/plain": [
       "<Figure size 720x720 with 1 Axes>"
      ]
     },
     "metadata": {
      "needs_background": "light"
     },
     "output_type": "display_data"
    }
   ],
   "source": [
    "import matplotlib.pyplot as plt\n",
    "\n",
    "plt.rcParams[\"figure.figsize\"] = (10, 10)\n",
    "plt.plot(range(1,50),errorMAE,'bo')\n",
    "plt.plot(range(1,50),errorMSE,'go')\n",
    "plt.plot(range(1,50),errorR2,'ro')"
   ]
  },
  {
   "cell_type": "code",
   "execution_count": null,
   "id": "connected-producer",
   "metadata": {
    "id": "connected-producer"
   },
   "outputs": [],
   "source": [
    "# best k = 1\n",
    "\n",
    "from sklearn.neighbors import KNeighborsRegressor\n",
    "\n",
    "knn = KNeighborsRegressor(n_neighbors=1, n_jobs= -1,algorithm='kd_tree')"
   ]
  },
  {
   "cell_type": "code",
   "execution_count": null,
   "id": "sharing-essex",
   "metadata": {
    "id": "sharing-essex",
    "outputId": "cf71c572-6a02-441a-a9e4-78dd350df85b"
   },
   "outputs": [
    {
     "data": {
      "text/plain": [
       "KNeighborsRegressor(algorithm='kd_tree', n_jobs=-1, n_neighbors=1)"
      ]
     },
     "execution_count": 35,
     "metadata": {},
     "output_type": "execute_result"
    }
   ],
   "source": [
    "knn.fit(X_train_s,y_train)"
   ]
  },
  {
   "cell_type": "code",
   "execution_count": null,
   "id": "blond-coast",
   "metadata": {
    "id": "blond-coast"
   },
   "outputs": [],
   "source": [
    "y_pred = knn.predict(X_test_s)"
   ]
  },
  {
   "cell_type": "code",
   "execution_count": null,
   "id": "bigger-pearl",
   "metadata": {
    "id": "bigger-pearl",
    "outputId": "fa34f99c-78a3-4115-8c9e-8e715a036864"
   },
   "outputs": [
    {
     "name": "stdout",
     "output_type": "stream",
     "text": [
      "R2: 0.644\n",
      "MSE: 0.742\n",
      "MAE: 0.061\n"
     ]
    }
   ],
   "source": [
    "print('R2: %.3f' % r2_score(y_test, y_pred))\n",
    "print('MSE: %.3f' % mean_squared_error(y_test, y_pred))\n",
    "print('MAE: %.3f' % mean_absolute_error(y_test, y_pred))"
   ]
  },
  {
   "cell_type": "markdown",
   "id": "infrared-passing",
   "metadata": {
    "id": "infrared-passing"
   },
   "source": [
    "# Regressione Lineare (DataFrame Veicoli)"
   ]
  },
  {
   "cell_type": "code",
   "execution_count": null,
   "id": "appropriate-jurisdiction",
   "metadata": {
    "id": "appropriate-jurisdiction",
    "outputId": "121b5701-567b-439e-bd18-431f3c8785ee"
   },
   "outputs": [
    {
     "data": {
      "text/plain": [
       "LinearRegression()"
      ]
     },
     "execution_count": 54,
     "metadata": {},
     "output_type": "execute_result"
    }
   ],
   "source": [
    "from sklearn.linear_model import LinearRegression, Ridge, Lasso\n",
    "reg = LinearRegression()\n",
    "reg.fit(X_train_s, y_train)"
   ]
  },
  {
   "cell_type": "code",
   "execution_count": null,
   "id": "seven-extreme",
   "metadata": {
    "id": "seven-extreme"
   },
   "outputs": [],
   "source": [
    "y_pred = reg.predict(X_test_s)"
   ]
  },
  {
   "cell_type": "code",
   "execution_count": null,
   "id": "satisfied-mobile",
   "metadata": {
    "id": "satisfied-mobile",
    "outputId": "2a7be7f2-0855-4a70-e21f-8b229d86d72a"
   },
   "outputs": [
    {
     "name": "stdout",
     "output_type": "stream",
     "text": [
      "R2: -0.011\n",
      "MSE: 2.107\n",
      "MAE: 0.256\n"
     ]
    }
   ],
   "source": [
    "print('R2: %.3f' % r2_score(y_test, y_pred))\n",
    "print('MSE: %.3f' % mean_squared_error(y_test, y_pred))\n",
    "print('MAE: %.3f' % mean_absolute_error(y_test, y_pred))"
   ]
  },
  {
   "cell_type": "markdown",
   "id": "universal-float",
   "metadata": {
    "id": "universal-float"
   },
   "source": [
    "# Lasso (DataFrameVeicoli)"
   ]
  },
  {
   "cell_type": "code",
   "execution_count": null,
   "id": "cognitive-ivory",
   "metadata": {
    "id": "cognitive-ivory",
    "outputId": "1b7750f3-9db8-4036-a812-0fe7ac39c541"
   },
   "outputs": [
    {
     "data": {
      "text/plain": [
       "Lasso()"
      ]
     },
     "execution_count": 58,
     "metadata": {},
     "output_type": "execute_result"
    }
   ],
   "source": [
    "reg = Lasso()\n",
    "reg.fit(X_train_s, y_train)"
   ]
  },
  {
   "cell_type": "code",
   "execution_count": null,
   "id": "changed-reasoning",
   "metadata": {
    "id": "changed-reasoning"
   },
   "outputs": [],
   "source": [
    "y_pred = reg.predict(X_test_s)"
   ]
  },
  {
   "cell_type": "code",
   "execution_count": null,
   "id": "hired-airport",
   "metadata": {
    "id": "hired-airport",
    "outputId": "027a1303-c644-4d17-eeb1-444ae4a0953e"
   },
   "outputs": [
    {
     "name": "stdout",
     "output_type": "stream",
     "text": [
      "R2: -0.006\n",
      "MSE: 2.098\n",
      "MAE: 0.246\n"
     ]
    }
   ],
   "source": [
    "print('R2: %.3f' % r2_score(y_test, y_pred))\n",
    "print('MSE: %.3f' % mean_squared_error(y_test, y_pred))\n",
    "print('MAE: %.3f' % mean_absolute_error(y_test, y_pred))"
   ]
  },
  {
   "cell_type": "markdown",
   "id": "pharmaceutical-chinese",
   "metadata": {
    "id": "pharmaceutical-chinese"
   },
   "source": [
    "# Ridge (DataFrame Veicoli)"
   ]
  },
  {
   "cell_type": "code",
   "execution_count": null,
   "id": "stretch-collectible",
   "metadata": {
    "id": "stretch-collectible",
    "outputId": "68a98b5a-9210-4d81-ad89-a8dc8cbcbb44"
   },
   "outputs": [
    {
     "data": {
      "text/plain": [
       "Ridge()"
      ]
     },
     "execution_count": 62,
     "metadata": {},
     "output_type": "execute_result"
    }
   ],
   "source": [
    "reg = Ridge()\n",
    "reg.fit(X_train_s, y_train)"
   ]
  },
  {
   "cell_type": "code",
   "execution_count": null,
   "id": "arranged-skating",
   "metadata": {
    "id": "arranged-skating"
   },
   "outputs": [],
   "source": [
    "y_pred = reg.predict(X_test_s)"
   ]
  },
  {
   "cell_type": "code",
   "execution_count": null,
   "id": "meaning-momentum",
   "metadata": {
    "id": "meaning-momentum",
    "outputId": "eccfba89-4ab8-4942-c9a2-a8b7553279d7"
   },
   "outputs": [
    {
     "name": "stdout",
     "output_type": "stream",
     "text": [
      "R2: -0.011\n",
      "MSE: 2.107\n",
      "MAE: 0.256\n"
     ]
    }
   ],
   "source": [
    "print('R2: %.3f' % r2_score(y_test, y_pred))\n",
    "print('MSE: %.3f' % mean_squared_error(y_test, y_pred))\n",
    "print('MAE: %.3f' % mean_absolute_error(y_test, y_pred))"
   ]
  },
  {
   "cell_type": "markdown",
   "id": "differential-double",
   "metadata": {
    "id": "differential-double"
   },
   "source": [
    "# DataFrame Punti di Interesse"
   ]
  },
  {
   "cell_type": "code",
   "execution_count": 6,
   "id": "local-prairie",
   "metadata": {
    "id": "local-prairie"
   },
   "outputs": [],
   "source": [
    "df4 = pd.DataFrame()"
   ]
  },
  {
   "cell_type": "code",
   "execution_count": 7,
   "id": "north-examination",
   "metadata": {
    "id": "north-examination"
   },
   "outputs": [],
   "source": [
    "df4['NumberTotalPointInterestA'] = df2['NumberTotalPointInterestA'] \n",
    "df4['NumberCulturalPointA'] = df2['NumberCulturalPointA']\n",
    "df4['NumberEducationPointA'] = df2['NumberEducationPointA']\n",
    "df4['NumberEnterteimentPointA'] = df2['NumberEnterteimentPointA']\n",
    "df4['NumberFinancePointA'] = df2['NumberFinancePointA']\n",
    "df4['NumberHealthPointA'] = df2['NumberHealthPointA']\n",
    "df4['NumberTrasportationPointA'] = df2['NumberTrasportationPointA']\n",
    "df4['NumberTotalPointInterestB'] = df2['NumberTotalPointInterestB']\n",
    "df4['NumberCulturalPointB'] = df2['NumberCulturalPointB']\n",
    "df4['NumberEducationPointB'] = df2['NumberEducationPointB']\n",
    "df4['NumberEnterteimentPointB'] = df2['NumberEnterteimentPointB'] \n",
    "df4['NumberFinancePointB'] = df2['NumberFinancePointB']\n",
    "df4['NumberHealthPointB'] = df2['NumberHealthPointB']\n",
    "df4['NumberTrasportationPointB'] = df2['NumberTrasportationPointB']\n",
    "df4['y'] = df2['y']"
   ]
  },
  {
   "cell_type": "code",
   "execution_count": 8,
   "id": "incorrect-resistance",
   "metadata": {
    "colab": {
     "base_uri": "https://localhost:8080/",
     "height": 439
    },
    "id": "incorrect-resistance",
    "outputId": "1fe5ee35-5ee0-48f3-ead5-858a97398702"
   },
   "outputs": [
    {
     "data": {
      "text/html": [
       "<div>\n",
       "<style scoped>\n",
       "    .dataframe tbody tr th:only-of-type {\n",
       "        vertical-align: middle;\n",
       "    }\n",
       "\n",
       "    .dataframe tbody tr th {\n",
       "        vertical-align: top;\n",
       "    }\n",
       "\n",
       "    .dataframe thead th {\n",
       "        text-align: right;\n",
       "    }\n",
       "</style>\n",
       "<table border=\"1\" class=\"dataframe\">\n",
       "  <thead>\n",
       "    <tr style=\"text-align: right;\">\n",
       "      <th></th>\n",
       "      <th>NumberTotalPointInterestA</th>\n",
       "      <th>NumberCulturalPointA</th>\n",
       "      <th>NumberEducationPointA</th>\n",
       "      <th>NumberEnterteimentPointA</th>\n",
       "      <th>NumberFinancePointA</th>\n",
       "      <th>NumberHealthPointA</th>\n",
       "      <th>NumberTrasportationPointA</th>\n",
       "      <th>NumberTotalPointInterestB</th>\n",
       "      <th>NumberCulturalPointB</th>\n",
       "      <th>NumberEducationPointB</th>\n",
       "      <th>NumberEnterteimentPointB</th>\n",
       "      <th>NumberFinancePointB</th>\n",
       "      <th>NumberHealthPointB</th>\n",
       "      <th>NumberTrasportationPointB</th>\n",
       "      <th>y</th>\n",
       "    </tr>\n",
       "  </thead>\n",
       "  <tbody>\n",
       "    <tr>\n",
       "      <th>0</th>\n",
       "      <td>0</td>\n",
       "      <td>0</td>\n",
       "      <td>0</td>\n",
       "      <td>0</td>\n",
       "      <td>0</td>\n",
       "      <td>0</td>\n",
       "      <td>0</td>\n",
       "      <td>0</td>\n",
       "      <td>0</td>\n",
       "      <td>0</td>\n",
       "      <td>0</td>\n",
       "      <td>0</td>\n",
       "      <td>0</td>\n",
       "      <td>0</td>\n",
       "      <td>0</td>\n",
       "    </tr>\n",
       "    <tr>\n",
       "      <th>1</th>\n",
       "      <td>0</td>\n",
       "      <td>0</td>\n",
       "      <td>0</td>\n",
       "      <td>0</td>\n",
       "      <td>0</td>\n",
       "      <td>0</td>\n",
       "      <td>0</td>\n",
       "      <td>2</td>\n",
       "      <td>2</td>\n",
       "      <td>0</td>\n",
       "      <td>0</td>\n",
       "      <td>0</td>\n",
       "      <td>0</td>\n",
       "      <td>0</td>\n",
       "      <td>0</td>\n",
       "    </tr>\n",
       "    <tr>\n",
       "      <th>2</th>\n",
       "      <td>0</td>\n",
       "      <td>0</td>\n",
       "      <td>0</td>\n",
       "      <td>0</td>\n",
       "      <td>0</td>\n",
       "      <td>0</td>\n",
       "      <td>0</td>\n",
       "      <td>4</td>\n",
       "      <td>2</td>\n",
       "      <td>0</td>\n",
       "      <td>0</td>\n",
       "      <td>0</td>\n",
       "      <td>1</td>\n",
       "      <td>1</td>\n",
       "      <td>0</td>\n",
       "    </tr>\n",
       "    <tr>\n",
       "      <th>3</th>\n",
       "      <td>0</td>\n",
       "      <td>0</td>\n",
       "      <td>0</td>\n",
       "      <td>0</td>\n",
       "      <td>0</td>\n",
       "      <td>0</td>\n",
       "      <td>0</td>\n",
       "      <td>3</td>\n",
       "      <td>0</td>\n",
       "      <td>0</td>\n",
       "      <td>0</td>\n",
       "      <td>0</td>\n",
       "      <td>2</td>\n",
       "      <td>1</td>\n",
       "      <td>0</td>\n",
       "    </tr>\n",
       "    <tr>\n",
       "      <th>4</th>\n",
       "      <td>0</td>\n",
       "      <td>0</td>\n",
       "      <td>0</td>\n",
       "      <td>0</td>\n",
       "      <td>0</td>\n",
       "      <td>0</td>\n",
       "      <td>0</td>\n",
       "      <td>0</td>\n",
       "      <td>0</td>\n",
       "      <td>0</td>\n",
       "      <td>0</td>\n",
       "      <td>0</td>\n",
       "      <td>0</td>\n",
       "      <td>0</td>\n",
       "      <td>0</td>\n",
       "    </tr>\n",
       "    <tr>\n",
       "      <th>...</th>\n",
       "      <td>...</td>\n",
       "      <td>...</td>\n",
       "      <td>...</td>\n",
       "      <td>...</td>\n",
       "      <td>...</td>\n",
       "      <td>...</td>\n",
       "      <td>...</td>\n",
       "      <td>...</td>\n",
       "      <td>...</td>\n",
       "      <td>...</td>\n",
       "      <td>...</td>\n",
       "      <td>...</td>\n",
       "      <td>...</td>\n",
       "      <td>...</td>\n",
       "      <td>...</td>\n",
       "    </tr>\n",
       "    <tr>\n",
       "      <th>68116</th>\n",
       "      <td>0</td>\n",
       "      <td>0</td>\n",
       "      <td>0</td>\n",
       "      <td>0</td>\n",
       "      <td>0</td>\n",
       "      <td>0</td>\n",
       "      <td>0</td>\n",
       "      <td>1</td>\n",
       "      <td>0</td>\n",
       "      <td>0</td>\n",
       "      <td>0</td>\n",
       "      <td>0</td>\n",
       "      <td>0</td>\n",
       "      <td>1</td>\n",
       "      <td>0</td>\n",
       "    </tr>\n",
       "    <tr>\n",
       "      <th>68117</th>\n",
       "      <td>0</td>\n",
       "      <td>0</td>\n",
       "      <td>0</td>\n",
       "      <td>0</td>\n",
       "      <td>0</td>\n",
       "      <td>0</td>\n",
       "      <td>0</td>\n",
       "      <td>2</td>\n",
       "      <td>0</td>\n",
       "      <td>1</td>\n",
       "      <td>0</td>\n",
       "      <td>0</td>\n",
       "      <td>1</td>\n",
       "      <td>0</td>\n",
       "      <td>0</td>\n",
       "    </tr>\n",
       "    <tr>\n",
       "      <th>68118</th>\n",
       "      <td>0</td>\n",
       "      <td>0</td>\n",
       "      <td>0</td>\n",
       "      <td>0</td>\n",
       "      <td>0</td>\n",
       "      <td>0</td>\n",
       "      <td>0</td>\n",
       "      <td>0</td>\n",
       "      <td>0</td>\n",
       "      <td>0</td>\n",
       "      <td>0</td>\n",
       "      <td>0</td>\n",
       "      <td>0</td>\n",
       "      <td>0</td>\n",
       "      <td>0</td>\n",
       "    </tr>\n",
       "    <tr>\n",
       "      <th>68119</th>\n",
       "      <td>0</td>\n",
       "      <td>0</td>\n",
       "      <td>0</td>\n",
       "      <td>0</td>\n",
       "      <td>0</td>\n",
       "      <td>0</td>\n",
       "      <td>0</td>\n",
       "      <td>0</td>\n",
       "      <td>0</td>\n",
       "      <td>0</td>\n",
       "      <td>0</td>\n",
       "      <td>0</td>\n",
       "      <td>0</td>\n",
       "      <td>0</td>\n",
       "      <td>0</td>\n",
       "    </tr>\n",
       "    <tr>\n",
       "      <th>68120</th>\n",
       "      <td>0</td>\n",
       "      <td>0</td>\n",
       "      <td>0</td>\n",
       "      <td>0</td>\n",
       "      <td>0</td>\n",
       "      <td>0</td>\n",
       "      <td>0</td>\n",
       "      <td>0</td>\n",
       "      <td>0</td>\n",
       "      <td>0</td>\n",
       "      <td>0</td>\n",
       "      <td>0</td>\n",
       "      <td>0</td>\n",
       "      <td>0</td>\n",
       "      <td>0</td>\n",
       "    </tr>\n",
       "  </tbody>\n",
       "</table>\n",
       "<p>68121 rows × 15 columns</p>\n",
       "</div>"
      ],
      "text/plain": [
       "       NumberTotalPointInterestA  NumberCulturalPointA  NumberEducationPointA  \\\n",
       "0                              0                     0                      0   \n",
       "1                              0                     0                      0   \n",
       "2                              0                     0                      0   \n",
       "3                              0                     0                      0   \n",
       "4                              0                     0                      0   \n",
       "...                          ...                   ...                    ...   \n",
       "68116                          0                     0                      0   \n",
       "68117                          0                     0                      0   \n",
       "68118                          0                     0                      0   \n",
       "68119                          0                     0                      0   \n",
       "68120                          0                     0                      0   \n",
       "\n",
       "       NumberEnterteimentPointA  NumberFinancePointA  NumberHealthPointA  \\\n",
       "0                             0                    0                   0   \n",
       "1                             0                    0                   0   \n",
       "2                             0                    0                   0   \n",
       "3                             0                    0                   0   \n",
       "4                             0                    0                   0   \n",
       "...                         ...                  ...                 ...   \n",
       "68116                         0                    0                   0   \n",
       "68117                         0                    0                   0   \n",
       "68118                         0                    0                   0   \n",
       "68119                         0                    0                   0   \n",
       "68120                         0                    0                   0   \n",
       "\n",
       "       NumberTrasportationPointA  NumberTotalPointInterestB  \\\n",
       "0                              0                          0   \n",
       "1                              0                          2   \n",
       "2                              0                          4   \n",
       "3                              0                          3   \n",
       "4                              0                          0   \n",
       "...                          ...                        ...   \n",
       "68116                          0                          1   \n",
       "68117                          0                          2   \n",
       "68118                          0                          0   \n",
       "68119                          0                          0   \n",
       "68120                          0                          0   \n",
       "\n",
       "       NumberCulturalPointB  NumberEducationPointB  NumberEnterteimentPointB  \\\n",
       "0                         0                      0                         0   \n",
       "1                         2                      0                         0   \n",
       "2                         2                      0                         0   \n",
       "3                         0                      0                         0   \n",
       "4                         0                      0                         0   \n",
       "...                     ...                    ...                       ...   \n",
       "68116                     0                      0                         0   \n",
       "68117                     0                      1                         0   \n",
       "68118                     0                      0                         0   \n",
       "68119                     0                      0                         0   \n",
       "68120                     0                      0                         0   \n",
       "\n",
       "       NumberFinancePointB  NumberHealthPointB  NumberTrasportationPointB  y  \n",
       "0                        0                   0                          0  0  \n",
       "1                        0                   0                          0  0  \n",
       "2                        0                   1                          1  0  \n",
       "3                        0                   2                          1  0  \n",
       "4                        0                   0                          0  0  \n",
       "...                    ...                 ...                        ... ..  \n",
       "68116                    0                   0                          1  0  \n",
       "68117                    0                   1                          0  0  \n",
       "68118                    0                   0                          0  0  \n",
       "68119                    0                   0                          0  0  \n",
       "68120                    0                   0                          0  0  \n",
       "\n",
       "[68121 rows x 15 columns]"
      ]
     },
     "execution_count": 8,
     "metadata": {},
     "output_type": "execute_result"
    }
   ],
   "source": [
    "df4"
   ]
  },
  {
   "cell_type": "markdown",
   "id": "parental-prague",
   "metadata": {
    "id": "parental-prague"
   },
   "source": [
    "# Train & test split (DataFrame Punti di Interesse)"
   ]
  },
  {
   "cell_type": "code",
   "execution_count": 19,
   "id": "popular-territory",
   "metadata": {
    "id": "popular-territory"
   },
   "outputs": [],
   "source": [
    "class_name = 'y'\n",
    "\n",
    "attributes = [col for col in df4.columns if col != class_name]\n",
    "X = df4[attributes].values\n",
    "y=df4[class_name]\n",
    "\n",
    "X_train, X_test, y_train, y_test = train_test_split(X, y, test_size=0.3,random_state=100)"
   ]
  },
  {
   "cell_type": "code",
   "execution_count": 20,
   "id": "armed-christopher",
   "metadata": {
    "id": "armed-christopher"
   },
   "outputs": [],
   "source": [
    "from sklearn.preprocessing import MinMaxScaler, StandardScaler\n",
    "scaler = StandardScaler()\n",
    "\n",
    "\n",
    "X_train_s = scaler.fit_transform(X_train)\n",
    "\n",
    "X_test_s=scaler.transform(X_test)"
   ]
  },
  {
   "cell_type": "markdown",
   "id": "imperial-junction",
   "metadata": {
    "id": "imperial-junction"
   },
   "source": [
    "# KNN (DataFrame Punti di Interesse)"
   ]
  },
  {
   "cell_type": "markdown",
   "id": "express-asian",
   "metadata": {
    "id": "express-asian"
   },
   "source": [
    "# Find Best K"
   ]
  },
  {
   "cell_type": "code",
   "execution_count": 12,
   "id": "protective-specialist",
   "metadata": {
    "colab": {
     "base_uri": "https://localhost:8080/"
    },
    "collapsed": true,
    "id": "protective-specialist",
    "outputId": "a64e6276-db40-4abf-df37-0fb511a190bd"
   },
   "outputs": [
    {
     "name": "stdout",
     "output_type": "stream",
     "text": [
      "end\n",
      "end\n",
      "end\n",
      "end\n",
      "end\n",
      "end\n",
      "end\n",
      "end\n",
      "end\n",
      "end\n",
      "end\n",
      "end\n",
      "end\n",
      "end\n",
      "end\n",
      "end\n",
      "end\n",
      "end\n",
      "end\n",
      "end\n",
      "end\n",
      "end\n",
      "end\n",
      "end\n",
      "end\n",
      "end\n",
      "end\n",
      "end\n",
      "end\n",
      "end\n",
      "end\n",
      "end\n",
      "end\n",
      "end\n",
      "end\n",
      "end\n",
      "end\n",
      "end\n",
      "end\n",
      "end\n",
      "end\n",
      "end\n",
      "end\n",
      "end\n",
      "end\n",
      "end\n",
      "end\n",
      "end\n",
      "end\n"
     ]
    }
   ],
   "source": [
    "from sklearn.neighbors import  KNeighborsRegressor\n",
    "from sklearn.metrics import r2_score, mean_absolute_error, mean_squared_error\n",
    "errorR2 = []\n",
    "errorMAE = []\n",
    "errorMSE =[]\n",
    "\n",
    "for k in range(1,50):\n",
    "    knn = KNeighborsRegressor(n_neighbors=k,n_jobs=-1,algorithm='kd_tree')\n",
    "    knn.fit(X_train_s,y_train)\n",
    "    y_pred = knn.predict(X_test_s)\n",
    "    errorR2.append(r2_score(y_test,y_pred))\n",
    "    errorMAE.append(mean_absolute_error(y_test,y_pred))\n",
    "    errorMSE.append(mean_squared_error(y_test,y_pred))\n",
    "    print('end')"
   ]
  },
  {
   "cell_type": "code",
   "execution_count": 13,
   "id": "sufficient-teach",
   "metadata": {
    "colab": {
     "base_uri": "https://localhost:8080/",
     "height": 609
    },
    "id": "sufficient-teach",
    "outputId": "a83a20a3-abc7-41bf-af3b-2c4dfc923244"
   },
   "outputs": [
    {
     "data": {
      "text/plain": [
       "[<matplotlib.lines.Line2D at 0x7fb4125d64d0>]"
      ]
     },
     "execution_count": 13,
     "metadata": {},
     "output_type": "execute_result"
    },
    {
     "data": {
      "image/png": "[encoded data removed]",
      "text/plain": [
       "<Figure size 720x720 with 1 Axes>"
      ]
     },
     "metadata": {
      "needs_background": "light"
     },
     "output_type": "display_data"
    }
   ],
   "source": [
    "import matplotlib.pyplot as plt\n",
    "\n",
    "plt.rcParams[\"figure.figsize\"] = (10, 10)\n",
    "plt.plot(range(1,50),errorMAE,'bo')\n",
    "plt.plot(range(1,50),errorMSE,'go')\n",
    "plt.plot(range(1,50),errorR2,'ro')"
   ]
  },
  {
   "cell_type": "markdown",
   "id": "gtBL9Jnyxxo3",
   "metadata": {
    "id": "gtBL9Jnyxxo3"
   },
   "source": [
    "# Regressione Lineare"
   ]
  },
  {
   "cell_type": "code",
   "execution_count": 15,
   "id": "L9lz8jrQx0-C",
   "metadata": {
    "colab": {
     "base_uri": "https://localhost:8080/"
    },
    "id": "L9lz8jrQx0-C",
    "outputId": "186de686-4b42-40a2-c5be-73a4e2d0ef6c"
   },
   "outputs": [
    {
     "data": {
      "text/plain": [
       "LinearRegression(copy_X=True, fit_intercept=True, n_jobs=None, normalize=False)"
      ]
     },
     "execution_count": 15,
     "metadata": {},
     "output_type": "execute_result"
    }
   ],
   "source": [
    "from sklearn.linear_model import LinearRegression, Ridge, Lasso\n",
    "reg = LinearRegression()\n",
    "reg.fit(X_train_s, y_train)"
   ]
  },
  {
   "cell_type": "code",
   "execution_count": 16,
   "id": "erRR4PwJx1Uy",
   "metadata": {
    "id": "erRR4PwJx1Uy"
   },
   "outputs": [],
   "source": [
    "y_pred = reg.predict(X_test_s)"
   ]
  },
  {
   "cell_type": "code",
   "execution_count": 17,
   "id": "NrRGNezRx1dI",
   "metadata": {
    "colab": {
     "base_uri": "https://localhost:8080/"
    },
    "id": "NrRGNezRx1dI",
    "outputId": "7b933de2-8def-4ea3-f8bf-220f764ed0de"
   },
   "outputs": [
    {
     "name": "stdout",
     "output_type": "stream",
     "text": [
      "R2: -0.011\n",
      "MSE: 2.107\n",
      "MAE: 0.256\n"
     ]
    }
   ],
   "source": [
    "print('R2: %.3f' % r2_score(y_test, y_pred))\n",
    "print('MSE: %.3f' % mean_squared_error(y_test, y_pred))\n",
    "print('MAE: %.3f' % mean_absolute_error(y_test, y_pred))"
   ]
  },
  {
   "cell_type": "markdown",
   "id": "eY2LhqpsyGmG",
   "metadata": {
    "id": "eY2LhqpsyGmG"
   },
   "source": [
    "# Lasso"
   ]
  },
  {
   "cell_type": "code",
   "execution_count": 26,
   "id": "gB4U0PokyI8j",
   "metadata": {
    "colab": {
     "base_uri": "https://localhost:8080/"
    },
    "id": "gB4U0PokyI8j",
    "outputId": "9cea4a09-f1f1-46f9-c028-6e6b861cc6d0"
   },
   "outputs": [
    {
     "data": {
      "text/plain": [
       "Lasso(alpha=1.0, copy_X=True, fit_intercept=True, max_iter=1000,\n",
       "      normalize=False, positive=False, precompute=False, random_state=None,\n",
       "      selection='cyclic', tol=0.0001, warm_start=False)"
      ]
     },
     "execution_count": 26,
     "metadata": {},
     "output_type": "execute_result"
    }
   ],
   "source": [
    "reg = Lasso()\n",
    "reg.fit(X_train_s, y_train)"
   ]
  },
  {
   "cell_type": "code",
   "execution_count": 27,
   "id": "aryYhZf7yIxu",
   "metadata": {
    "id": "aryYhZf7yIxu"
   },
   "outputs": [],
   "source": [
    "y_pred = reg.predict(X_test_s)"
   ]
  },
  {
   "cell_type": "code",
   "execution_count": 28,
   "id": "RisBbsOZyXSu",
   "metadata": {
    "colab": {
     "base_uri": "https://localhost:8080/"
    },
    "id": "RisBbsOZyXSu",
    "outputId": "04cd1b23-c9db-4bbf-eaf1-7630329df1db"
   },
   "outputs": [
    {
     "name": "stdout",
     "output_type": "stream",
     "text": [
      "R2: -0.006\n",
      "MSE: 2.098\n",
      "MAE: 0.246\n"
     ]
    }
   ],
   "source": [
    "print('R2: %.3f' % r2_score(y_test, y_pred))\n",
    "print('MSE: %.3f' % mean_squared_error(y_test, y_pred))\n",
    "print('MAE: %.3f' % mean_absolute_error(y_test, y_pred))"
   ]
  },
  {
   "cell_type": "markdown",
   "id": "qJujLAYhyiJ_",
   "metadata": {
    "id": "qJujLAYhyiJ_"
   },
   "source": [
    "# Ridge"
   ]
  },
  {
   "cell_type": "code",
   "execution_count": 31,
   "id": "ATGE8Sj2yfSO",
   "metadata": {
    "colab": {
     "base_uri": "https://localhost:8080/"
    },
    "id": "ATGE8Sj2yfSO",
    "outputId": "ddea6ab3-56c8-478a-efc1-964b8b682e3f"
   },
   "outputs": [
    {
     "data": {
      "text/plain": [
       "Ridge(alpha=1.0, copy_X=True, fit_intercept=True, max_iter=None,\n",
       "      normalize=False, random_state=100, solver='auto', tol=0.001)"
      ]
     },
     "execution_count": 31,
     "metadata": {},
     "output_type": "execute_result"
    }
   ],
   "source": [
    "reg = Ridge(random_state=100)\n",
    "reg.fit(X_train_s, y_train)"
   ]
  },
  {
   "cell_type": "code",
   "execution_count": 32,
   "id": "Ds7HgSlPyfIY",
   "metadata": {
    "id": "Ds7HgSlPyfIY"
   },
   "outputs": [],
   "source": [
    "y_pred = reg.predict(X_test_s)"
   ]
  },
  {
   "cell_type": "code",
   "execution_count": 33,
   "id": "S-iQ2Fv9ye-M",
   "metadata": {
    "colab": {
     "base_uri": "https://localhost:8080/"
    },
    "id": "S-iQ2Fv9ye-M",
    "outputId": "a5456a1b-3022-403e-d014-4855ecb02455"
   },
   "outputs": [
    {
     "name": "stdout",
     "output_type": "stream",
     "text": [
      "R2: -0.011\n",
      "MSE: 2.107\n",
      "MAE: 0.256\n"
     ]
    }
   ],
   "source": [
    "print('R2: %.3f' % r2_score(y_test, y_pred))\n",
    "print('MSE: %.3f' % mean_squared_error(y_test, y_pred))\n",
    "print('MAE: %.3f' % mean_absolute_error(y_test, y_pred))"
   ]
  },
  {
   "cell_type": "markdown",
   "id": "typical-chicken",
   "metadata": {
    "id": "typical-chicken"
   },
   "source": [
    "# Divisione della città (NORD-SUD-EST-OVEST)"
   ]
  },
  {
   "cell_type": "code",
   "execution_count": 1,
   "id": "restricted-columbia",
   "metadata": {
    "id": "restricted-columbia"
   },
   "outputs": [],
   "source": [
    "import pandas as pd\n",
    "import geopandas as gpd\n",
    "from polygeohasher import polygeohasher\n",
    "import json\n",
    "gdf = gpd.read_file('./prova.geojson')\n",
    "primary_df = polygeohasher.create_geohash_list(gdf,5,inner=False)\n",
    "geo_df = polygeohasher.geohashes_to_geometry(primary_df,\"geohash_list\")\n",
    "geo_df.to_file(\"SanFranciscoGrid.geojson\",driver = \"GeoJSON\")\n",
    "SanFranGrid = json.load(open('SanFranciscoGrid.geojson','r'))\n"
   ]
  },
  {
   "cell_type": "code",
   "execution_count": 2,
   "id": "interpreted-speech",
   "metadata": {
    "id": "interpreted-speech",
    "outputId": "758b45a4-e8d6-4d29-b284-572e5924807c"
   },
   "outputs": [
    {
     "data": {
      "text/html": [
       "<div style=\"width:100%;\"><div style=\"position:relative;width:100%;height:0;padding-bottom:60%;\"><span style=\"color:#565656\">Make this Notebook Trusted to load map: File -> Trust Notebook</span><iframe src=\"about:blank\" style=\"position:absolute;width:100%;height:100%;left:0;top:0;border:none !important;\" data-html=%3C%21DOCTYPE%20html%3E%0A%3Chead%3E%20%20%20%20%0A%20%20%20%20%3Cmeta%20http-equiv%3D%22content-type%22%20content%3D%22text/html%3B%20charset%3DUTF-8%22%20/%3E%0A%20%20%20%20%0A%20%20%20%20%20%20%20%20%3Cscript%3E%0A%20%20%20%20%20%20%20%20%20%20%20%20L_NO_TOUCH%20%3D%20false%3B%0A%20%20%20%20%20%20%20%20%20%20%20%20L_DISABLE_3D%20%3D%20false%3B%0A%20%20%20%20%20%20%20%20%3C/script%3E%0A%20%20%20%20%0A%20%20%20%20%3Cstyle%3Ehtml%2C%20body%20%7Bwidth%3A%20100%25%3Bheight%3A%20100%25%3Bmargin%3A%200%3Bpadding%3A%200%3B%7D%3C/style%3E%0A%20%20%20%20%3Cstyle%3E%23map%20%7Bposition%3Aabsolute%3Btop%3A0%3Bbottom%3A0%3Bright%3A0%3Bleft%3A0%3B%7D%3C/style%3E%0A%20%20%20%20%3Cscript%20src%3D%22https%3A//cdn.jsdelivr.net/npm/leaflet%401.6.0/dist/leaflet.js%22%3E%3C/script%3E%0A%20%20%20%20%3Cscript%20src%3D%22https%3A//code.jquery.com/jquery-1.12.4.min.js%22%3E%3C/script%3E%0A%20%20%20%20%3Cscript%20src%3D%22https%3A//maxcdn.bootstrapcdn.com/bootstrap/3.2.0/js/bootstrap.min.js%22%3E%3C/script%3E%0A%20%20%20%20%3Cscript%20src%3D%22https%3A//cdnjs.cloudflare.com/ajax/libs/Leaflet.awesome-markers/2.0.2/leaflet.awesome-markers.js%22%3E%3C/script%3E%0A%20%20%20%20%3Clink%20rel%3D%22stylesheet%22%20href%3D%22https%3A//cdn.jsdelivr.net/npm/leaflet%401.6.0/dist/leaflet.css%22/%3E%0A%20%20%20%20%3Clink%20rel%3D%22stylesheet%22%20href%3D%22https%3A//maxcdn.bootstrapcdn.com/bootstrap/3.2.0/css/bootstrap.min.css%22/%3E%0A%20%20%20%20%3Clink%20rel%3D%22stylesheet%22%20href%3D%22https%3A//maxcdn.bootstrapcdn.com/bootstrap/3.2.0/css/bootstrap-theme.min.css%22/%3E%0A%20%20%20%20%3Clink%20rel%3D%22stylesheet%22%20href%3D%22https%3A//maxcdn.bootstrapcdn.com/font-awesome/4.6.3/css/font-awesome.min.css%22/%3E%0A%20%20%20%20%3Clink%20rel%3D%22stylesheet%22%20href%3D%22https%3A//cdnjs.cloudflare.com/ajax/libs/Leaflet.awesome-markers/2.0.2/leaflet.awesome-markers.css%22/%3E%0A%20%20%20%20%3Clink%20rel%3D%22stylesheet%22%20href%3D%22https%3A//cdn.jsdelivr.net/gh/python-visualization/folium/folium/templates/leaflet.awesome.rotate.min.css%22/%3E%0A%20%20%20%20%0A%20%20%20%20%20%20%20%20%20%20%20%20%3Cmeta%20name%3D%22viewport%22%20content%3D%22width%3Ddevice-width%2C%0A%20%20%20%20%20%20%20%20%20%20%20%20%20%20%20%20initial-scale%3D1.0%2C%20maximum-scale%3D1.0%2C%20user-scalable%3Dno%22%20/%3E%0A%20%20%20%20%20%20%20%20%20%20%20%20%3Cstyle%3E%0A%20%20%20%20%20%20%20%20%20%20%20%20%20%20%20%20%23map_a87ed087ec784f4594dab69f5e4b52bc%20%7B%0A%20%20%20%20%20%20%20%20%20%20%20%20%20%20%20%20%20%20%20%20position%3A%20relative%3B%0A%20%20%20%20%20%20%20%20%20%20%20%20%20%20%20%20%20%20%20%20width%3A%20100.0%25%3B%0A%20%20%20%20%20%20%20%20%20%20%20%20%20%20%20%20%20%20%20%20height%3A%20100.0%25%3B%0A%20%20%20%20%20%20%20%20%20%20%20%20%20%20%20%20%20%20%20%20left%3A%200.0%25%3B%0A%20%20%20%20%20%20%20%20%20%20%20%20%20%20%20%20%20%20%20%20top%3A%200.0%25%3B%0A%20%20%20%20%20%20%20%20%20%20%20%20%20%20%20%20%7D%0A%20%20%20%20%20%20%20%20%20%20%20%20%3C/style%3E%0A%20%20%20%20%20%20%20%20%0A%3C/head%3E%0A%3Cbody%3E%20%20%20%20%0A%20%20%20%20%0A%20%20%20%20%20%20%20%20%20%20%20%20%3Cdiv%20class%3D%22folium-map%22%20id%3D%22map_a87ed087ec784f4594dab69f5e4b52bc%22%20%3E%3C/div%3E%0A%20%20%20%20%20%20%20%20%0A%3C/body%3E%0A%3Cscript%3E%20%20%20%20%0A%20%20%20%20%0A%20%20%20%20%20%20%20%20%20%20%20%20var%20map_a87ed087ec784f4594dab69f5e4b52bc%20%3D%20L.map%28%0A%20%20%20%20%20%20%20%20%20%20%20%20%20%20%20%20%22map_a87ed087ec784f4594dab69f5e4b52bc%22%2C%0A%20%20%20%20%20%20%20%20%20%20%20%20%20%20%20%20%7B%0A%20%20%20%20%20%20%20%20%20%20%20%20%20%20%20%20%20%20%20%20center%3A%20%5B37.8%2C%20-112.26%5D%2C%0A%20%20%20%20%20%20%20%20%20%20%20%20%20%20%20%20%20%20%20%20crs%3A%20L.CRS.EPSG3857%2C%0A%20%20%20%20%20%20%20%20%20%20%20%20%20%20%20%20%20%20%20%20zoom%3A%2012%2C%0A%20%20%20%20%20%20%20%20%20%20%20%20%20%20%20%20%20%20%20%20zoomControl%3A%20true%2C%0A%20%20%20%20%20%20%20%20%20%20%20%20%20%20%20%20%20%20%20%20preferCanvas%3A%20false%2C%0A%20%20%20%20%20%20%20%20%20%20%20%20%20%20%20%20%7D%0A%20%20%20%20%20%20%20%20%20%20%20%20%29%3B%0A%0A%20%20%20%20%20%20%20%20%20%20%20%20%0A%0A%20%20%20%20%20%20%20%20%0A%20%20%20%20%0A%20%20%20%20%20%20%20%20%20%20%20%20var%20tile_layer_43b6cc34a4554bb282c78de327aab844%20%3D%20L.tileLayer%28%0A%20%20%20%20%20%20%20%20%20%20%20%20%20%20%20%20%22https%3A//%7Bs%7D.tile.openstreetmap.org/%7Bz%7D/%7Bx%7D/%7By%7D.png%22%2C%0A%20%20%20%20%20%20%20%20%20%20%20%20%20%20%20%20%7B%22attribution%22%3A%20%22Data%20by%20%5Cu0026copy%3B%20%5Cu003ca%20href%3D%5C%22http%3A//openstreetmap.org%5C%22%5Cu003eOpenStreetMap%5Cu003c/a%5Cu003e%2C%20under%20%5Cu003ca%20href%3D%5C%22http%3A//www.openstreetmap.org/copyright%5C%22%5Cu003eODbL%5Cu003c/a%5Cu003e.%22%2C%20%22detectRetina%22%3A%20false%2C%20%22maxNativeZoom%22%3A%2018%2C%20%22maxZoom%22%3A%2018%2C%20%22minZoom%22%3A%200%2C%20%22noWrap%22%3A%20false%2C%20%22opacity%22%3A%201%2C%20%22subdomains%22%3A%20%22abc%22%2C%20%22tms%22%3A%20false%7D%0A%20%20%20%20%20%20%20%20%20%20%20%20%29.addTo%28map_a87ed087ec784f4594dab69f5e4b52bc%29%3B%0A%20%20%20%20%20%20%20%20%0A%20%20%20%20%0A%0A%20%20%20%20%20%20%20%20function%20geo_json_0181b70442ce4730ae49888fd258036c_onEachFeature%28feature%2C%20layer%29%20%7B%0A%20%20%20%20%20%20%20%20%20%20%20%20layer.on%28%7B%0A%20%20%20%20%20%20%20%20%20%20%20%20%7D%29%3B%0A%20%20%20%20%20%20%20%20%7D%3B%0A%20%20%20%20%20%20%20%20var%20geo_json_0181b70442ce4730ae49888fd258036c%20%3D%20L.geoJson%28null%2C%20%7B%0A%20%20%20%20%20%20%20%20%20%20%20%20%20%20%20%20onEachFeature%3A%20geo_json_0181b70442ce4730ae49888fd258036c_onEachFeature%2C%0A%20%20%20%20%20%20%20%20%20%20%20%20%0A%20%20%20%20%20%20%20%20%7D%29%3B%0A%0A%20%20%20%20%20%20%20%20function%20geo_json_0181b70442ce4730ae49888fd258036c_add%20%28data%29%20%7B%0A%20%20%20%20%20%20%20%20%20%20%20%20geo_json_0181b70442ce4730ae49888fd258036c%0A%20%20%20%20%20%20%20%20%20%20%20%20%20%20%20%20.addData%28data%29%0A%20%20%20%20%20%20%20%20%20%20%20%20%20%20%20%20.addTo%28map_a87ed087ec784f4594dab69f5e4b52bc%29%3B%0A%20%20%20%20%20%20%20%20%7D%0A%20%20%20%20%20%20%20%20%20%20%20%20geo_json_0181b70442ce4730ae49888fd258036c_add%28%7B%22features%22%3A%20%5B%7B%22geometry%22%3A%20%7B%22coordinates%22%3A%20%5B%5B%5B-122.51953125%2C%2037.7490234375%5D%2C%20%5B-122.4755859375%2C%2037.7490234375%5D%2C%20%5B-122.4755859375%2C%2037.79296875%5D%2C%20%5B-122.51953125%2C%2037.79296875%5D%2C%20%5B-122.51953125%2C%2037.7490234375%5D%5D%5D%2C%20%22type%22%3A%20%22Polygon%22%7D%2C%20%22properties%22%3A%20%7B%22cartodb_id%22%3A%201%2C%20%22created_at%22%3A%20%222013-02-10T05%3A44%3A04.653000%2B00%3A00%22%2C%20%22geohash_list%22%3A%20%229q8yu%22%2C%20%22name%22%3A%20%22Seacliff%22%2C%20%22updated_at%22%3A%20%222013-02-10T05%3A44%3A04.923000%2B00%3A00%22%7D%2C%20%22type%22%3A%20%22Feature%22%7D%2C%20%7B%22geometry%22%3A%20%7B%22coordinates%22%3A%20%5B%5B%5B-122.4755859375%2C%2037.79296875%5D%2C%20%5B-122.431640625%2C%2037.79296875%5D%2C%20%5B-122.431640625%2C%2037.8369140625%5D%2C%20%5B-122.4755859375%2C%2037.8369140625%5D%2C%20%5B-122.4755859375%2C%2037.79296875%5D%5D%5D%2C%20%22type%22%3A%20%22Polygon%22%7D%2C%20%22properties%22%3A%20%7B%22cartodb_id%22%3A%2020%2C%20%22created_at%22%3A%20%222013-02-10T05%3A44%3A04.653000%2B00%3A00%22%2C%20%22geohash_list%22%3A%20%229q8zj%22%2C%20%22name%22%3A%20%22Marina%22%2C%20%22updated_at%22%3A%20%222013-02-10T05%3A44%3A04.923000%2B00%3A00%22%7D%2C%20%22type%22%3A%20%22Feature%22%7D%2C%20%7B%22geometry%22%3A%20%7B%22coordinates%22%3A%20%5B%5B%5B-122.431640625%2C%2037.79296875%5D%2C%20%5B-122.3876953125%2C%2037.79296875%5D%2C%20%5B-122.3876953125%2C%2037.8369140625%5D%2C%20%5B-122.431640625%2C%2037.8369140625%5D%2C%20%5B-122.431640625%2C%2037.79296875%5D%5D%5D%2C%20%22type%22%3A%20%22Polygon%22%7D%2C%20%22properties%22%3A%20%7B%22cartodb_id%22%3A%2020%2C%20%22created_at%22%3A%20%222013-02-10T05%3A44%3A04.653000%2B00%3A00%22%2C%20%22geohash_list%22%3A%20%229q8zn%22%2C%20%22name%22%3A%20%22Marina%22%2C%20%22updated_at%22%3A%20%222013-02-10T05%3A44%3A04.923000%2B00%3A00%22%7D%2C%20%22type%22%3A%20%22Feature%22%7D%2C%20%7B%22geometry%22%3A%20%7B%22coordinates%22%3A%20%5B%5B%5B-122.4755859375%2C%2037.79296875%5D%2C%20%5B-122.431640625%2C%2037.79296875%5D%2C%20%5B-122.431640625%2C%2037.8369140625%5D%2C%20%5B-122.4755859375%2C%2037.8369140625%5D%2C%20%5B-122.4755859375%2C%2037.79296875%5D%5D%5D%2C%20%22type%22%3A%20%22Polygon%22%7D%2C%20%22properties%22%3A%20%7B%22cartodb_id%22%3A%2023%2C%20%22created_at%22%3A%20%222013-02-10T05%3A44%3A04.653000%2B00%3A00%22%2C%20%22geohash_list%22%3A%20%229q8zj%22%2C%20%22name%22%3A%20%22Pacific%20Heights%22%2C%20%22updated_at%22%3A%20%222013-02-10T05%3A44%3A04.923000%2B00%3A00%22%7D%2C%20%22type%22%3A%20%22Feature%22%7D%2C%20%7B%22geometry%22%3A%20%7B%22coordinates%22%3A%20%5B%5B%5B-122.4755859375%2C%2037.7490234375%5D%2C%20%5B-122.431640625%2C%2037.7490234375%5D%2C%20%5B-122.431640625%2C%2037.79296875%5D%2C%20%5B-122.4755859375%2C%2037.79296875%5D%2C%20%5B-122.4755859375%2C%2037.7490234375%5D%5D%5D%2C%20%22type%22%3A%20%22Polygon%22%7D%2C%20%22properties%22%3A%20%7B%22cartodb_id%22%3A%2023%2C%20%22created_at%22%3A%20%222013-02-10T05%3A44%3A04.653000%2B00%3A00%22%2C%20%22geohash_list%22%3A%20%229q8yv%22%2C%20%22name%22%3A%20%22Pacific%20Heights%22%2C%20%22updated_at%22%3A%20%222013-02-10T05%3A44%3A04.923000%2B00%3A00%22%7D%2C%20%22type%22%3A%20%22Feature%22%7D%2C%20%7B%22geometry%22%3A%20%7B%22coordinates%22%3A%20%5B%5B%5B-122.431640625%2C%2037.7490234375%5D%2C%20%5B-122.3876953125%2C%2037.7490234375%5D%2C%20%5B-122.3876953125%2C%2037.79296875%5D%2C%20%5B-122.431640625%2C%2037.79296875%5D%2C%20%5B-122.431640625%2C%2037.7490234375%5D%5D%5D%2C%20%22type%22%3A%20%22Polygon%22%7D%2C%20%22properties%22%3A%20%7B%22cartodb_id%22%3A%2023%2C%20%22created_at%22%3A%20%222013-02-10T05%3A44%3A04.653000%2B00%3A00%22%2C%20%22geohash_list%22%3A%20%229q8yy%22%2C%20%22name%22%3A%20%22Pacific%20Heights%22%2C%20%22updated_at%22%3A%20%222013-02-10T05%3A44%3A04.923000%2B00%3A00%22%7D%2C%20%22type%22%3A%20%22Feature%22%7D%2C%20%7B%22geometry%22%3A%20%7B%22coordinates%22%3A%20%5B%5B%5B-122.431640625%2C%2037.79296875%5D%2C%20%5B-122.3876953125%2C%2037.79296875%5D%2C%20%5B-122.3876953125%2C%2037.8369140625%5D%2C%20%5B-122.431640625%2C%2037.8369140625%5D%2C%20%5B-122.431640625%2C%2037.79296875%5D%5D%5D%2C%20%22type%22%3A%20%22Polygon%22%7D%2C%20%22properties%22%3A%20%7B%22cartodb_id%22%3A%2023%2C%20%22created_at%22%3A%20%222013-02-10T05%3A44%3A04.653000%2B00%3A00%22%2C%20%22geohash_list%22%3A%20%229q8zn%22%2C%20%22name%22%3A%20%22Pacific%20Heights%22%2C%20%22updated_at%22%3A%20%222013-02-10T05%3A44%3A04.923000%2B00%3A00%22%7D%2C%20%22type%22%3A%20%22Feature%22%7D%2C%20%7B%22geometry%22%3A%20%7B%22coordinates%22%3A%20%5B%5B%5B-122.431640625%2C%2037.7490234375%5D%2C%20%5B-122.3876953125%2C%2037.7490234375%5D%2C%20%5B-122.3876953125%2C%2037.79296875%5D%2C%20%5B-122.431640625%2C%2037.79296875%5D%2C%20%5B-122.431640625%2C%2037.7490234375%5D%5D%5D%2C%20%22type%22%3A%20%22Polygon%22%7D%2C%20%22properties%22%3A%20%7B%22cartodb_id%22%3A%2025%2C%20%22created_at%22%3A%20%222013-02-10T05%3A44%3A04.653000%2B00%3A00%22%2C%20%22geohash_list%22%3A%20%229q8yy%22%2C%20%22name%22%3A%20%22Nob%20Hill%22%2C%20%22updated_at%22%3A%20%222013-02-10T05%3A44%3A04.923000%2B00%3A00%22%7D%2C%20%22type%22%3A%20%22Feature%22%7D%2C%20%7B%22geometry%22%3A%20%7B%22coordinates%22%3A%20%5B%5B%5B-122.431640625%2C%2037.79296875%5D%2C%20%5B-122.3876953125%2C%2037.79296875%5D%2C%20%5B-122.3876953125%2C%2037.8369140625%5D%2C%20%5B-122.431640625%2C%2037.8369140625%5D%2C%20%5B-122.431640625%2C%2037.79296875%5D%5D%5D%2C%20%22type%22%3A%20%22Polygon%22%7D%2C%20%22properties%22%3A%20%7B%22cartodb_id%22%3A%2025%2C%20%22created_at%22%3A%20%222013-02-10T05%3A44%3A04.653000%2B00%3A00%22%2C%20%22geohash_list%22%3A%20%229q8zn%22%2C%20%22name%22%3A%20%22Nob%20Hill%22%2C%20%22updated_at%22%3A%20%222013-02-10T05%3A44%3A04.923000%2B00%3A00%22%7D%2C%20%22type%22%3A%20%22Feature%22%7D%2C%20%7B%22geometry%22%3A%20%7B%22coordinates%22%3A%20%5B%5B%5B-122.4755859375%2C%2037.7490234375%5D%2C%20%5B-122.431640625%2C%2037.7490234375%5D%2C%20%5B-122.431640625%2C%2037.79296875%5D%2C%20%5B-122.4755859375%2C%2037.79296875%5D%2C%20%5B-122.4755859375%2C%2037.7490234375%5D%5D%5D%2C%20%22type%22%3A%20%22Polygon%22%7D%2C%20%22properties%22%3A%20%7B%22cartodb_id%22%3A%2029%2C%20%22created_at%22%3A%20%222013-02-10T05%3A44%3A04.653000%2B00%3A00%22%2C%20%22geohash_list%22%3A%20%229q8yv%22%2C%20%22name%22%3A%20%22Presidio%20Heights%22%2C%20%22updated_at%22%3A%20%222013-02-10T05%3A44%3A04.923000%2B00%3A00%22%7D%2C%20%22type%22%3A%20%22Feature%22%7D%2C%20%7B%22geometry%22%3A%20%7B%22coordinates%22%3A%20%5B%5B%5B-122.431640625%2C%2037.7490234375%5D%2C%20%5B-122.3876953125%2C%2037.7490234375%5D%2C%20%5B-122.3876953125%2C%2037.79296875%5D%2C%20%5B-122.431640625%2C%2037.79296875%5D%2C%20%5B-122.431640625%2C%2037.7490234375%5D%5D%5D%2C%20%22type%22%3A%20%22Polygon%22%7D%2C%20%22properties%22%3A%20%7B%22cartodb_id%22%3A%207%2C%20%22created_at%22%3A%20%222013-02-10T05%3A44%3A04.653000%2B00%3A00%22%2C%20%22geohash_list%22%3A%20%229q8yy%22%2C%20%22name%22%3A%20%22Downtown/Civic%20Center%22%2C%20%22updated_at%22%3A%20%222013-02-10T05%3A44%3A04.923000%2B00%3A00%22%7D%2C%20%22type%22%3A%20%22Feature%22%7D%2C%20%7B%22geometry%22%3A%20%7B%22coordinates%22%3A%20%5B%5B%5B-122.431640625%2C%2037.705078125%5D%2C%20%5B-122.3876953125%2C%2037.705078125%5D%2C%20%5B-122.3876953125%2C%2037.7490234375%5D%2C%20%5B-122.431640625%2C%2037.7490234375%5D%2C%20%5B-122.431640625%2C%2037.705078125%5D%5D%5D%2C%20%22type%22%3A%20%22Polygon%22%7D%2C%20%22properties%22%3A%20%7B%22cartodb_id%22%3A%2013%2C%20%22created_at%22%3A%20%222013-02-10T05%3A44%3A04.653000%2B00%3A00%22%2C%20%22geohash_list%22%3A%20%229q8yw%22%2C%20%22name%22%3A%20%22Excelsior%22%2C%20%22updated_at%22%3A%20%222013-02-10T05%3A44%3A04.923000%2B00%3A00%22%7D%2C%20%22type%22%3A%20%22Feature%22%7D%2C%20%7B%22geometry%22%3A%20%7B%22coordinates%22%3A%20%5B%5B%5B-122.4755859375%2C%2037.705078125%5D%2C%20%5B-122.431640625%2C%2037.705078125%5D%2C%20%5B-122.431640625%2C%2037.7490234375%5D%2C%20%5B-122.4755859375%2C%2037.7490234375%5D%2C%20%5B-122.4755859375%2C%2037.705078125%5D%5D%5D%2C%20%22type%22%3A%20%22Polygon%22%7D%2C%20%22properties%22%3A%20%7B%22cartodb_id%22%3A%2013%2C%20%22created_at%22%3A%20%222013-02-10T05%3A44%3A04.653000%2B00%3A00%22%2C%20%22geohash_list%22%3A%20%229q8yt%22%2C%20%22name%22%3A%20%22Excelsior%22%2C%20%22updated_at%22%3A%20%222013-02-10T05%3A44%3A04.923000%2B00%3A00%22%7D%2C%20%22type%22%3A%20%22Feature%22%7D%2C%20%7B%22geometry%22%3A%20%7B%22coordinates%22%3A%20%5B%5B%5B-122.431640625%2C%2037.705078125%5D%2C%20%5B-122.3876953125%2C%2037.705078125%5D%2C%20%5B-122.3876953125%2C%2037.7490234375%5D%2C%20%5B-122.431640625%2C%2037.7490234375%5D%2C%20%5B-122.431640625%2C%2037.705078125%5D%5D%5D%2C%20%22type%22%3A%20%22Polygon%22%7D%2C%20%22properties%22%3A%20%7B%22cartodb_id%22%3A%2035%2C%20%22created_at%22%3A%20%222013-02-10T05%3A44%3A04.653000%2B00%3A00%22%2C%20%22geohash_list%22%3A%20%229q8yw%22%2C%20%22name%22%3A%20%22Bernal%20Heights%22%2C%20%22updated_at%22%3A%20%222013-02-10T05%3A44%3A04.923000%2B00%3A00%22%7D%2C%20%22type%22%3A%20%22Feature%22%7D%2C%20%7B%22geometry%22%3A%20%7B%22coordinates%22%3A%20%5B%5B%5B-122.431640625%2C%2037.7490234375%5D%2C%20%5B-122.3876953125%2C%2037.7490234375%5D%2C%20%5B-122.3876953125%2C%2037.79296875%5D%2C%20%5B-122.431640625%2C%2037.79296875%5D%2C%20%5B-122.431640625%2C%2037.7490234375%5D%5D%5D%2C%20%22type%22%3A%20%22Polygon%22%7D%2C%20%22properties%22%3A%20%7B%22cartodb_id%22%3A%2035%2C%20%22created_at%22%3A%20%222013-02-10T05%3A44%3A04.653000%2B00%3A00%22%2C%20%22geohash_list%22%3A%20%229q8yy%22%2C%20%22name%22%3A%20%22Bernal%20Heights%22%2C%20%22updated_at%22%3A%20%222013-02-10T05%3A44%3A04.923000%2B00%3A00%22%7D%2C%20%22type%22%3A%20%22Feature%22%7D%2C%20%7B%22geometry%22%3A%20%7B%22coordinates%22%3A%20%5B%5B%5B-122.4755859375%2C%2037.705078125%5D%2C%20%5B-122.431640625%2C%2037.705078125%5D%2C%20%5B-122.431640625%2C%2037.7490234375%5D%2C%20%5B-122.4755859375%2C%2037.7490234375%5D%2C%20%5B-122.4755859375%2C%2037.705078125%5D%5D%5D%2C%20%22type%22%3A%20%22Polygon%22%7D%2C%20%22properties%22%3A%20%7B%22cartodb_id%22%3A%2035%2C%20%22created_at%22%3A%20%222013-02-10T05%3A44%3A04.653000%2B00%3A00%22%2C%20%22geohash_list%22%3A%20%229q8yt%22%2C%20%22name%22%3A%20%22Bernal%20Heights%22%2C%20%22updated_at%22%3A%20%222013-02-10T05%3A44%3A04.923000%2B00%3A00%22%7D%2C%20%22type%22%3A%20%22Feature%22%7D%2C%20%7B%22geometry%22%3A%20%7B%22coordinates%22%3A%20%5B%5B%5B-122.4755859375%2C%2037.7490234375%5D%2C%20%5B-122.431640625%2C%2037.7490234375%5D%2C%20%5B-122.431640625%2C%2037.79296875%5D%2C%20%5B-122.4755859375%2C%2037.79296875%5D%2C%20%5B-122.4755859375%2C%2037.7490234375%5D%5D%5D%2C%20%22type%22%3A%20%22Polygon%22%7D%2C%20%22properties%22%3A%20%7B%22cartodb_id%22%3A%2027%2C%20%22created_at%22%3A%20%222013-02-10T05%3A44%3A04.653000%2B00%3A00%22%2C%20%22geohash_list%22%3A%20%229q8yv%22%2C%20%22name%22%3A%20%22Western%20Addition%22%2C%20%22updated_at%22%3A%20%222013-02-10T05%3A44%3A04.923000%2B00%3A00%22%7D%2C%20%22type%22%3A%20%22Feature%22%7D%2C%20%7B%22geometry%22%3A%20%7B%22coordinates%22%3A%20%5B%5B%5B-122.431640625%2C%2037.7490234375%5D%2C%20%5B-122.3876953125%2C%2037.7490234375%5D%2C%20%5B-122.3876953125%2C%2037.79296875%5D%2C%20%5B-122.431640625%2C%2037.79296875%5D%2C%20%5B-122.431640625%2C%2037.7490234375%5D%5D%5D%2C%20%22type%22%3A%20%22Polygon%22%7D%2C%20%22properties%22%3A%20%7B%22cartodb_id%22%3A%2027%2C%20%22created_at%22%3A%20%222013-02-10T05%3A44%3A04.653000%2B00%3A00%22%2C%20%22geohash_list%22%3A%20%229q8yy%22%2C%20%22name%22%3A%20%22Western%20Addition%22%2C%20%22updated_at%22%3A%20%222013-02-10T05%3A44%3A04.923000%2B00%3A00%22%7D%2C%20%22type%22%3A%20%22Feature%22%7D%2C%20%7B%22geometry%22%3A%20%7B%22coordinates%22%3A%20%5B%5B%5B-122.431640625%2C%2037.7490234375%5D%2C%20%5B-122.3876953125%2C%2037.7490234375%5D%2C%20%5B-122.3876953125%2C%2037.79296875%5D%2C%20%5B-122.431640625%2C%2037.79296875%5D%2C%20%5B-122.431640625%2C%2037.7490234375%5D%5D%5D%2C%20%22type%22%3A%20%22Polygon%22%7D%2C%20%22properties%22%3A%20%7B%22cartodb_id%22%3A%2036%2C%20%22created_at%22%3A%20%222013-02-10T05%3A44%3A04.653000%2B00%3A00%22%2C%20%22geohash_list%22%3A%20%229q8yy%22%2C%20%22name%22%3A%20%22Chinatown%22%2C%20%22updated_at%22%3A%20%222013-02-10T05%3A44%3A04.923000%2B00%3A00%22%7D%2C%20%22type%22%3A%20%22Feature%22%7D%2C%20%7B%22geometry%22%3A%20%7B%22coordinates%22%3A%20%5B%5B%5B-122.431640625%2C%2037.79296875%5D%2C%20%5B-122.3876953125%2C%2037.79296875%5D%2C%20%5B-122.3876953125%2C%2037.8369140625%5D%2C%20%5B-122.431640625%2C%2037.8369140625%5D%2C%20%5B-122.431640625%2C%2037.79296875%5D%5D%5D%2C%20%22type%22%3A%20%22Polygon%22%7D%2C%20%22properties%22%3A%20%7B%22cartodb_id%22%3A%2036%2C%20%22created_at%22%3A%20%222013-02-10T05%3A44%3A04.653000%2B00%3A00%22%2C%20%22geohash_list%22%3A%20%229q8zn%22%2C%20%22name%22%3A%20%22Chinatown%22%2C%20%22updated_at%22%3A%20%222013-02-10T05%3A44%3A04.923000%2B00%3A00%22%7D%2C%20%22type%22%3A%20%22Feature%22%7D%2C%20%7B%22geometry%22%3A%20%7B%22coordinates%22%3A%20%5B%5B%5B-122.431640625%2C%2037.79296875%5D%2C%20%5B-122.3876953125%2C%2037.79296875%5D%2C%20%5B-122.3876953125%2C%2037.8369140625%5D%2C%20%5B-122.431640625%2C%2037.8369140625%5D%2C%20%5B-122.431640625%2C%2037.79296875%5D%5D%5D%2C%20%22type%22%3A%20%22Polygon%22%7D%2C%20%22properties%22%3A%20%7B%22cartodb_id%22%3A%2037%2C%20%22created_at%22%3A%20%222013-02-10T05%3A44%3A04.653000%2B00%3A00%22%2C%20%22geohash_list%22%3A%20%229q8zn%22%2C%20%22name%22%3A%20%22North%20Beach%22%2C%20%22updated_at%22%3A%20%222013-02-10T05%3A44%3A04.923000%2B00%3A00%22%7D%2C%20%22type%22%3A%20%22Feature%22%7D%2C%20%7B%22geometry%22%3A%20%7B%22coordinates%22%3A%20%5B%5B%5B-122.4755859375%2C%2037.7490234375%5D%2C%20%5B-122.431640625%2C%2037.7490234375%5D%2C%20%5B-122.431640625%2C%2037.79296875%5D%2C%20%5B-122.4755859375%2C%2037.79296875%5D%2C%20%5B-122.4755859375%2C%2037.7490234375%5D%5D%5D%2C%20%22type%22%3A%20%22Polygon%22%7D%2C%20%22properties%22%3A%20%7B%22cartodb_id%22%3A%202%2C%20%22created_at%22%3A%20%222013-02-10T05%3A44%3A04.653000%2B00%3A00%22%2C%20%22geohash_list%22%3A%20%229q8yv%22%2C%20%22name%22%3A%20%22Haight%20Ashbury%22%2C%20%22updated_at%22%3A%20%222013-02-10T05%3A44%3A04.923000%2B00%3A00%22%7D%2C%20%22type%22%3A%20%22Feature%22%7D%2C%20%7B%22geometry%22%3A%20%7B%22coordinates%22%3A%20%5B%5B%5B-122.431640625%2C%2037.705078125%5D%2C%20%5B-122.3876953125%2C%2037.705078125%5D%2C%20%5B-122.3876953125%2C%2037.7490234375%5D%2C%20%5B-122.431640625%2C%2037.7490234375%5D%2C%20%5B-122.431640625%2C%2037.705078125%5D%5D%5D%2C%20%22type%22%3A%20%22Polygon%22%7D%2C%20%22properties%22%3A%20%7B%22cartodb_id%22%3A%203%2C%20%22created_at%22%3A%20%222013-02-10T05%3A44%3A04.653000%2B00%3A00%22%2C%20%22geohash_list%22%3A%20%229q8yw%22%2C%20%22name%22%3A%20%22Outer%20Mission%22%2C%20%22updated_at%22%3A%20%222013-02-10T05%3A44%3A04.923000%2B00%3A00%22%7D%2C%20%22type%22%3A%20%22Feature%22%7D%2C%20%7B%22geometry%22%3A%20%7B%22coordinates%22%3A%20%5B%5B%5B-122.4755859375%2C%2037.705078125%5D%2C%20%5B-122.431640625%2C%2037.705078125%5D%2C%20%5B-122.431640625%2C%2037.7490234375%5D%2C%20%5B-122.4755859375%2C%2037.7490234375%5D%2C%20%5B-122.4755859375%2C%2037.705078125%5D%5D%5D%2C%20%22type%22%3A%20%22Polygon%22%7D%2C%20%22properties%22%3A%20%7B%22cartodb_id%22%3A%203%2C%20%22created_at%22%3A%20%222013-02-10T05%3A44%3A04.653000%2B00%3A00%22%2C%20%22geohash_list%22%3A%20%229q8yt%22%2C%20%22name%22%3A%20%22Outer%20Mission%22%2C%20%22updated_at%22%3A%20%222013-02-10T05%3A44%3A04.923000%2B00%3A00%22%7D%2C%20%22type%22%3A%20%22Feature%22%7D%2C%20%7B%22geometry%22%3A%20%7B%22coordinates%22%3A%20%5B%5B%5B-122.431640625%2C%2037.705078125%5D%2C%20%5B-122.3876953125%2C%2037.705078125%5D%2C%20%5B-122.3876953125%2C%2037.7490234375%5D%2C%20%5B-122.431640625%2C%2037.7490234375%5D%2C%20%5B-122.431640625%2C%2037.705078125%5D%5D%5D%2C%20%22type%22%3A%20%22Polygon%22%7D%2C%20%22properties%22%3A%20%7B%22cartodb_id%22%3A%2012%2C%20%22created_at%22%3A%20%222013-02-10T05%3A44%3A04.653000%2B00%3A00%22%2C%20%22geohash_list%22%3A%20%229q8yw%22%2C%20%22name%22%3A%20%22Crocker%20Amazon%22%2C%20%22updated_at%22%3A%20%222013-02-10T05%3A44%3A04.923000%2B00%3A00%22%7D%2C%20%22type%22%3A%20%22Feature%22%7D%2C%20%7B%22geometry%22%3A%20%7B%22coordinates%22%3A%20%5B%5B%5B-122.4755859375%2C%2037.705078125%5D%2C%20%5B-122.431640625%2C%2037.705078125%5D%2C%20%5B-122.431640625%2C%2037.7490234375%5D%2C%20%5B-122.4755859375%2C%2037.7490234375%5D%2C%20%5B-122.4755859375%2C%2037.705078125%5D%5D%5D%2C%20%22type%22%3A%20%22Polygon%22%7D%2C%20%22properties%22%3A%20%7B%22cartodb_id%22%3A%2012%2C%20%22created_at%22%3A%20%222013-02-10T05%3A44%3A04.653000%2B00%3A00%22%2C%20%22geohash_list%22%3A%20%229q8yt%22%2C%20%22name%22%3A%20%22Crocker%20Amazon%22%2C%20%22updated_at%22%3A%20%222013-02-10T05%3A44%3A04.923000%2B00%3A00%22%7D%2C%20%22type%22%3A%20%22Feature%22%7D%2C%20%7B%22geometry%22%3A%20%7B%22coordinates%22%3A%20%5B%5B%5B-122.4755859375%2C%2037.7490234375%5D%2C%20%5B-122.431640625%2C%2037.7490234375%5D%2C%20%5B-122.431640625%2C%2037.79296875%5D%2C%20%5B-122.4755859375%2C%2037.79296875%5D%2C%20%5B-122.4755859375%2C%2037.7490234375%5D%5D%5D%2C%20%22type%22%3A%20%22Polygon%22%7D%2C%20%22properties%22%3A%20%7B%22cartodb_id%22%3A%2018%2C%20%22created_at%22%3A%20%222013-02-10T05%3A44%3A04.653000%2B00%3A00%22%2C%20%22geohash_list%22%3A%20%229q8yv%22%2C%20%22name%22%3A%20%22West%20of%20Twin%20Peaks%22%2C%20%22updated_at%22%3A%20%222013-02-10T05%3A44%3A04.923000%2B00%3A00%22%7D%2C%20%22type%22%3A%20%22Feature%22%7D%2C%20%7B%22geometry%22%3A%20%7B%22coordinates%22%3A%20%5B%5B%5B-122.4755859375%2C%2037.705078125%5D%2C%20%5B-122.431640625%2C%2037.705078125%5D%2C%20%5B-122.431640625%2C%2037.7490234375%5D%2C%20%5B-122.4755859375%2C%2037.7490234375%5D%2C%20%5B-122.4755859375%2C%2037.705078125%5D%5D%5D%2C%20%22type%22%3A%20%22Polygon%22%7D%2C%20%22properties%22%3A%20%7B%22cartodb_id%22%3A%2018%2C%20%22created_at%22%3A%20%222013-02-10T05%3A44%3A04.653000%2B00%3A00%22%2C%20%22geohash_list%22%3A%20%229q8yt%22%2C%20%22name%22%3A%20%22West%20of%20Twin%20Peaks%22%2C%20%22updated_at%22%3A%20%222013-02-10T05%3A44%3A04.923000%2B00%3A00%22%7D%2C%20%22type%22%3A%20%22Feature%22%7D%2C%20%7B%22geometry%22%3A%20%7B%22coordinates%22%3A%20%5B%5B%5B-122.431640625%2C%2037.7490234375%5D%2C%20%5B-122.3876953125%2C%2037.7490234375%5D%2C%20%5B-122.3876953125%2C%2037.79296875%5D%2C%20%5B-122.431640625%2C%2037.79296875%5D%2C%20%5B-122.431640625%2C%2037.7490234375%5D%5D%5D%2C%20%22type%22%3A%20%22Polygon%22%7D%2C%20%22properties%22%3A%20%7B%22cartodb_id%22%3A%2030%2C%20%22created_at%22%3A%20%222013-02-10T05%3A44%3A04.653000%2B00%3A00%22%2C%20%22geohash_list%22%3A%20%229q8yy%22%2C%20%22name%22%3A%20%22South%20of%20Market%22%2C%20%22updated_at%22%3A%20%222013-02-10T05%3A44%3A04.923000%2B00%3A00%22%7D%2C%20%22type%22%3A%20%22Feature%22%7D%2C%20%7B%22geometry%22%3A%20%7B%22coordinates%22%3A%20%5B%5B%5B-122.3876953125%2C%2037.7490234375%5D%2C%20%5B-122.34375%2C%2037.7490234375%5D%2C%20%5B-122.34375%2C%2037.79296875%5D%2C%20%5B-122.3876953125%2C%2037.79296875%5D%2C%20%5B-122.3876953125%2C%2037.7490234375%5D%5D%5D%2C%20%22type%22%3A%20%22Polygon%22%7D%2C%20%22properties%22%3A%20%7B%22cartodb_id%22%3A%2030%2C%20%22created_at%22%3A%20%222013-02-10T05%3A44%3A04.653000%2B00%3A00%22%2C%20%22geohash_list%22%3A%20%229q8yz%22%2C%20%22name%22%3A%20%22South%20of%20Market%22%2C%20%22updated_at%22%3A%20%222013-02-10T05%3A44%3A04.923000%2B00%3A00%22%7D%2C%20%22type%22%3A%20%22Feature%22%7D%2C%20%7B%22geometry%22%3A%20%7B%22coordinates%22%3A%20%5B%5B%5B-122.431640625%2C%2037.7490234375%5D%2C%20%5B-122.3876953125%2C%2037.7490234375%5D%2C%20%5B-122.3876953125%2C%2037.79296875%5D%2C%20%5B-122.431640625%2C%2037.79296875%5D%2C%20%5B-122.431640625%2C%2037.7490234375%5D%5D%5D%2C%20%22type%22%3A%20%22Polygon%22%7D%2C%20%22properties%22%3A%20%7B%22cartodb_id%22%3A%2032%2C%20%22created_at%22%3A%20%222013-02-10T05%3A44%3A04.653000%2B00%3A00%22%2C%20%22geohash_list%22%3A%20%229q8yy%22%2C%20%22name%22%3A%20%22Potrero%20Hill%22%2C%20%22updated_at%22%3A%20%222013-02-10T05%3A44%3A04.923000%2B00%3A00%22%7D%2C%20%22type%22%3A%20%22Feature%22%7D%2C%20%7B%22geometry%22%3A%20%7B%22coordinates%22%3A%20%5B%5B%5B-122.3876953125%2C%2037.7490234375%5D%2C%20%5B-122.34375%2C%2037.7490234375%5D%2C%20%5B-122.34375%2C%2037.79296875%5D%2C%20%5B-122.3876953125%2C%2037.79296875%5D%2C%20%5B-122.3876953125%2C%2037.7490234375%5D%5D%5D%2C%20%22type%22%3A%20%22Polygon%22%7D%2C%20%22properties%22%3A%20%7B%22cartodb_id%22%3A%2032%2C%20%22created_at%22%3A%20%222013-02-10T05%3A44%3A04.653000%2B00%3A00%22%2C%20%22geohash_list%22%3A%20%229q8yz%22%2C%20%22name%22%3A%20%22Potrero%20Hill%22%2C%20%22updated_at%22%3A%20%222013-02-10T05%3A44%3A04.923000%2B00%3A00%22%7D%2C%20%22type%22%3A%20%22Feature%22%7D%2C%20%7B%22geometry%22%3A%20%7B%22coordinates%22%3A%20%5B%5B%5B-122.4755859375%2C%2037.7490234375%5D%2C%20%5B-122.431640625%2C%2037.7490234375%5D%2C%20%5B-122.431640625%2C%2037.79296875%5D%2C%20%5B-122.4755859375%2C%2037.79296875%5D%2C%20%5B-122.4755859375%2C%2037.7490234375%5D%5D%5D%2C%20%22type%22%3A%20%22Polygon%22%7D%2C%20%22properties%22%3A%20%7B%22cartodb_id%22%3A%2019%2C%20%22created_at%22%3A%20%222013-02-10T05%3A44%3A04.653000%2B00%3A00%22%2C%20%22geohash_list%22%3A%20%229q8yv%22%2C%20%22name%22%3A%20%22Inner%20Richmond%22%2C%20%22updated_at%22%3A%20%222013-02-10T05%3A44%3A04.923000%2B00%3A00%22%7D%2C%20%22type%22%3A%20%22Feature%22%7D%2C%20%7B%22geometry%22%3A%20%7B%22coordinates%22%3A%20%5B%5B%5B-122.51953125%2C%2037.7490234375%5D%2C%20%5B-122.4755859375%2C%2037.7490234375%5D%2C%20%5B-122.4755859375%2C%2037.79296875%5D%2C%20%5B-122.51953125%2C%2037.79296875%5D%2C%20%5B-122.51953125%2C%2037.7490234375%5D%5D%5D%2C%20%22type%22%3A%20%22Polygon%22%7D%2C%20%22properties%22%3A%20%7B%22cartodb_id%22%3A%2019%2C%20%22created_at%22%3A%20%222013-02-10T05%3A44%3A04.653000%2B00%3A00%22%2C%20%22geohash_list%22%3A%20%229q8yu%22%2C%20%22name%22%3A%20%22Inner%20Richmond%22%2C%20%22updated_at%22%3A%20%222013-02-10T05%3A44%3A04.923000%2B00%3A00%22%7D%2C%20%22type%22%3A%20%22Feature%22%7D%2C%20%7B%22geometry%22%3A%20%7B%22coordinates%22%3A%20%5B%5B%5B-122.3876953125%2C%2037.705078125%5D%2C%20%5B-122.34375%2C%2037.705078125%5D%2C%20%5B-122.34375%2C%2037.7490234375%5D%2C%20%5B-122.3876953125%2C%2037.7490234375%5D%2C%20%5B-122.3876953125%2C%2037.705078125%5D%5D%5D%2C%20%22type%22%3A%20%22Polygon%22%7D%2C%20%22properties%22%3A%20%7B%22cartodb_id%22%3A%2021%2C%20%22created_at%22%3A%20%222013-02-10T05%3A44%3A04.653000%2B00%3A00%22%2C%20%22geohash_list%22%3A%20%229q8yx%22%2C%20%22name%22%3A%20%22Bayview%22%2C%20%22updated_at%22%3A%20%222013-02-10T05%3A44%3A04.923000%2B00%3A00%22%7D%2C%20%22type%22%3A%20%22Feature%22%7D%2C%20%7B%22geometry%22%3A%20%7B%22coordinates%22%3A%20%5B%5B%5B-122.431640625%2C%2037.705078125%5D%2C%20%5B-122.3876953125%2C%2037.705078125%5D%2C%20%5B-122.3876953125%2C%2037.7490234375%5D%2C%20%5B-122.431640625%2C%2037.7490234375%5D%2C%20%5B-122.431640625%2C%2037.705078125%5D%5D%5D%2C%20%22type%22%3A%20%22Polygon%22%7D%2C%20%22properties%22%3A%20%7B%22cartodb_id%22%3A%2021%2C%20%22created_at%22%3A%20%222013-02-10T05%3A44%3A04.653000%2B00%3A00%22%2C%20%22geohash_list%22%3A%20%229q8yw%22%2C%20%22name%22%3A%20%22Bayview%22%2C%20%22updated_at%22%3A%20%222013-02-10T05%3A44%3A04.923000%2B00%3A00%22%7D%2C%20%22type%22%3A%20%22Feature%22%7D%2C%20%7B%22geometry%22%3A%20%7B%22coordinates%22%3A%20%5B%5B%5B-122.431640625%2C%2037.7490234375%5D%2C%20%5B-122.3876953125%2C%2037.7490234375%5D%2C%20%5B-122.3876953125%2C%2037.79296875%5D%2C%20%5B-122.431640625%2C%2037.79296875%5D%2C%20%5B-122.431640625%2C%2037.7490234375%5D%5D%5D%2C%20%22type%22%3A%20%22Polygon%22%7D%2C%20%22properties%22%3A%20%7B%22cartodb_id%22%3A%2021%2C%20%22created_at%22%3A%20%222013-02-10T05%3A44%3A04.653000%2B00%3A00%22%2C%20%22geohash_list%22%3A%20%229q8yy%22%2C%20%22name%22%3A%20%22Bayview%22%2C%20%22updated_at%22%3A%20%222013-02-10T05%3A44%3A04.923000%2B00%3A00%22%7D%2C%20%22type%22%3A%20%22Feature%22%7D%2C%20%7B%22geometry%22%3A%20%7B%22coordinates%22%3A%20%5B%5B%5B-122.3876953125%2C%2037.7490234375%5D%2C%20%5B-122.34375%2C%2037.7490234375%5D%2C%20%5B-122.34375%2C%2037.79296875%5D%2C%20%5B-122.3876953125%2C%2037.79296875%5D%2C%20%5B-122.3876953125%2C%2037.7490234375%5D%5D%5D%2C%20%22type%22%3A%20%22Polygon%22%7D%2C%20%22properties%22%3A%20%7B%22cartodb_id%22%3A%2021%2C%20%22created_at%22%3A%20%222013-02-10T05%3A44%3A04.653000%2B00%3A00%22%2C%20%22geohash_list%22%3A%20%229q8yz%22%2C%20%22name%22%3A%20%22Bayview%22%2C%20%22updated_at%22%3A%20%222013-02-10T05%3A44%3A04.923000%2B00%3A00%22%7D%2C%20%22type%22%3A%20%22Feature%22%7D%2C%20%7B%22geometry%22%3A%20%7B%22coordinates%22%3A%20%5B%5B%5B-122.431640625%2C%2037.705078125%5D%2C%20%5B-122.3876953125%2C%2037.705078125%5D%2C%20%5B-122.3876953125%2C%2037.7490234375%5D%2C%20%5B-122.431640625%2C%2037.7490234375%5D%2C%20%5B-122.431640625%2C%2037.705078125%5D%5D%5D%2C%20%22type%22%3A%20%22Polygon%22%7D%2C%20%22properties%22%3A%20%7B%22cartodb_id%22%3A%205%2C%20%22created_at%22%3A%20%222013-02-10T05%3A44%3A04.653000%2B00%3A00%22%2C%20%22geohash_list%22%3A%20%229q8yw%22%2C%20%22name%22%3A%20%22Noe%20Valley%22%2C%20%22updated_at%22%3A%20%222013-02-10T05%3A44%3A04.923000%2B00%3A00%22%7D%2C%20%22type%22%3A%20%22Feature%22%7D%2C%20%7B%22geometry%22%3A%20%7B%22coordinates%22%3A%20%5B%5B%5B-122.4755859375%2C%2037.7490234375%5D%2C%20%5B-122.431640625%2C%2037.7490234375%5D%2C%20%5B-122.431640625%2C%2037.79296875%5D%2C%20%5B-122.4755859375%2C%2037.79296875%5D%2C%20%5B-122.4755859375%2C%2037.7490234375%5D%5D%5D%2C%20%22type%22%3A%20%22Polygon%22%7D%2C%20%22properties%22%3A%20%7B%22cartodb_id%22%3A%205%2C%20%22created_at%22%3A%20%222013-02-10T05%3A44%3A04.653000%2B00%3A00%22%2C%20%22geohash_list%22%3A%20%229q8yv%22%2C%20%22name%22%3A%20%22Noe%20Valley%22%2C%20%22updated_at%22%3A%20%222013-02-10T05%3A44%3A04.923000%2B00%3A00%22%7D%2C%20%22type%22%3A%20%22Feature%22%7D%2C%20%7B%22geometry%22%3A%20%7B%22coordinates%22%3A%20%5B%5B%5B-122.431640625%2C%2037.7490234375%5D%2C%20%5B-122.3876953125%2C%2037.7490234375%5D%2C%20%5B-122.3876953125%2C%2037.79296875%5D%2C%20%5B-122.431640625%2C%2037.79296875%5D%2C%20%5B-122.431640625%2C%2037.7490234375%5D%5D%5D%2C%20%22type%22%3A%20%22Polygon%22%7D%2C%20%22properties%22%3A%20%7B%22cartodb_id%22%3A%205%2C%20%22created_at%22%3A%20%222013-02-10T05%3A44%3A04.653000%2B00%3A00%22%2C%20%22geohash_list%22%3A%20%229q8yy%22%2C%20%22name%22%3A%20%22Noe%20Valley%22%2C%20%22updated_at%22%3A%20%222013-02-10T05%3A44%3A04.923000%2B00%3A00%22%7D%2C%20%22type%22%3A%20%22Feature%22%7D%2C%20%7B%22geometry%22%3A%20%7B%22coordinates%22%3A%20%5B%5B%5B-122.4755859375%2C%2037.705078125%5D%2C%20%5B-122.431640625%2C%2037.705078125%5D%2C%20%5B-122.431640625%2C%2037.7490234375%5D%2C%20%5B-122.4755859375%2C%2037.7490234375%5D%2C%20%5B-122.4755859375%2C%2037.705078125%5D%5D%5D%2C%20%22type%22%3A%20%22Polygon%22%7D%2C%20%22properties%22%3A%20%7B%22cartodb_id%22%3A%205%2C%20%22created_at%22%3A%20%222013-02-10T05%3A44%3A04.653000%2B00%3A00%22%2C%20%22geohash_list%22%3A%20%229q8yt%22%2C%20%22name%22%3A%20%22Noe%20Valley%22%2C%20%22updated_at%22%3A%20%222013-02-10T05%3A44%3A04.923000%2B00%3A00%22%7D%2C%20%22type%22%3A%20%22Feature%22%7D%2C%20%7B%22geometry%22%3A%20%7B%22coordinates%22%3A%20%5B%5B%5B-122.4755859375%2C%2037.7490234375%5D%2C%20%5B-122.431640625%2C%2037.7490234375%5D%2C%20%5B-122.431640625%2C%2037.79296875%5D%2C%20%5B-122.4755859375%2C%2037.79296875%5D%2C%20%5B-122.4755859375%2C%2037.7490234375%5D%5D%5D%2C%20%22type%22%3A%20%22Polygon%22%7D%2C%20%22properties%22%3A%20%7B%22cartodb_id%22%3A%206%2C%20%22created_at%22%3A%20%222013-02-10T05%3A44%3A04.653000%2B00%3A00%22%2C%20%22geohash_list%22%3A%20%229q8yv%22%2C%20%22name%22%3A%20%22Inner%20Sunset%22%2C%20%22updated_at%22%3A%20%222013-02-10T05%3A44%3A04.923000%2B00%3A00%22%7D%2C%20%22type%22%3A%20%22Feature%22%7D%2C%20%7B%22geometry%22%3A%20%7B%22coordinates%22%3A%20%5B%5B%5B-122.4755859375%2C%2037.705078125%5D%2C%20%5B-122.431640625%2C%2037.705078125%5D%2C%20%5B-122.431640625%2C%2037.7490234375%5D%2C%20%5B-122.4755859375%2C%2037.7490234375%5D%2C%20%5B-122.4755859375%2C%2037.705078125%5D%5D%5D%2C%20%22type%22%3A%20%22Polygon%22%7D%2C%20%22properties%22%3A%20%7B%22cartodb_id%22%3A%206%2C%20%22created_at%22%3A%20%222013-02-10T05%3A44%3A04.653000%2B00%3A00%22%2C%20%22geohash_list%22%3A%20%229q8yt%22%2C%20%22name%22%3A%20%22Inner%20Sunset%22%2C%20%22updated_at%22%3A%20%222013-02-10T05%3A44%3A04.923000%2B00%3A00%22%7D%2C%20%22type%22%3A%20%22Feature%22%7D%2C%20%7B%22geometry%22%3A%20%7B%22coordinates%22%3A%20%5B%5B%5B-122.51953125%2C%2037.7490234375%5D%2C%20%5B-122.4755859375%2C%2037.7490234375%5D%2C%20%5B-122.4755859375%2C%2037.79296875%5D%2C%20%5B-122.51953125%2C%2037.79296875%5D%2C%20%5B-122.51953125%2C%2037.7490234375%5D%5D%5D%2C%20%22type%22%3A%20%22Polygon%22%7D%2C%20%22properties%22%3A%20%7B%22cartodb_id%22%3A%206%2C%20%22created_at%22%3A%20%222013-02-10T05%3A44%3A04.653000%2B00%3A00%22%2C%20%22geohash_list%22%3A%20%229q8yu%22%2C%20%22name%22%3A%20%22Inner%20Sunset%22%2C%20%22updated_at%22%3A%20%222013-02-10T05%3A44%3A04.923000%2B00%3A00%22%7D%2C%20%22type%22%3A%20%22Feature%22%7D%2C%20%7B%22geometry%22%3A%20%7B%22coordinates%22%3A%20%5B%5B%5B-122.51953125%2C%2037.705078125%5D%2C%20%5B-122.4755859375%2C%2037.705078125%5D%2C%20%5B-122.4755859375%2C%2037.7490234375%5D%2C%20%5B-122.51953125%2C%2037.7490234375%5D%2C%20%5B-122.51953125%2C%2037.705078125%5D%5D%5D%2C%20%22type%22%3A%20%22Polygon%22%7D%2C%20%22properties%22%3A%20%7B%22cartodb_id%22%3A%206%2C%20%22created_at%22%3A%20%222013-02-10T05%3A44%3A04.653000%2B00%3A00%22%2C%20%22geohash_list%22%3A%20%229q8ys%22%2C%20%22name%22%3A%20%22Inner%20Sunset%22%2C%20%22updated_at%22%3A%20%222013-02-10T05%3A44%3A04.923000%2B00%3A00%22%7D%2C%20%22type%22%3A%20%22Feature%22%7D%2C%20%7B%22geometry%22%3A%20%7B%22coordinates%22%3A%20%5B%5B%5B-122.4755859375%2C%2037.705078125%5D%2C%20%5B-122.431640625%2C%2037.705078125%5D%2C%20%5B-122.431640625%2C%2037.7490234375%5D%2C%20%5B-122.4755859375%2C%2037.7490234375%5D%2C%20%5B-122.4755859375%2C%2037.705078125%5D%5D%5D%2C%20%22type%22%3A%20%22Polygon%22%7D%2C%20%22properties%22%3A%20%7B%22cartodb_id%22%3A%208%2C%20%22created_at%22%3A%20%222013-02-10T05%3A44%3A04.653000%2B00%3A00%22%2C%20%22geohash_list%22%3A%20%229q8yt%22%2C%20%22name%22%3A%20%22Diamond%20Heights%22%2C%20%22updated_at%22%3A%20%222013-02-10T05%3A44%3A04.923000%2B00%3A00%22%7D%2C%20%22type%22%3A%20%22Feature%22%7D%2C%20%7B%22geometry%22%3A%20%7B%22coordinates%22%3A%20%5B%5B%5B-122.4755859375%2C%2037.705078125%5D%2C%20%5B-122.431640625%2C%2037.705078125%5D%2C%20%5B-122.431640625%2C%2037.7490234375%5D%2C%20%5B-122.4755859375%2C%2037.7490234375%5D%2C%20%5B-122.4755859375%2C%2037.705078125%5D%5D%5D%2C%20%22type%22%3A%20%22Polygon%22%7D%2C%20%22properties%22%3A%20%7B%22cartodb_id%22%3A%2010%2C%20%22created_at%22%3A%20%222013-02-10T05%3A44%3A04.653000%2B00%3A00%22%2C%20%22geohash_list%22%3A%20%229q8yt%22%2C%20%22name%22%3A%20%22Lakeshore%22%2C%20%22updated_at%22%3A%20%222013-02-10T05%3A44%3A04.923000%2B00%3A00%22%7D%2C%20%22type%22%3A%20%22Feature%22%7D%2C%20%7B%22geometry%22%3A%20%7B%22coordinates%22%3A%20%5B%5B%5B-122.51953125%2C%2037.705078125%5D%2C%20%5B-122.4755859375%2C%2037.705078125%5D%2C%20%5B-122.4755859375%2C%2037.7490234375%5D%2C%20%5B-122.51953125%2C%2037.7490234375%5D%2C%20%5B-122.51953125%2C%2037.705078125%5D%5D%5D%2C%20%22type%22%3A%20%22Polygon%22%7D%2C%20%22properties%22%3A%20%7B%22cartodb_id%22%3A%2010%2C%20%22created_at%22%3A%20%222013-02-10T05%3A44%3A04.653000%2B00%3A00%22%2C%20%22geohash_list%22%3A%20%229q8ys%22%2C%20%22name%22%3A%20%22Lakeshore%22%2C%20%22updated_at%22%3A%20%222013-02-10T05%3A44%3A04.923000%2B00%3A00%22%7D%2C%20%22type%22%3A%20%22Feature%22%7D%2C%20%7B%22geometry%22%3A%20%7B%22coordinates%22%3A%20%5B%5B%5B-122.431640625%2C%2037.79296875%5D%2C%20%5B-122.3876953125%2C%2037.79296875%5D%2C%20%5B-122.3876953125%2C%2037.8369140625%5D%2C%20%5B-122.431640625%2C%2037.8369140625%5D%2C%20%5B-122.431640625%2C%2037.79296875%5D%5D%5D%2C%20%22type%22%3A%20%22Polygon%22%7D%2C%20%22properties%22%3A%20%7B%22cartodb_id%22%3A%204%2C%20%22created_at%22%3A%20%222013-02-10T05%3A44%3A04.653000%2B00%3A00%22%2C%20%22geohash_list%22%3A%20%229q8zn%22%2C%20%22name%22%3A%20%22Russian%20Hill%22%2C%20%22updated_at%22%3A%20%222013-02-10T05%3A44%3A04.923000%2B00%3A00%22%7D%2C%20%22type%22%3A%20%22Feature%22%7D%2C%20%7B%22geometry%22%3A%20%7B%22coordinates%22%3A%20%5B%5B%5B-122.3876953125%2C%2037.79296875%5D%2C%20%5B-122.34375%2C%2037.79296875%5D%2C%20%5B-122.34375%2C%2037.8369140625%5D%2C%20%5B-122.3876953125%2C%2037.8369140625%5D%2C%20%5B-122.3876953125%2C%2037.79296875%5D%5D%5D%2C%20%22type%22%3A%20%22Polygon%22%7D%2C%20%22properties%22%3A%20%7B%22cartodb_id%22%3A%209%2C%20%22created_at%22%3A%20%222013-02-10T05%3A44%3A04.653000%2B00%3A00%22%2C%20%22geohash_list%22%3A%20%229q8zp%22%2C%20%22name%22%3A%20%22Treasure%20Island/YBI%22%2C%20%22updated_at%22%3A%20%222013-02-10T05%3A44%3A04.923000%2B00%3A00%22%7D%2C%20%22type%22%3A%20%22Feature%22%7D%2C%20%7B%22geometry%22%3A%20%7B%22coordinates%22%3A%20%5B%5B%5B-122.4755859375%2C%2037.7490234375%5D%2C%20%5B-122.431640625%2C%2037.7490234375%5D%2C%20%5B-122.431640625%2C%2037.79296875%5D%2C%20%5B-122.4755859375%2C%2037.79296875%5D%2C%20%5B-122.4755859375%2C%2037.7490234375%5D%5D%5D%2C%20%22type%22%3A%20%22Polygon%22%7D%2C%20%22properties%22%3A%20%7B%22cartodb_id%22%3A%2034%2C%20%22created_at%22%3A%20%222013-02-10T05%3A44%3A04.653000%2B00%3A00%22%2C%20%22geohash_list%22%3A%20%229q8yv%22%2C%20%22name%22%3A%20%22Twin%20Peaks%22%2C%20%22updated_at%22%3A%20%222013-02-10T05%3A44%3A04.923000%2B00%3A00%22%7D%2C%20%22type%22%3A%20%22Feature%22%7D%2C%20%7B%22geometry%22%3A%20%7B%22coordinates%22%3A%20%5B%5B%5B-122.4755859375%2C%2037.705078125%5D%2C%20%5B-122.431640625%2C%2037.705078125%5D%2C%20%5B-122.431640625%2C%2037.7490234375%5D%2C%20%5B-122.4755859375%2C%2037.7490234375%5D%2C%20%5B-122.4755859375%2C%2037.705078125%5D%5D%5D%2C%20%22type%22%3A%20%22Polygon%22%7D%2C%20%22properties%22%3A%20%7B%22cartodb_id%22%3A%2034%2C%20%22created_at%22%3A%20%222013-02-10T05%3A44%3A04.653000%2B00%3A00%22%2C%20%22geohash_list%22%3A%20%229q8yt%22%2C%20%22name%22%3A%20%22Twin%20Peaks%22%2C%20%22updated_at%22%3A%20%222013-02-10T05%3A44%3A04.923000%2B00%3A00%22%7D%2C%20%22type%22%3A%20%22Feature%22%7D%2C%20%7B%22geometry%22%3A%20%7B%22coordinates%22%3A%20%5B%5B%5B-122.51953125%2C%2037.7490234375%5D%2C%20%5B-122.4755859375%2C%2037.7490234375%5D%2C%20%5B-122.4755859375%2C%2037.79296875%5D%2C%20%5B-122.51953125%2C%2037.79296875%5D%2C%20%5B-122.51953125%2C%2037.7490234375%5D%5D%5D%2C%20%22type%22%3A%20%22Polygon%22%7D%2C%20%22properties%22%3A%20%7B%22cartodb_id%22%3A%2011%2C%20%22created_at%22%3A%20%222013-02-10T05%3A44%3A04.653000%2B00%3A00%22%2C%20%22geohash_list%22%3A%20%229q8yu%22%2C%20%22name%22%3A%20%22Outer%20Richmond%22%2C%20%22updated_at%22%3A%20%222013-02-10T05%3A44%3A04.923000%2B00%3A00%22%7D%2C%20%22type%22%3A%20%22Feature%22%7D%2C%20%7B%22geometry%22%3A%20%7B%22coordinates%22%3A%20%5B%5B%5B-122.431640625%2C%2037.705078125%5D%2C%20%5B-122.3876953125%2C%2037.705078125%5D%2C%20%5B-122.3876953125%2C%2037.7490234375%5D%2C%20%5B-122.431640625%2C%2037.7490234375%5D%2C%20%5B-122.431640625%2C%2037.705078125%5D%5D%5D%2C%20%22type%22%3A%20%22Polygon%22%7D%2C%20%22properties%22%3A%20%7B%22cartodb_id%22%3A%2022%2C%20%22created_at%22%3A%20%222013-02-10T05%3A44%3A04.653000%2B00%3A00%22%2C%20%22geohash_list%22%3A%20%229q8yw%22%2C%20%22name%22%3A%20%22Visitacion%20Valley%22%2C%20%22updated_at%22%3A%20%222013-02-10T05%3A44%3A04.923000%2B00%3A00%22%7D%2C%20%22type%22%3A%20%22Feature%22%7D%2C%20%7B%22geometry%22%3A%20%7B%22coordinates%22%3A%20%5B%5B%5B-122.4755859375%2C%2037.705078125%5D%2C%20%5B-122.431640625%2C%2037.705078125%5D%2C%20%5B-122.431640625%2C%2037.7490234375%5D%2C%20%5B-122.4755859375%2C%2037.7490234375%5D%2C%20%5B-122.4755859375%2C%2037.705078125%5D%5D%5D%2C%20%22type%22%3A%20%22Polygon%22%7D%2C%20%22properties%22%3A%20%7B%22cartodb_id%22%3A%2022%2C%20%22created_at%22%3A%20%222013-02-10T05%3A44%3A04.653000%2B00%3A00%22%2C%20%22geohash_list%22%3A%20%229q8yt%22%2C%20%22name%22%3A%20%22Visitacion%20Valley%22%2C%20%22updated_at%22%3A%20%222013-02-10T05%3A44%3A04.923000%2B00%3A00%22%7D%2C%20%22type%22%3A%20%22Feature%22%7D%2C%20%7B%22geometry%22%3A%20%7B%22coordinates%22%3A%20%5B%5B%5B-122.4755859375%2C%2037.7490234375%5D%2C%20%5B-122.431640625%2C%2037.7490234375%5D%2C%20%5B-122.431640625%2C%2037.79296875%5D%2C%20%5B-122.4755859375%2C%2037.79296875%5D%2C%20%5B-122.4755859375%2C%2037.7490234375%5D%5D%5D%2C%20%22type%22%3A%20%22Polygon%22%7D%2C%20%22properties%22%3A%20%7B%22cartodb_id%22%3A%2028%2C%20%22created_at%22%3A%20%222013-02-10T05%3A44%3A04.653000%2B00%3A00%22%2C%20%22geohash_list%22%3A%20%229q8yv%22%2C%20%22name%22%3A%20%22Golden%20Gate%20Park%22%2C%20%22updated_at%22%3A%20%222013-02-10T05%3A44%3A04.923000%2B00%3A00%22%7D%2C%20%22type%22%3A%20%22Feature%22%7D%2C%20%7B%22geometry%22%3A%20%7B%22coordinates%22%3A%20%5B%5B%5B-122.51953125%2C%2037.7490234375%5D%2C%20%5B-122.4755859375%2C%2037.7490234375%5D%2C%20%5B-122.4755859375%2C%2037.79296875%5D%2C%20%5B-122.51953125%2C%2037.79296875%5D%2C%20%5B-122.51953125%2C%2037.7490234375%5D%5D%5D%2C%20%22type%22%3A%20%22Polygon%22%7D%2C%20%22properties%22%3A%20%7B%22cartodb_id%22%3A%2028%2C%20%22created_at%22%3A%20%222013-02-10T05%3A44%3A04.653000%2B00%3A00%22%2C%20%22geohash_list%22%3A%20%229q8yu%22%2C%20%22name%22%3A%20%22Golden%20Gate%20Park%22%2C%20%22updated_at%22%3A%20%222013-02-10T05%3A44%3A04.923000%2B00%3A00%22%7D%2C%20%22type%22%3A%20%22Feature%22%7D%2C%20%7B%22geometry%22%3A%20%7B%22coordinates%22%3A%20%5B%5B%5B-122.4755859375%2C%2037.705078125%5D%2C%20%5B-122.431640625%2C%2037.705078125%5D%2C%20%5B-122.431640625%2C%2037.7490234375%5D%2C%20%5B-122.4755859375%2C%2037.7490234375%5D%2C%20%5B-122.4755859375%2C%2037.705078125%5D%5D%5D%2C%20%22type%22%3A%20%22Polygon%22%7D%2C%20%22properties%22%3A%20%7B%22cartodb_id%22%3A%2014%2C%20%22created_at%22%3A%20%222013-02-10T05%3A44%3A04.653000%2B00%3A00%22%2C%20%22geohash_list%22%3A%20%229q8yt%22%2C%20%22name%22%3A%20%22Parkside%22%2C%20%22updated_at%22%3A%20%222013-02-10T05%3A44%3A04.923000%2B00%3A00%22%7D%2C%20%22type%22%3A%20%22Feature%22%7D%2C%20%7B%22geometry%22%3A%20%7B%22coordinates%22%3A%20%5B%5B%5B-122.51953125%2C%2037.705078125%5D%2C%20%5B-122.4755859375%2C%2037.705078125%5D%2C%20%5B-122.4755859375%2C%2037.7490234375%5D%2C%20%5B-122.51953125%2C%2037.7490234375%5D%2C%20%5B-122.51953125%2C%2037.705078125%5D%5D%5D%2C%20%22type%22%3A%20%22Polygon%22%7D%2C%20%22properties%22%3A%20%7B%22cartodb_id%22%3A%2014%2C%20%22created_at%22%3A%20%222013-02-10T05%3A44%3A04.653000%2B00%3A00%22%2C%20%22geohash_list%22%3A%20%229q8ys%22%2C%20%22name%22%3A%20%22Parkside%22%2C%20%22updated_at%22%3A%20%222013-02-10T05%3A44%3A04.923000%2B00%3A00%22%7D%2C%20%22type%22%3A%20%22Feature%22%7D%2C%20%7B%22geometry%22%3A%20%7B%22coordinates%22%3A%20%5B%5B%5B-122.431640625%2C%2037.7490234375%5D%2C%20%5B-122.3876953125%2C%2037.7490234375%5D%2C%20%5B-122.3876953125%2C%2037.79296875%5D%2C%20%5B-122.431640625%2C%2037.79296875%5D%2C%20%5B-122.431640625%2C%2037.7490234375%5D%5D%5D%2C%20%22type%22%3A%20%22Polygon%22%7D%2C%20%22properties%22%3A%20%7B%22cartodb_id%22%3A%2015%2C%20%22created_at%22%3A%20%222013-02-10T05%3A44%3A04.653000%2B00%3A00%22%2C%20%22geohash_list%22%3A%20%229q8yy%22%2C%20%22name%22%3A%20%22Financial%20District%22%2C%20%22updated_at%22%3A%20%222013-02-10T05%3A44%3A04.923000%2B00%3A00%22%7D%2C%20%22type%22%3A%20%22Feature%22%7D%2C%20%7B%22geometry%22%3A%20%7B%22coordinates%22%3A%20%5B%5B%5B-122.431640625%2C%2037.79296875%5D%2C%20%5B-122.3876953125%2C%2037.79296875%5D%2C%20%5B-122.3876953125%2C%2037.8369140625%5D%2C%20%5B-122.431640625%2C%2037.8369140625%5D%2C%20%5B-122.431640625%2C%2037.79296875%5D%5D%5D%2C%20%22type%22%3A%20%22Polygon%22%7D%2C%20%22properties%22%3A%20%7B%22cartodb_id%22%3A%2015%2C%20%22created_at%22%3A%20%222013-02-10T05%3A44%3A04.653000%2B00%3A00%22%2C%20%22geohash_list%22%3A%20%229q8zn%22%2C%20%22name%22%3A%20%22Financial%20District%22%2C%20%22updated_at%22%3A%20%222013-02-10T05%3A44%3A04.923000%2B00%3A00%22%7D%2C%20%22type%22%3A%20%22Feature%22%7D%2C%20%7B%22geometry%22%3A%20%7B%22coordinates%22%3A%20%5B%5B%5B-122.4755859375%2C%2037.705078125%5D%2C%20%5B-122.431640625%2C%2037.705078125%5D%2C%20%5B-122.431640625%2C%2037.7490234375%5D%2C%20%5B-122.4755859375%2C%2037.7490234375%5D%2C%20%5B-122.4755859375%2C%2037.705078125%5D%5D%5D%2C%20%22type%22%3A%20%22Polygon%22%7D%2C%20%22properties%22%3A%20%7B%22cartodb_id%22%3A%2016%2C%20%22created_at%22%3A%20%222013-02-10T05%3A44%3A04.653000%2B00%3A00%22%2C%20%22geohash_list%22%3A%20%229q8yt%22%2C%20%22name%22%3A%20%22Ocean%20View%22%2C%20%22updated_at%22%3A%20%222013-02-10T05%3A44%3A04.923000%2B00%3A00%22%7D%2C%20%22type%22%3A%20%22Feature%22%7D%2C%20%7B%22geometry%22%3A%20%7B%22coordinates%22%3A%20%5B%5B%5B-122.431640625%2C%2037.705078125%5D%2C%20%5B-122.3876953125%2C%2037.705078125%5D%2C%20%5B-122.3876953125%2C%2037.7490234375%5D%2C%20%5B-122.431640625%2C%2037.7490234375%5D%2C%20%5B-122.431640625%2C%2037.705078125%5D%5D%5D%2C%20%22type%22%3A%20%22Polygon%22%7D%2C%20%22properties%22%3A%20%7B%22cartodb_id%22%3A%2017%2C%20%22created_at%22%3A%20%222013-02-10T05%3A44%3A04.653000%2B00%3A00%22%2C%20%22geohash_list%22%3A%20%229q8yw%22%2C%20%22name%22%3A%20%22Mission%22%2C%20%22updated_at%22%3A%20%222013-02-10T05%3A44%3A04.923000%2B00%3A00%22%7D%2C%20%22type%22%3A%20%22Feature%22%7D%2C%20%7B%22geometry%22%3A%20%7B%22coordinates%22%3A%20%5B%5B%5B-122.431640625%2C%2037.7490234375%5D%2C%20%5B-122.3876953125%2C%2037.7490234375%5D%2C%20%5B-122.3876953125%2C%2037.79296875%5D%2C%20%5B-122.431640625%2C%2037.79296875%5D%2C%20%5B-122.431640625%2C%2037.7490234375%5D%5D%5D%2C%20%22type%22%3A%20%22Polygon%22%7D%2C%20%22properties%22%3A%20%7B%22cartodb_id%22%3A%2017%2C%20%22created_at%22%3A%20%222013-02-10T05%3A44%3A04.653000%2B00%3A00%22%2C%20%22geohash_list%22%3A%20%229q8yy%22%2C%20%22name%22%3A%20%22Mission%22%2C%20%22updated_at%22%3A%20%222013-02-10T05%3A44%3A04.923000%2B00%3A00%22%7D%2C%20%22type%22%3A%20%22Feature%22%7D%2C%20%7B%22geometry%22%3A%20%7B%22coordinates%22%3A%20%5B%5B%5B-122.51953125%2C%2037.79296875%5D%2C%20%5B-122.4755859375%2C%2037.79296875%5D%2C%20%5B-122.4755859375%2C%2037.8369140625%5D%2C%20%5B-122.51953125%2C%2037.8369140625%5D%2C%20%5B-122.51953125%2C%2037.79296875%5D%5D%5D%2C%20%22type%22%3A%20%22Polygon%22%7D%2C%20%22properties%22%3A%20%7B%22cartodb_id%22%3A%2024%2C%20%22created_at%22%3A%20%222013-02-10T05%3A44%3A04.653000%2B00%3A00%22%2C%20%22geohash_list%22%3A%20%229q8zh%22%2C%20%22name%22%3A%20%22Presidio%22%2C%20%22updated_at%22%3A%20%222013-02-10T05%3A44%3A04.923000%2B00%3A00%22%7D%2C%20%22type%22%3A%20%22Feature%22%7D%2C%20%7B%22geometry%22%3A%20%7B%22coordinates%22%3A%20%5B%5B%5B-122.4755859375%2C%2037.79296875%5D%2C%20%5B-122.431640625%2C%2037.79296875%5D%2C%20%5B-122.431640625%2C%2037.8369140625%5D%2C%20%5B-122.4755859375%2C%2037.8369140625%5D%2C%20%5B-122.4755859375%2C%2037.79296875%5D%5D%5D%2C%20%22type%22%3A%20%22Polygon%22%7D%2C%20%22properties%22%3A%20%7B%22cartodb_id%22%3A%2024%2C%20%22created_at%22%3A%20%222013-02-10T05%3A44%3A04.653000%2B00%3A00%22%2C%20%22geohash_list%22%3A%20%229q8zj%22%2C%20%22name%22%3A%20%22Presidio%22%2C%20%22updated_at%22%3A%20%222013-02-10T05%3A44%3A04.923000%2B00%3A00%22%7D%2C%20%22type%22%3A%20%22Feature%22%7D%2C%20%7B%22geometry%22%3A%20%7B%22coordinates%22%3A%20%5B%5B%5B-122.4755859375%2C%2037.7490234375%5D%2C%20%5B-122.431640625%2C%2037.7490234375%5D%2C%20%5B-122.431640625%2C%2037.79296875%5D%2C%20%5B-122.4755859375%2C%2037.79296875%5D%2C%20%5B-122.4755859375%2C%2037.7490234375%5D%5D%5D%2C%20%22type%22%3A%20%22Polygon%22%7D%2C%20%22properties%22%3A%20%7B%22cartodb_id%22%3A%2024%2C%20%22created_at%22%3A%20%222013-02-10T05%3A44%3A04.653000%2B00%3A00%22%2C%20%22geohash_list%22%3A%20%229q8yv%22%2C%20%22name%22%3A%20%22Presidio%22%2C%20%22updated_at%22%3A%20%222013-02-10T05%3A44%3A04.923000%2B00%3A00%22%7D%2C%20%22type%22%3A%20%22Feature%22%7D%2C%20%7B%22geometry%22%3A%20%7B%22coordinates%22%3A%20%5B%5B%5B-122.51953125%2C%2037.7490234375%5D%2C%20%5B-122.4755859375%2C%2037.7490234375%5D%2C%20%5B-122.4755859375%2C%2037.79296875%5D%2C%20%5B-122.51953125%2C%2037.79296875%5D%2C%20%5B-122.51953125%2C%2037.7490234375%5D%5D%5D%2C%20%22type%22%3A%20%22Polygon%22%7D%2C%20%22properties%22%3A%20%7B%22cartodb_id%22%3A%2024%2C%20%22created_at%22%3A%20%222013-02-10T05%3A44%3A04.653000%2B00%3A00%22%2C%20%22geohash_list%22%3A%20%229q8yu%22%2C%20%22name%22%3A%20%22Presidio%22%2C%20%22updated_at%22%3A%20%222013-02-10T05%3A44%3A04.923000%2B00%3A00%22%7D%2C%20%22type%22%3A%20%22Feature%22%7D%2C%20%7B%22geometry%22%3A%20%7B%22coordinates%22%3A%20%5B%5B%5B-122.4755859375%2C%2037.7490234375%5D%2C%20%5B-122.431640625%2C%2037.7490234375%5D%2C%20%5B-122.431640625%2C%2037.79296875%5D%2C%20%5B-122.4755859375%2C%2037.79296875%5D%2C%20%5B-122.4755859375%2C%2037.7490234375%5D%5D%5D%2C%20%22type%22%3A%20%22Polygon%22%7D%2C%20%22properties%22%3A%20%7B%22cartodb_id%22%3A%2033%2C%20%22created_at%22%3A%20%222013-02-10T05%3A44%3A04.653000%2B00%3A00%22%2C%20%22geohash_list%22%3A%20%229q8yv%22%2C%20%22name%22%3A%20%22Castro/Upper%20Market%22%2C%20%22updated_at%22%3A%20%222013-02-10T05%3A44%3A04.923000%2B00%3A00%22%7D%2C%20%22type%22%3A%20%22Feature%22%7D%2C%20%7B%22geometry%22%3A%20%7B%22coordinates%22%3A%20%5B%5B%5B-122.431640625%2C%2037.7490234375%5D%2C%20%5B-122.3876953125%2C%2037.7490234375%5D%2C%20%5B-122.3876953125%2C%2037.79296875%5D%2C%20%5B-122.431640625%2C%2037.79296875%5D%2C%20%5B-122.431640625%2C%2037.7490234375%5D%5D%5D%2C%20%22type%22%3A%20%22Polygon%22%7D%2C%20%22properties%22%3A%20%7B%22cartodb_id%22%3A%2033%2C%20%22created_at%22%3A%20%222013-02-10T05%3A44%3A04.653000%2B00%3A00%22%2C%20%22geohash_list%22%3A%20%229q8yy%22%2C%20%22name%22%3A%20%22Castro/Upper%20Market%22%2C%20%22updated_at%22%3A%20%222013-02-10T05%3A44%3A04.923000%2B00%3A00%22%7D%2C%20%22type%22%3A%20%22Feature%22%7D%2C%20%7B%22geometry%22%3A%20%7B%22coordinates%22%3A%20%5B%5B%5B-122.51953125%2C%2037.7490234375%5D%2C%20%5B-122.4755859375%2C%2037.7490234375%5D%2C%20%5B-122.4755859375%2C%2037.79296875%5D%2C%20%5B-122.51953125%2C%2037.79296875%5D%2C%20%5B-122.51953125%2C%2037.7490234375%5D%5D%5D%2C%20%22type%22%3A%20%22Polygon%22%7D%2C%20%22properties%22%3A%20%7B%22cartodb_id%22%3A%2026%2C%20%22created_at%22%3A%20%222013-02-10T05%3A44%3A04.653000%2B00%3A00%22%2C%20%22geohash_list%22%3A%20%229q8yu%22%2C%20%22name%22%3A%20%22Outer%20Sunset%22%2C%20%22updated_at%22%3A%20%222013-02-10T05%3A44%3A04.923000%2B00%3A00%22%7D%2C%20%22type%22%3A%20%22Feature%22%7D%2C%20%7B%22geometry%22%3A%20%7B%22coordinates%22%3A%20%5B%5B%5B-122.51953125%2C%2037.705078125%5D%2C%20%5B-122.4755859375%2C%2037.705078125%5D%2C%20%5B-122.4755859375%2C%2037.7490234375%5D%2C%20%5B-122.51953125%2C%2037.7490234375%5D%2C%20%5B-122.51953125%2C%2037.705078125%5D%5D%5D%2C%20%22type%22%3A%20%22Polygon%22%7D%2C%20%22properties%22%3A%20%7B%22cartodb_id%22%3A%2026%2C%20%22created_at%22%3A%20%222013-02-10T05%3A44%3A04.653000%2B00%3A00%22%2C%20%22geohash_list%22%3A%20%229q8ys%22%2C%20%22name%22%3A%20%22Outer%20Sunset%22%2C%20%22updated_at%22%3A%20%222013-02-10T05%3A44%3A04.923000%2B00%3A00%22%7D%2C%20%22type%22%3A%20%22Feature%22%7D%2C%20%7B%22geometry%22%3A%20%7B%22coordinates%22%3A%20%5B%5B%5B-122.431640625%2C%2037.705078125%5D%2C%20%5B-122.3876953125%2C%2037.705078125%5D%2C%20%5B-122.3876953125%2C%2037.7490234375%5D%2C%20%5B-122.431640625%2C%2037.7490234375%5D%2C%20%5B-122.431640625%2C%2037.705078125%5D%5D%5D%2C%20%22type%22%3A%20%22Polygon%22%7D%2C%20%22properties%22%3A%20%7B%22cartodb_id%22%3A%2031%2C%20%22created_at%22%3A%20%222013-02-10T05%3A44%3A04.653000%2B00%3A00%22%2C%20%22geohash_list%22%3A%20%229q8yw%22%2C%20%22name%22%3A%20%22Glen%20Park%22%2C%20%22updated_at%22%3A%20%222013-02-10T05%3A44%3A04.923000%2B00%3A00%22%7D%2C%20%22type%22%3A%20%22Feature%22%7D%2C%20%7B%22geometry%22%3A%20%7B%22coordinates%22%3A%20%5B%5B%5B-122.4755859375%2C%2037.705078125%5D%2C%20%5B-122.431640625%2C%2037.705078125%5D%2C%20%5B-122.431640625%2C%2037.7490234375%5D%2C%20%5B-122.4755859375%2C%2037.7490234375%5D%2C%20%5B-122.4755859375%2C%2037.705078125%5D%5D%5D%2C%20%22type%22%3A%20%22Polygon%22%7D%2C%20%22properties%22%3A%20%7B%22cartodb_id%22%3A%2031%2C%20%22created_at%22%3A%20%222013-02-10T05%3A44%3A04.653000%2B00%3A00%22%2C%20%22geohash_list%22%3A%20%229q8yt%22%2C%20%22name%22%3A%20%22Glen%20Park%22%2C%20%22updated_at%22%3A%20%222013-02-10T05%3A44%3A04.923000%2B00%3A00%22%7D%2C%20%22type%22%3A%20%22Feature%22%7D%5D%2C%20%22type%22%3A%20%22FeatureCollection%22%7D%29%3B%0A%0A%20%20%20%20%20%20%20%20%0A%3C/script%3E onload=\"this.contentDocument.open();this.contentDocument.write(    decodeURIComponent(this.getAttribute('data-html')));this.contentDocument.close();\" allowfullscreen webkitallowfullscreen mozallowfullscreen></iframe></div></div>"
      ],
      "text/plain": [
       "<folium.folium.Map at 0x7fddd8f91ac0>"
      ]
     },
     "execution_count": 2,
     "metadata": {},
     "output_type": "execute_result"
    }
   ],
   "source": [
    "import folium\n",
    "m = folium.Map([37.80, -112.26], zoom_start=12)\n",
    "folium.GeoJson(SanFranGrid, name=\"geojson\").add_to(m)\n",
    "m"
   ]
  },
  {
   "cell_type": "code",
   "execution_count": 3,
   "id": "effective-offer",
   "metadata": {
    "id": "effective-offer"
   },
   "outputs": [],
   "source": [
    "from shapely import wkt\n",
    "geo_df.to_csv(\"Tassellation.csv\") #solito problema per ordinare il geodataframe\n",
    "tasselation = pd.read_csv(\"./Tassellation.csv\")\n",
    "del tasselation[\"Unnamed: 0\"]\n",
    "tasselation['geometry'] = tasselation['geometry'].apply(wkt.loads)\n",
    "geo_tassellation = gpd.GeoDataFrame(\n",
    "    tasselation,geometry='geometry')"
   ]
  },
  {
   "cell_type": "code",
   "execution_count": 4,
   "id": "logical-paper",
   "metadata": {
    "id": "logical-paper"
   },
   "outputs": [],
   "source": [
    "new_geo = geo_tassellation.drop_duplicates(subset='geohash_list')"
   ]
  },
  {
   "cell_type": "code",
   "execution_count": 5,
   "id": "spiritual-controversy",
   "metadata": {
    "id": "spiritual-controversy"
   },
   "outputs": [],
   "source": [
    "new_geo = new_geo.reset_index()"
   ]
  },
  {
   "cell_type": "code",
   "execution_count": 6,
   "id": "large-township",
   "metadata": {
    "id": "large-township"
   },
   "outputs": [],
   "source": [
    "del new_geo['index']"
   ]
  },
  {
   "cell_type": "code",
   "execution_count": 7,
   "id": "constitutional-saint",
   "metadata": {
    "id": "constitutional-saint",
    "outputId": "ef4acfd7-c43d-4167-c8a2-fb39329291a2"
   },
   "outputs": [
    {
     "data": {
      "text/html": [
       "<div>\n",
       "<style scoped>\n",
       "    .dataframe tbody tr th:only-of-type {\n",
       "        vertical-align: middle;\n",
       "    }\n",
       "\n",
       "    .dataframe tbody tr th {\n",
       "        vertical-align: top;\n",
       "    }\n",
       "\n",
       "    .dataframe thead th {\n",
       "        text-align: right;\n",
       "    }\n",
       "</style>\n",
       "<table border=\"1\" class=\"dataframe\">\n",
       "  <thead>\n",
       "    <tr style=\"text-align: right;\">\n",
       "      <th></th>\n",
       "      <th>name</th>\n",
       "      <th>cartodb_id</th>\n",
       "      <th>created_at</th>\n",
       "      <th>updated_at</th>\n",
       "      <th>geohash_list</th>\n",
       "      <th>geometry</th>\n",
       "    </tr>\n",
       "  </thead>\n",
       "  <tbody>\n",
       "    <tr>\n",
       "      <th>0</th>\n",
       "      <td>Seacliff</td>\n",
       "      <td>1</td>\n",
       "      <td>2013-02-10T05:44:04.653000+00:00</td>\n",
       "      <td>2013-02-10T05:44:04.923000+00:00</td>\n",
       "      <td>9q8yu</td>\n",
       "      <td>POLYGON ((-122.51953 37.74902, -122.47559 37.7...</td>\n",
       "    </tr>\n",
       "    <tr>\n",
       "      <th>1</th>\n",
       "      <td>Marina</td>\n",
       "      <td>20</td>\n",
       "      <td>2013-02-10T05:44:04.653000+00:00</td>\n",
       "      <td>2013-02-10T05:44:04.923000+00:00</td>\n",
       "      <td>9q8zj</td>\n",
       "      <td>POLYGON ((-122.47559 37.79297, -122.43164 37.7...</td>\n",
       "    </tr>\n",
       "    <tr>\n",
       "      <th>2</th>\n",
       "      <td>Marina</td>\n",
       "      <td>20</td>\n",
       "      <td>2013-02-10T05:44:04.653000+00:00</td>\n",
       "      <td>2013-02-10T05:44:04.923000+00:00</td>\n",
       "      <td>9q8zn</td>\n",
       "      <td>POLYGON ((-122.43164 37.79297, -122.38770 37.7...</td>\n",
       "    </tr>\n",
       "    <tr>\n",
       "      <th>3</th>\n",
       "      <td>Pacific Heights</td>\n",
       "      <td>23</td>\n",
       "      <td>2013-02-10T05:44:04.653000+00:00</td>\n",
       "      <td>2013-02-10T05:44:04.923000+00:00</td>\n",
       "      <td>9q8yv</td>\n",
       "      <td>POLYGON ((-122.47559 37.74902, -122.43164 37.7...</td>\n",
       "    </tr>\n",
       "    <tr>\n",
       "      <th>4</th>\n",
       "      <td>Pacific Heights</td>\n",
       "      <td>23</td>\n",
       "      <td>2013-02-10T05:44:04.653000+00:00</td>\n",
       "      <td>2013-02-10T05:44:04.923000+00:00</td>\n",
       "      <td>9q8yy</td>\n",
       "      <td>POLYGON ((-122.43164 37.74902, -122.38770 37.7...</td>\n",
       "    </tr>\n",
       "    <tr>\n",
       "      <th>5</th>\n",
       "      <td>Excelsior</td>\n",
       "      <td>13</td>\n",
       "      <td>2013-02-10T05:44:04.653000+00:00</td>\n",
       "      <td>2013-02-10T05:44:04.923000+00:00</td>\n",
       "      <td>9q8yw</td>\n",
       "      <td>POLYGON ((-122.43164 37.70508, -122.38770 37.7...</td>\n",
       "    </tr>\n",
       "    <tr>\n",
       "      <th>6</th>\n",
       "      <td>Excelsior</td>\n",
       "      <td>13</td>\n",
       "      <td>2013-02-10T05:44:04.653000+00:00</td>\n",
       "      <td>2013-02-10T05:44:04.923000+00:00</td>\n",
       "      <td>9q8yt</td>\n",
       "      <td>POLYGON ((-122.47559 37.70508, -122.43164 37.7...</td>\n",
       "    </tr>\n",
       "    <tr>\n",
       "      <th>7</th>\n",
       "      <td>South of Market</td>\n",
       "      <td>30</td>\n",
       "      <td>2013-02-10T05:44:04.653000+00:00</td>\n",
       "      <td>2013-02-10T05:44:04.923000+00:00</td>\n",
       "      <td>9q8yz</td>\n",
       "      <td>POLYGON ((-122.38770 37.74902, -122.34375 37.7...</td>\n",
       "    </tr>\n",
       "    <tr>\n",
       "      <th>8</th>\n",
       "      <td>Bayview</td>\n",
       "      <td>21</td>\n",
       "      <td>2013-02-10T05:44:04.653000+00:00</td>\n",
       "      <td>2013-02-10T05:44:04.923000+00:00</td>\n",
       "      <td>9q8yx</td>\n",
       "      <td>POLYGON ((-122.38770 37.70508, -122.34375 37.7...</td>\n",
       "    </tr>\n",
       "    <tr>\n",
       "      <th>9</th>\n",
       "      <td>Inner Sunset</td>\n",
       "      <td>6</td>\n",
       "      <td>2013-02-10T05:44:04.653000+00:00</td>\n",
       "      <td>2013-02-10T05:44:04.923000+00:00</td>\n",
       "      <td>9q8ys</td>\n",
       "      <td>POLYGON ((-122.51953 37.70508, -122.47559 37.7...</td>\n",
       "    </tr>\n",
       "    <tr>\n",
       "      <th>10</th>\n",
       "      <td>Treasure Island/YBI</td>\n",
       "      <td>9</td>\n",
       "      <td>2013-02-10T05:44:04.653000+00:00</td>\n",
       "      <td>2013-02-10T05:44:04.923000+00:00</td>\n",
       "      <td>9q8zp</td>\n",
       "      <td>POLYGON ((-122.38770 37.79297, -122.34375 37.7...</td>\n",
       "    </tr>\n",
       "    <tr>\n",
       "      <th>11</th>\n",
       "      <td>Presidio</td>\n",
       "      <td>24</td>\n",
       "      <td>2013-02-10T05:44:04.653000+00:00</td>\n",
       "      <td>2013-02-10T05:44:04.923000+00:00</td>\n",
       "      <td>9q8zh</td>\n",
       "      <td>POLYGON ((-122.51953 37.79297, -122.47559 37.7...</td>\n",
       "    </tr>\n",
       "  </tbody>\n",
       "</table>\n",
       "</div>"
      ],
      "text/plain": [
       "                   name  cartodb_id                        created_at  \\\n",
       "0              Seacliff           1  2013-02-10T05:44:04.653000+00:00   \n",
       "1                Marina          20  2013-02-10T05:44:04.653000+00:00   \n",
       "2                Marina          20  2013-02-10T05:44:04.653000+00:00   \n",
       "3       Pacific Heights          23  2013-02-10T05:44:04.653000+00:00   \n",
       "4       Pacific Heights          23  2013-02-10T05:44:04.653000+00:00   \n",
       "5             Excelsior          13  2013-02-10T05:44:04.653000+00:00   \n",
       "6             Excelsior          13  2013-02-10T05:44:04.653000+00:00   \n",
       "7       South of Market          30  2013-02-10T05:44:04.653000+00:00   \n",
       "8               Bayview          21  2013-02-10T05:44:04.653000+00:00   \n",
       "9          Inner Sunset           6  2013-02-10T05:44:04.653000+00:00   \n",
       "10  Treasure Island/YBI           9  2013-02-10T05:44:04.653000+00:00   \n",
       "11             Presidio          24  2013-02-10T05:44:04.653000+00:00   \n",
       "\n",
       "                          updated_at geohash_list  \\\n",
       "0   2013-02-10T05:44:04.923000+00:00        9q8yu   \n",
       "1   2013-02-10T05:44:04.923000+00:00        9q8zj   \n",
       "2   2013-02-10T05:44:04.923000+00:00        9q8zn   \n",
       "3   2013-02-10T05:44:04.923000+00:00        9q8yv   \n",
       "4   2013-02-10T05:44:04.923000+00:00        9q8yy   \n",
       "5   2013-02-10T05:44:04.923000+00:00        9q8yw   \n",
       "6   2013-02-10T05:44:04.923000+00:00        9q8yt   \n",
       "7   2013-02-10T05:44:04.923000+00:00        9q8yz   \n",
       "8   2013-02-10T05:44:04.923000+00:00        9q8yx   \n",
       "9   2013-02-10T05:44:04.923000+00:00        9q8ys   \n",
       "10  2013-02-10T05:44:04.923000+00:00        9q8zp   \n",
       "11  2013-02-10T05:44:04.923000+00:00        9q8zh   \n",
       "\n",
       "                                             geometry  \n",
       "0   POLYGON ((-122.51953 37.74902, -122.47559 37.7...  \n",
       "1   POLYGON ((-122.47559 37.79297, -122.43164 37.7...  \n",
       "2   POLYGON ((-122.43164 37.79297, -122.38770 37.7...  \n",
       "3   POLYGON ((-122.47559 37.74902, -122.43164 37.7...  \n",
       "4   POLYGON ((-122.43164 37.74902, -122.38770 37.7...  \n",
       "5   POLYGON ((-122.43164 37.70508, -122.38770 37.7...  \n",
       "6   POLYGON ((-122.47559 37.70508, -122.43164 37.7...  \n",
       "7   POLYGON ((-122.38770 37.74902, -122.34375 37.7...  \n",
       "8   POLYGON ((-122.38770 37.70508, -122.34375 37.7...  \n",
       "9   POLYGON ((-122.51953 37.70508, -122.47559 37.7...  \n",
       "10  POLYGON ((-122.38770 37.79297, -122.34375 37.7...  \n",
       "11  POLYGON ((-122.51953 37.79297, -122.47559 37.7...  "
      ]
     },
     "execution_count": 7,
     "metadata": {},
     "output_type": "execute_result"
    }
   ],
   "source": [
    "new_geo"
   ]
  },
  {
   "cell_type": "code",
   "execution_count": 8,
   "id": "improved-bracelet",
   "metadata": {
    "id": "improved-bracelet"
   },
   "outputs": [],
   "source": [
    "gdf = gpd.read_file('./prova.geojson')\n",
    "primary_df = polygeohasher.create_geohash_list(gdf,6,inner=False)\n",
    "geo_df = polygeohasher.geohashes_to_geometry(primary_df,\"geohash_list\")\n",
    "geo_df.to_file(\"SanFranciscoGrid.geojson\",driver = \"GeoJSON\")\n",
    "SanFranGrid = json.load(open('SanFranciscoGrid.geojson','r'))"
   ]
  },
  {
   "cell_type": "code",
   "execution_count": 9,
   "id": "original-lover",
   "metadata": {
    "id": "original-lover"
   },
   "outputs": [],
   "source": [
    "geo_df.to_csv(\"Tassellation.csv\") #solito problema per ordinare il geodataframe\n",
    "tasselation = pd.read_csv(\"./Tassellation.csv\")\n",
    "del tasselation[\"Unnamed: 0\"]\n",
    "tasselation['geometry'] = tasselation['geometry'].apply(wkt.loads)\n",
    "geo_tassellation = gpd.GeoDataFrame(\n",
    "    tasselation,geometry='geometry')"
   ]
  },
  {
   "cell_type": "code",
   "execution_count": 10,
   "id": "manufactured-modification",
   "metadata": {
    "id": "manufactured-modification"
   },
   "outputs": [],
   "source": [
    "sixGeo = geo_tassellation.drop_duplicates(subset='geohash_list')"
   ]
  },
  {
   "cell_type": "code",
   "execution_count": 11,
   "id": "arctic-dining",
   "metadata": {
    "id": "arctic-dining"
   },
   "outputs": [],
   "source": [
    "sixGeo = sixGeo.reset_index()"
   ]
  },
  {
   "cell_type": "code",
   "execution_count": 12,
   "id": "medieval-universe",
   "metadata": {
    "id": "medieval-universe"
   },
   "outputs": [],
   "source": [
    "del sixGeo['index']"
   ]
  },
  {
   "cell_type": "code",
   "execution_count": 17,
   "id": "electric-magic",
   "metadata": {
    "id": "electric-magic"
   },
   "outputs": [],
   "source": [
    "i = 0\n",
    "areaLen = len(allArea['geohash_list'])\n",
    "sixLen= len(sixGeo['geohash_list'])\n",
    "result =[]\n",
    "\n",
    "while(i<areaLen):\n",
    "    j=0\n",
    "    find = 0\n",
    "    while(j<sixLen and find !=1 ):\n",
    "        if(sixGeo['geohash_list'][j]==allArea['geohash_list'][i]):\n",
    "            result.append(sixGeo['geometry'][j])\n",
    "            find = 1\n",
    "        else:    \n",
    "            j=j+1  \n",
    "    i=i+1"
   ]
  },
  {
   "cell_type": "code",
   "execution_count": 18,
   "id": "immune-lafayette",
   "metadata": {
    "id": "immune-lafayette"
   },
   "outputs": [],
   "source": [
    "allArea['geometry'] = result"
   ]
  },
  {
   "cell_type": "code",
   "execution_count": 19,
   "id": "helpful-palestine",
   "metadata": {
    "id": "helpful-palestine"
   },
   "outputs": [],
   "source": [
    "from shapely.geometry import Point, Polygon\n",
    "def checkPolygon(allArea,new_geo):\n",
    "    i = 0\n",
    "    find = 0\n",
    "    result = []\n",
    "    areaLen = len(allArea['geohash_list'])\n",
    "    geoLen = len(new_geo['geohash_list'])\n",
    "    while(i<areaLen):\n",
    "        if(allArea['geometry'][i].within(new_geo['geometry'][0])):\n",
    "            result.append('OVEST')\n",
    "        elif(allArea['geometry'][i].within(new_geo['geometry'][1])):\n",
    "            result.append('NORD')\n",
    "        elif(allArea['geometry'][i].within(new_geo['geometry'][2])):\n",
    "            result.append('NORD')\n",
    "        elif(allArea['geometry'][i].within(new_geo['geometry'][3])):\n",
    "            result.append('NORD-SUD')\n",
    "        elif(allArea['geometry'][i].within(new_geo['geometry'][4])):\n",
    "            result.append('NORD-SUD')\n",
    "        elif(allArea['geometry'][i].within(new_geo['geometry'][5])):\n",
    "            result.append('SUD')\n",
    "        elif(allArea['geometry'][i].within(new_geo['geometry'][6])):\n",
    "            result.append('SUD')\n",
    "        elif(allArea['geometry'][i].within(new_geo['geometry'][7])):\n",
    "            result.append('EST')\n",
    "        elif(allArea['geometry'][i].within(new_geo['geometry'][8])):\n",
    "            result.append('SUD-EST')\n",
    "        elif(allArea['geometry'][i].within(new_geo['geometry'][9])):\n",
    "            result.append('SUD-OVEST')\n",
    "        elif(allArea['geometry'][i].within(new_geo['geometry'][10])):\n",
    "            result.append('NORD-EST')\n",
    "        elif(allArea['geometry'][i].within(new_geo['geometry'][11])):\n",
    "            result.append('NORD-OVEST')\n",
    "        i=i+1\n",
    "    return result"
   ]
  },
  {
   "cell_type": "code",
   "execution_count": 20,
   "id": "polish-share",
   "metadata": {
    "id": "polish-share"
   },
   "outputs": [],
   "source": [
    "result = checkPolygon(allArea,new_geo)"
   ]
  },
  {
   "cell_type": "code",
   "execution_count": 21,
   "id": "loaded-strip",
   "metadata": {
    "id": "loaded-strip"
   },
   "outputs": [],
   "source": [
    "allArea['Direction'] = result"
   ]
  },
  {
   "cell_type": "code",
   "execution_count": 3,
   "id": "decimal-learning",
   "metadata": {},
   "outputs": [],
   "source": [
    "import pandas as pd\n",
    "df2Centro = pd.read_csv('./../San-Francisco/TransferLearning/dfCentroSanFran.csv')\n",
    "df2Nord = pd.read_csv('./../San-Francisco/TransferLearning/dfNordSanFran.csv')\n",
    "df2Sud = pd.read_csv('./../San-Francisco/TransferLearning/dfSudSaFran.csv')\n",
    "\n",
    "\n",
    "del df2Centro['Unnamed: 0']\n",
    "del df2Sud['Unnamed: 0']\n",
    "del df2Nord['Unnamed: 0']\n"
   ]
  },
  {
   "cell_type": "markdown",
   "id": "remarkable-poison",
   "metadata": {
    "id": "remarkable-poison"
   },
   "source": [
    "# Training & test con Ovest e Sud"
   ]
  },
  {
   "cell_type": "code",
   "execution_count": 22,
   "id": "every-sunrise",
   "metadata": {
    "id": "every-sunrise"
   },
   "outputs": [],
   "source": [
    "#devo creare rispettivamente le tabelle sia per ovest che per sud\n",
    "def createTable(allArea):\n",
    "    i = 0\n",
    "    idPartenza = []\n",
    "    idArrivo = []\n",
    "    allAreaLen = len(allArea['geohash_list'])\n",
    "    while(i<allAreaLen):\n",
    "        j=0\n",
    "        while(j<allAreaLen):\n",
    "            idPartenza.append(allArea['geohash_list'][i])\n",
    "            idArrivo.append(allArea['geohash_list'][j])\n",
    "            j=j+1\n",
    "        i=i+1\n",
    "    df = pd.DataFrame()\n",
    "    df['IdPartenza'] = idPartenza\n",
    "    df['IdArrivo'] = idArrivo\n",
    "    return df"
   ]
  },
  {
   "cell_type": "code",
   "execution_count": 23,
   "id": "preliminary-verification",
   "metadata": {
    "id": "preliminary-verification"
   },
   "outputs": [],
   "source": [
    "def y(df1,allStart):\n",
    "    i = 0\n",
    "    result = []\n",
    "    alldf1Len = len(df1['IdArrivo'])\n",
    "    while(i<alldf1Len):\n",
    "        areaPartenza = allStart[allStart.geohash_area == df1['IdPartenza'][i]]\n",
    "        areaPartenza1 = areaPartenza[areaPartenza.end == df1['IdArrivo'][i]]\n",
    "\n",
    "        result.append(len(areaPartenza1))\n",
    "\n",
    "        i=i+1\n",
    "    return result"
   ]
  },
  {
   "cell_type": "code",
   "execution_count": 24,
   "id": "sublime-belfast",
   "metadata": {
    "id": "sublime-belfast"
   },
   "outputs": [],
   "source": [
    "def createSet(allArea):\n",
    "    i = 0\n",
    "    StartingVehicleA = []\n",
    "    EndingVehicles =[]\n",
    "    TotNumberRecordVehicles =[]\n",
    "    maxSpeed_km =[]\n",
    "    AverageSpeed =[]\n",
    "    OutEdges =[]\n",
    "    InEdges =[]\n",
    "    VehiclesNight =[]\n",
    "    VehiclesMorning =[]\n",
    "    VehiclesAfternoon =[]\n",
    "    VehiclesEvening =[]\n",
    "    Density_n =[]\n",
    "    AccelarationMax =[]\n",
    "    AverageAcceleration =[]\n",
    "    NumberTotalPointInterest =[]\n",
    "    NumberCulturalPoint =[]\n",
    "    NumberFinancePoint =[]\n",
    "    NumberHealthPoint =[]\n",
    "    NumberTrasportationPoint =[]\n",
    "    NumberEducationPoint = []\n",
    "    NumberEnterteimentPoint = []\n",
    "    RecordWeekend =[]\n",
    "    RecordWeek =[]\n",
    "\n",
    "    StartingVehicleB = []\n",
    "    EndingVehiclesB =[]\n",
    "    TotNumberRecordVehiclesB =[]\n",
    "    maxSpeed_kmB =[]\n",
    "    AverageSpeedB =[]\n",
    "    OutEdgesB =[]\n",
    "    InEdgesB =[]\n",
    "    VehiclesNightB =[]\n",
    "    VehiclesMorningB =[]\n",
    "    VehiclesAfternoonB =[]\n",
    "    VehiclesEveningB =[]\n",
    "    Density_nB =[]\n",
    "    AccelarationMaxB =[]\n",
    "    AverageAcceleration_mB =[]\n",
    "    NumberTotalPointInterestB =[]\n",
    "    NumberCulturalPointB =[]\n",
    "    NumberFinancePointB =[]\n",
    "    NumberHealthPointB =[]\n",
    "    NumberTrasportationPointB =[]\n",
    "    NumberEducationPointB =[]\n",
    "    NumberEnterteimentPointB =[]\n",
    "    RecordWeekendB =[]\n",
    "    RecordWeekB =[]\n",
    "\n",
    "\n",
    "    allAreaLen = len(allArea['geohash_list'])\n",
    "    while(i<allAreaLen):\n",
    "        j=0\n",
    "        while(j<allAreaLen):\n",
    "\n",
    "            StartingVehicleA.append(allArea['StartingVehicles'][i])\n",
    "            EndingVehicles.append(allArea['EndingVehicles'][i])\n",
    "            TotNumberRecordVehicles.append(allArea['TotNumberRecordVehicles'][i])\n",
    "            maxSpeed_km.append(allArea['maxSpeed_km/h'][i])\n",
    "            AverageSpeed.append(allArea['AverageSpeed'][i])\n",
    "            OutEdges.append(allArea['OutEdges'][i])\n",
    "            InEdges.append(allArea['InEdges'][i])\n",
    "            VehiclesNight.append(allArea['VehiclesNight(24-5 am)'][i])\n",
    "            VehiclesMorning.append(allArea['VehiclesMorning(6-12 am)'][i])\n",
    "            VehiclesAfternoon.append(allArea['VehiclesAfternoon(13-18 pm)'][i])\n",
    "            VehiclesEvening.append(allArea['VehiclesEvening(19-23 pm)'][i])\n",
    "            Density_n.append(allArea['Density_n/km^2'][i])\n",
    "            AccelarationMax.append(allArea['AccelarationMax'][i])\n",
    "            AverageAcceleration.append(allArea['AverageAcceleration_m/s^2'][i])\n",
    "            NumberTotalPointInterest.append(allArea['NumberTotalPointInterest'][i])\n",
    "            NumberCulturalPoint.append(allArea['NumberCulturalPoint(\"Museum-Attraction-Ruins\")'][i])\n",
    "            NumberEducationPoint.append(allArea['NumberEducationPoint(\"University-Library\")'][i])\n",
    "            NumberEnterteimentPoint.append(allArea['NumberEnterteimentPoint(\"Cinema-Theatre-Zoo-Stadium-SwimmingPool\")'][i])\n",
    "            NumberFinancePoint.append(allArea['NumberFinancePoint(\"Bank-Company\")'][i])\n",
    "            NumberHealthPoint.append(allArea['NumberHealthPoint(\"Hospital-Dentist-Pharmacy\")'][i])\n",
    "            NumberTrasportationPoint.append(allArea['NumberTrasportationPoint(\"Fuel-BusStation-TaxiStop\")'][i])\n",
    "            RecordWeekend.append(allArea['RecordWeekend'][i])\n",
    "            RecordWeek.append(allArea['RecordWeek'][i])\n",
    "\n",
    "\n",
    "\n",
    "\n",
    "\n",
    "\n",
    "            #B\n",
    "\n",
    "\n",
    "            StartingVehicleB.append(allArea['StartingVehicles'][j])\n",
    "            EndingVehiclesB.append(allArea['EndingVehicles'][j])\n",
    "            TotNumberRecordVehiclesB.append(allArea['TotNumberRecordVehicles'][j])\n",
    "            maxSpeed_kmB.append(allArea['maxSpeed_km/h'][j])\n",
    "            AverageSpeedB.append(allArea['AverageSpeed'][j])\n",
    "            OutEdgesB.append(allArea['OutEdges'][j])\n",
    "            InEdgesB.append(allArea['InEdges'][j])\n",
    "            VehiclesNightB.append(allArea['VehiclesNight(24-5 am)'][j])\n",
    "            VehiclesMorningB.append(allArea['VehiclesMorning(6-12 am)'][j])\n",
    "            VehiclesAfternoonB.append(allArea['VehiclesAfternoon(13-18 pm)'][j])\n",
    "            VehiclesEveningB.append(allArea['VehiclesEvening(19-23 pm)'][j])\n",
    "            Density_nB.append(allArea['Density_n/km^2'][j])\n",
    "            AccelarationMaxB.append(allArea['AccelarationMax'][j])\n",
    "            AverageAcceleration_mB.append(allArea['AverageAcceleration_m/s^2'][j])\n",
    "            NumberTotalPointInterestB.append(allArea['NumberTotalPointInterest'][j])\n",
    "            NumberCulturalPointB.append(allArea['NumberCulturalPoint(\"Museum-Attraction-Ruins\")'][j])\n",
    "            NumberEducationPointB.append(allArea['NumberEducationPoint(\"University-Library\")'][j])\n",
    "            NumberEnterteimentPointB.append(allArea['NumberEnterteimentPoint(\"Cinema-Theatre-Zoo-Stadium-SwimmingPool\")'][j])\n",
    "            NumberFinancePointB.append(allArea['NumberFinancePoint(\"Bank-Company\")'][j])\n",
    "            NumberHealthPointB.append(allArea['NumberHealthPoint(\"Hospital-Dentist-Pharmacy\")'][j])\n",
    "            NumberTrasportationPointB.append(allArea['NumberTrasportationPoint(\"Fuel-BusStation-TaxiStop\")'][j])\n",
    "            RecordWeekendB.append(allArea['RecordWeekend'][j])\n",
    "            RecordWeekB.append(allArea['RecordWeek'][j])\n",
    "\n",
    "\n",
    "\n",
    "\n",
    "            j=j+1\n",
    "        i=i+1\n",
    "    df2 = pd.DataFrame()\n",
    "    df2['StartingVehiclesA'] = StartingVehicleA\n",
    "    df2['EndingVehiclesA'] = EndingVehicles\n",
    "    df2['TotNumberRecordVehiclesA'] = TotNumberRecordVehicles\n",
    "    df2['maxSpeedKm/hA'] = maxSpeed_km\n",
    "    df2['AverageSpeedA'] = AverageSpeed\n",
    "    df2['OutEdgesA'] =OutEdges\n",
    "    df2['InEdgesA'] =InEdges\n",
    "    df2['VehiclesNightA'] = VehiclesNight\n",
    "    df2['VehiclesMorningA'] =VehiclesMorning\n",
    "    df2['VehiclesAfternoonA'] = VehiclesAfternoon\n",
    "    df2['VehiclesEveningA'] =VehiclesEvening\n",
    "    df2['Density_n/km^2A'] =Density_n\n",
    "    df2['AccelerationMaxA'] = AccelarationMax\n",
    "    df2['AverageAccelerationA'] = AverageAcceleration\n",
    "    df2['NumberTotalPointInterestA'] = NumberTotalPointInterest\n",
    "    df2['NumberCulturalPointA'] = NumberCulturalPoint\n",
    "    df2['NumberEducationPointA']= NumberEducationPoint\n",
    "    df2['NumberEnterteimentPointA'] = NumberEnterteimentPoint\n",
    "    df2['NumberFinancePointA'] = NumberFinancePoint\n",
    "    df2['NumberHealthPointA'] = NumberHealthPoint\n",
    "    df2['NumberTrasportationPointA'] = NumberTrasportationPoint\n",
    "    df2['RecordWeekendA'] = RecordWeekend\n",
    "    df2['RecordWeekA'] = RecordWeek\n",
    "\n",
    "\n",
    "    #B\n",
    "\n",
    "    df2['StartingVehiclesB'] = StartingVehicleB\n",
    "    df2['EndingVehiclesB'] = EndingVehiclesB\n",
    "    df2['TotNumberRecordVehiclesB'] = TotNumberRecordVehiclesB\n",
    "    df2['maxSpeedKm/hB'] = maxSpeed_kmB\n",
    "    df2['AverageSpeedB'] = AverageSpeedB\n",
    "    df2['OutEdgesB'] =OutEdgesB\n",
    "    df2['InEdgesB'] =InEdgesB\n",
    "    df2['VehiclesNightB'] = VehiclesNightB\n",
    "    df2['VehiclesMorningB'] =VehiclesMorningB\n",
    "    df2['VehiclesAfternoonB'] = VehiclesAfternoonB\n",
    "    df2['VehiclesEveningB'] =VehiclesEveningB\n",
    "    df2['Density_n/km^2B'] =Density_nB\n",
    "    df2['AccelerationMaxB'] = AccelarationMaxB\n",
    "    df2['AverageAccelerationB'] = AverageAcceleration_mB\n",
    "    df2['NumberTotalPointInterestB'] = NumberTotalPointInterestB\n",
    "    df2['NumberCulturalPointB'] = NumberCulturalPointB\n",
    "    df2['NumberEducationPointB'] = NumberEducationPointB\n",
    "    df2['NumberEnterteimentPointB'] = NumberEnterteimentPointB\n",
    "    df2['NumberFinancePointB'] = NumberFinancePointB\n",
    "    df2['NumberHealthPointB'] = NumberHealthPointB\n",
    "    df2['NumberTrasportationPointB'] = NumberTrasportationPointB\n",
    "    df2['RecordWeekendB'] = RecordWeekendB\n",
    "    df2['RecordWeekB'] = RecordWeekB\n",
    "    \n",
    "    return df2"
   ]
  },
  {
   "cell_type": "code",
   "execution_count": 25,
   "id": "better-efficiency",
   "metadata": {
    "id": "better-efficiency"
   },
   "outputs": [],
   "source": [
    "#creazione dataframe solo Ovest\n",
    "ovestGeoData = allArea[allArea.Direction == 'OVEST']\n",
    "ovestGeoData = ovestGeoData.reset_index()\n",
    "del ovestGeoData['index']"
   ]
  },
  {
   "cell_type": "code",
   "execution_count": 26,
   "id": "antique-sapphire",
   "metadata": {
    "id": "antique-sapphire"
   },
   "outputs": [],
   "source": [
    "sudGeoData = allArea[allArea.Direction == 'SUD']\n",
    "sudGeoData = sudGeoData.reset_index()\n",
    "del sudGeoData['index']"
   ]
  },
  {
   "cell_type": "code",
   "execution_count": 27,
   "id": "rising-newark",
   "metadata": {
    "id": "rising-newark"
   },
   "outputs": [],
   "source": [
    "dfOvest = createTable(ovestGeoData)"
   ]
  },
  {
   "cell_type": "code",
   "execution_count": 28,
   "id": "express-virus",
   "metadata": {
    "id": "express-virus"
   },
   "outputs": [],
   "source": [
    "dfSud = createTable(sudGeoData)"
   ]
  },
  {
   "cell_type": "code",
   "execution_count": 29,
   "id": "electronic-vitamin",
   "metadata": {
    "id": "electronic-vitamin"
   },
   "outputs": [],
   "source": [
    "yOvest = y(dfOvest,allStart)\n"
   ]
  },
  {
   "cell_type": "code",
   "execution_count": 30,
   "id": "growing-clone",
   "metadata": {
    "id": "growing-clone"
   },
   "outputs": [],
   "source": [
    "ySud = y(dfSud,allStart)"
   ]
  },
  {
   "cell_type": "code",
   "execution_count": 31,
   "id": "drawn-confidence",
   "metadata": {
    "id": "drawn-confidence"
   },
   "outputs": [],
   "source": [
    "df2Ovest = createSet(ovestGeoData)\n"
   ]
  },
  {
   "cell_type": "code",
   "execution_count": 32,
   "id": "stable-affiliate",
   "metadata": {
    "id": "stable-affiliate"
   },
   "outputs": [],
   "source": [
    "df2Sud = createSet(sudGeoData)"
   ]
  },
  {
   "cell_type": "code",
   "execution_count": 33,
   "id": "incorporate-archives",
   "metadata": {
    "id": "incorporate-archives"
   },
   "outputs": [],
   "source": [
    "df2Ovest['y'] = yOvest\n"
   ]
  },
  {
   "cell_type": "code",
   "execution_count": 34,
   "id": "incomplete-solid",
   "metadata": {
    "id": "incomplete-solid"
   },
   "outputs": [],
   "source": [
    "df2Sud['y'] = ySud"
   ]
  },
  {
   "cell_type": "markdown",
   "id": "communist-contrary",
   "metadata": {
    "id": "communist-contrary"
   },
   "source": [
    "# Train&Test "
   ]
  },
  {
   "cell_type": "code",
   "execution_count": 78,
   "id": "cognitive-divorce",
   "metadata": {
    "id": "cognitive-divorce"
   },
   "outputs": [],
   "source": [
    "#divido il dataframe in train e test\n",
    "from sklearn.model_selection import train_test_split"
   ]
  },
  {
   "cell_type": "code",
   "execution_count": 79,
   "id": "alike-jersey",
   "metadata": {
    "id": "alike-jersey"
   },
   "outputs": [],
   "source": [
    "#La Parte di train la effettuo su Ovest quella di test su Sud\n",
    "class_name = 'y'\n",
    "\n",
    "attributes = [col for col in df2Sud.columns if col != class_name]\n",
    "X = df2Sud[attributes].values\n",
    "y=df2Sud[class_name]\n",
    "\n",
    "\n",
    "X1 = df2Ovest[attributes].values\n",
    "y1=df2Ovest[class_name]"
   ]
  },
  {
   "cell_type": "code",
   "execution_count": 80,
   "id": "national-therapist",
   "metadata": {
    "id": "national-therapist"
   },
   "outputs": [],
   "source": [
    "X_train = X\n",
    "y_train = y\n",
    "\n",
    "X_test = X1\n",
    "y_test = y1"
   ]
  },
  {
   "cell_type": "code",
   "execution_count": 81,
   "id": "alleged-fountain",
   "metadata": {
    "id": "alleged-fountain"
   },
   "outputs": [],
   "source": [
    "from sklearn.preprocessing import MinMaxScaler, StandardScaler\n",
    "scaler = StandardScaler()\n",
    "\n",
    "\n",
    "X_train_s = scaler.fit_transform(X_train)\n",
    "\n",
    "X_test_s=scaler.transform(X_test)"
   ]
  },
  {
   "cell_type": "markdown",
   "id": "afraid-weapon",
   "metadata": {
    "id": "afraid-weapon"
   },
   "source": [
    "# KNN (Sud vs Ovest)"
   ]
  },
  {
   "cell_type": "code",
   "execution_count": 7,
   "id": "useful-farmer",
   "metadata": {
    "id": "useful-farmer"
   },
   "outputs": [],
   "source": [
    "from sklearn.neighbors import KNeighborsClassifier, KNeighborsRegressor\n",
    "from sklearn.metrics import r2_score, mean_absolute_error, mean_squared_error"
   ]
  },
  {
   "cell_type": "code",
   "execution_count": 85,
   "id": "united-glance",
   "metadata": {
    "id": "united-glance"
   },
   "outputs": [],
   "source": [
    "errorR2 = []\n",
    "errorMSE =[]\n",
    "errorMAE = []\n",
    "for k in range(1,50):\n",
    "    knn = KNeighborsRegressor(n_neighbors=k)\n",
    "    knn.fit(X_train_s,y_train)\n",
    "    y_pred = knn.predict(X_test_s)\n",
    "    errorR2.append(r2_score(y_test,y_pred))\n",
    "    errorMAE.append(mean_absolute_error(y_test,y_pred))\n",
    "    errorMSE.append(mean_squared_error(y_test,y_pred))"
   ]
  },
  {
   "cell_type": "code",
   "execution_count": 87,
   "id": "banned-horizontal",
   "metadata": {
    "id": "banned-horizontal",
    "outputId": "b0255262-775f-4da5-913a-e013594f9d57"
   },
   "outputs": [
    {
     "data": {
      "text/plain": [
       "[<matplotlib.lines.Line2D at 0x7effa2bd26a0>]"
      ]
     },
     "execution_count": 87,
     "metadata": {},
     "output_type": "execute_result"
    },
    {
     "data": {
      "image/png": "[encoded data removed]",
      "text/plain": [
       "<Figure size 720x720 with 1 Axes>"
      ]
     },
     "metadata": {
      "needs_background": "light"
     },
     "output_type": "display_data"
    }
   ],
   "source": [
    "import matplotlib.pyplot as plt\n",
    "\n",
    "plt.rcParams[\"figure.figsize\"] = (10, 10)\n",
    "plt.plot(range(1,50),errorMAE,'bo')\n",
    "plt.plot(range(1,50),errorMSE,'go')\n",
    "plt.plot(range(1,50),errorR2,'ro')"
   ]
  },
  {
   "cell_type": "markdown",
   "id": "ceramic-numbers",
   "metadata": {
    "id": "ceramic-numbers"
   },
   "source": [
    "# NORD VS SUD"
   ]
  },
  {
   "cell_type": "code",
   "execution_count": 35,
   "id": "quarterly-closure",
   "metadata": {
    "id": "quarterly-closure"
   },
   "outputs": [],
   "source": [
    "#devo creare il dataframe del nord\n",
    "nordGeoData = allArea[allArea.Direction == 'NORD']\n",
    "nordGeoData = nordGeoData.reset_index()\n",
    "del nordGeoData['index']"
   ]
  },
  {
   "cell_type": "code",
   "execution_count": 36,
   "id": "fixed-camping",
   "metadata": {
    "id": "fixed-camping"
   },
   "outputs": [],
   "source": [
    "dfNord= createTable(nordGeoData)"
   ]
  },
  {
   "cell_type": "code",
   "execution_count": 37,
   "id": "accompanied-qatar",
   "metadata": {
    "id": "accompanied-qatar",
    "scrolled": true
   },
   "outputs": [],
   "source": [
    "yNord = y(dfNord,allStart)"
   ]
  },
  {
   "cell_type": "code",
   "execution_count": 38,
   "id": "unlike-terrace",
   "metadata": {
    "id": "unlike-terrace"
   },
   "outputs": [],
   "source": [
    "df2Nord = createSet(nordGeoData)"
   ]
  },
  {
   "cell_type": "code",
   "execution_count": 39,
   "id": "concrete-glucose",
   "metadata": {
    "id": "concrete-glucose"
   },
   "outputs": [],
   "source": [
    "df2Nord['y'] = yNord"
   ]
  },
  {
   "cell_type": "code",
   "execution_count": 95,
   "id": "criminal-leonard",
   "metadata": {
    "id": "criminal-leonard"
   },
   "outputs": [],
   "source": [
    "df2Nord[attributes] = df2Nord[attributes].fillna(0)"
   ]
  },
  {
   "cell_type": "markdown",
   "id": "confidential-venice",
   "metadata": {
    "id": "confidential-venice"
   },
   "source": [
    "# Training & test split (Nord vs Sud)"
   ]
  },
  {
   "cell_type": "code",
   "execution_count": 4,
   "id": "weird-rabbit",
   "metadata": {
    "id": "weird-rabbit"
   },
   "outputs": [],
   "source": [
    "class_name = 'y'\n",
    "\n",
    "attributes = [col for col in df2Nord.columns if col != class_name]\n",
    "X = df2Nord[attributes].values\n",
    "y=df2Nord[class_name]\n",
    "\n",
    "\n",
    "X1 = df2Sud[attributes].values\n",
    "y1=df2Sud[class_name]"
   ]
  },
  {
   "cell_type": "code",
   "execution_count": 28,
   "id": "controlling-minute",
   "metadata": {
    "id": "controlling-minute"
   },
   "outputs": [],
   "source": [
    "X_train = X\n",
    "y_train = y\n",
    "\n",
    "X_test = X1\n",
    "y_test = y1"
   ]
  },
  {
   "cell_type": "code",
   "execution_count": 29,
   "id": "sitting-gross",
   "metadata": {
    "id": "sitting-gross"
   },
   "outputs": [],
   "source": [
    "from sklearn.preprocessing import MinMaxScaler, StandardScaler\n",
    "\n",
    "scaler = StandardScaler()\n",
    "\n",
    "\n",
    "X_train_s = scaler.fit_transform(X_train)\n",
    "\n",
    "X_test_s=scaler.transform(X_test)"
   ]
  },
  {
   "cell_type": "code",
   "execution_count": 30,
   "id": "infrared-healing",
   "metadata": {},
   "outputs": [
    {
     "name": "stdout",
     "output_type": "stream",
     "text": [
      "R2: -0.000\n",
      "MSE: 6800.002\n",
      "MAE: 2.051\n"
     ]
    }
   ],
   "source": [
    "knn = KNeighborsRegressor(n_neighbors=18,algorithm='kd_tree')\n",
    "knn.fit(X_train_s,y_train)\n",
    "y_pred = knn.predict(X_test_s)\n",
    "\n",
    "print('R2: %.3f' % r2_score(y_test, y_pred))\n",
    "print('MSE: %.3f' % mean_squared_error(y_test, y_pred))\n",
    "print('MAE: %.3f' % mean_absolute_error(y_test, y_pred))"
   ]
  },
  {
   "cell_type": "code",
   "execution_count": 99,
   "id": "smooth-illinois",
   "metadata": {
    "id": "smooth-illinois"
   },
   "outputs": [],
   "source": [
    "errorR2 = []\n",
    "errorMSE =[]\n",
    "errorMAE = []\n",
    "for k in range(1,50):\n",
    "    knn = KNeighborsRegressor(n_neighbors=k)\n",
    "    knn.fit(X_train_s,y_train)\n",
    "    y_pred = knn.predict(X_test_s)\n",
    "    errorR2.append(r2_score(y_test,y_pred))\n",
    "    errorMAE.append(mean_absolute_error(y_test,y_pred))\n",
    "    errorMSE.append(mean_squared_error(y_test,y_pred))"
   ]
  },
  {
   "cell_type": "code",
   "execution_count": 100,
   "id": "defensive-superior",
   "metadata": {
    "id": "defensive-superior",
    "outputId": "65d91914-7e01-482f-bc91-b73875262b0d"
   },
   "outputs": [
    {
     "data": {
      "text/plain": [
       "[<matplotlib.lines.Line2D at 0x7effa6007130>]"
      ]
     },
     "execution_count": 100,
     "metadata": {},
     "output_type": "execute_result"
    },
    {
     "data": {
      "image/png": "[encoded data removed]",
      "text/plain": [
       "<Figure size 720x720 with 1 Axes>"
      ]
     },
     "metadata": {
      "needs_background": "light"
     },
     "output_type": "display_data"
    }
   ],
   "source": [
    "plt.rcParams[\"figure.figsize\"] = (10, 10)\n",
    "plt.plot(range(1,50),errorMAE,'bo')\n",
    "plt.plot(range(1,50),errorMSE,'go')\n",
    "plt.plot(range(1,50),errorR2,'ro')"
   ]
  },
  {
   "cell_type": "markdown",
   "id": "described-footwear",
   "metadata": {
    "id": "described-footwear"
   },
   "source": [
    "# Centro vs Sud"
   ]
  },
  {
   "cell_type": "code",
   "execution_count": 40,
   "id": "perfect-defensive",
   "metadata": {
    "id": "perfect-defensive"
   },
   "outputs": [],
   "source": [
    "centroGeoData = allArea[allArea.Direction == 'NORD-SUD']\n",
    "centroGeoData = centroGeoData.reset_index()\n",
    "del centroGeoData['index']"
   ]
  },
  {
   "cell_type": "code",
   "execution_count": 42,
   "id": "further-denial",
   "metadata": {
    "id": "further-denial"
   },
   "outputs": [],
   "source": [
    "dfCentro= createTable(centroGeoData)\n",
    "yCentro = y(dfCentro,allStart)\n",
    "df2Centro = createSet(centroGeoData)\n",
    "df2Centro['y'] = yCentro\n",
    "#df2Centro[attributes] = df2Centro[attributes].fillna(0)"
   ]
  },
  {
   "cell_type": "markdown",
   "id": "relative-backup",
   "metadata": {
    "id": "relative-backup"
   },
   "source": [
    "# Training & test(Centro vs Sud)"
   ]
  },
  {
   "cell_type": "code",
   "execution_count": 105,
   "id": "insured-masters",
   "metadata": {
    "id": "insured-masters"
   },
   "outputs": [],
   "source": [
    "class_name = 'y'\n",
    "\n",
    "attributes = [col for col in df2Centro.columns if col != class_name]\n",
    "X = df2Centro[attributes].values\n",
    "y=df2Centro[class_name]\n",
    "\n",
    "\n",
    "X1 = df2Sud[attributes].values\n",
    "y1=df2Sud[class_name]"
   ]
  },
  {
   "cell_type": "code",
   "execution_count": 106,
   "id": "adaptive-courage",
   "metadata": {
    "id": "adaptive-courage"
   },
   "outputs": [],
   "source": [
    "X_train = X\n",
    "y_train = y\n",
    "\n",
    "X_test = X1\n",
    "y_test = y1"
   ]
  },
  {
   "cell_type": "code",
   "execution_count": 107,
   "id": "posted-messenger",
   "metadata": {
    "id": "posted-messenger"
   },
   "outputs": [],
   "source": [
    "scaler = StandardScaler()\n",
    "\n",
    "\n",
    "X_train_s = scaler.fit_transform(X_train)\n",
    "\n",
    "X_test_s=scaler.transform(X_test)"
   ]
  },
  {
   "cell_type": "code",
   "execution_count": 108,
   "id": "humanitarian-scope",
   "metadata": {
    "id": "humanitarian-scope"
   },
   "outputs": [],
   "source": [
    "errorR2 = []\n",
    "errorMSE =[]\n",
    "errorMAE = []\n",
    "for k in range(1,50):\n",
    "    knn = KNeighborsRegressor(n_neighbors=k)\n",
    "    knn.fit(X_train_s,y_train)\n",
    "    y_pred = knn.predict(X_test_s)\n",
    "    errorR2.append(r2_score(y_test,y_pred))\n",
    "    errorMAE.append(mean_absolute_error(y_test,y_pred))\n",
    "    errorMSE.append(mean_squared_error(y_test,y_pred))"
   ]
  },
  {
   "cell_type": "code",
   "execution_count": 109,
   "id": "miniature-survivor",
   "metadata": {
    "id": "miniature-survivor",
    "outputId": "656150fd-73bf-4b01-f3cf-b902f4f436de"
   },
   "outputs": [
    {
     "data": {
      "text/plain": [
       "[<matplotlib.lines.Line2D at 0x7effa21c3df0>]"
      ]
     },
     "execution_count": 109,
     "metadata": {},
     "output_type": "execute_result"
    },
    {
     "data": {
      "image/png": "[encoded data removed]",
      "text/plain": [
       "<Figure size 720x720 with 1 Axes>"
      ]
     },
     "metadata": {
      "needs_background": "light"
     },
     "output_type": "display_data"
    }
   ],
   "source": [
    "plt.rcParams[\"figure.figsize\"] = (10, 10)\n",
    "plt.plot(range(1,50),errorMAE,'bo')\n",
    "plt.plot(range(1,50),errorMSE,'go')\n",
    "plt.plot(range(1,50),errorR2,'ro')"
   ]
  },
  {
   "cell_type": "code",
   "execution_count": 44,
   "id": "educated-figure",
   "metadata": {
    "id": "educated-figure"
   },
   "outputs": [],
   "source": [
    "df2Centro.to_csv('dfCentroSanFran.csv')\n",
    "df2Nord.to_csv('dfNordSanFran.csv')\n",
    "df2Sud.to_csv('dfSudSaFran.csv')"
   ]
  },
  {
   "cell_type": "code",
   "execution_count": 1,
   "id": "sustained-mexico",
   "metadata": {},
   "outputs": [],
   "source": [
    "import numpy as np"
   ]
  },
  {
   "cell_type": "code",
   "execution_count": null,
   "id": "aboriginal-israeli",
   "metadata": {},
   "outputs": [],
   "source": []
  }
 ],
 "metadata": {
  "colab": {
   "collapsed_sections": [
    "expected-contributor",
    "sunrise-knight",
    "prompt-cross",
    "cooked-tourist",
    "chubby-species",
    "finished-burden",
    "responsible-bridge",
    "spanish-monthly",
    "hollywood-declaration",
    "universal-float",
    "pharmaceutical-chinese",
    "imperial-junction",
    "typical-chicken",
    "communist-contrary",
    "afraid-weapon",
    "ceramic-numbers",
    "confidential-venice",
    "described-footwear",
    "relative-backup",
    "hungarian-reservation",
    "arbitrary-increase"
   ],
   "name": "MachineLearningSanFran.ipynb",
   "provenance": []
  },
  "kernelspec": {
   "display_name": "Python 3",
   "language": "python",
   "name": "python3"
  },
  "language_info": {
   "codemirror_mode": {
    "name": "ipython",
    "version": 3
   },
   "file_extension": ".py",
   "mimetype": "text/x-python",
   "name": "python",
   "nbconvert_exporter": "python",
   "pygments_lexer": "ipython3",
   "version": "3.9.5"
  }
 },
 "nbformat": 4,
 "nbformat_minor": 5
}
